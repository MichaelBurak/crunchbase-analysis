{
 "cells": [
  {
   "cell_type": "markdown",
   "metadata": {
    "toc": true
   },
   "source": [
    "<h1>Table of Contents<span class=\"tocSkip\"></span></h1>\n",
    "<div class=\"toc\"><ul class=\"toc-item\"><li><span><a href=\"#TO-DO:\" data-toc-modified-id=\"TO-DO:-1\"><span class=\"toc-item-num\">1&nbsp;&nbsp;</span>TO DO:</a></span><ul class=\"toc-item\"><li><span><a href=\"#--Add-more-charts-instead-of-value_counts(),-and-a-function-to-replace-that-but-better\" data-toc-modified-id=\"--Add-more-charts-instead-of-value_counts(),-and-a-function-to-replace-that-but-better-1.1\"><span class=\"toc-item-num\">1.1&nbsp;&nbsp;</span>- Add more charts instead of value_counts(), and a function to replace that but better</a></span></li><li><span><a href=\"#--More-noted-feature-engineering-before-modeling-(work-with-different-types-of-variables-like-datetime,-add-variables-derived-from-others)\" data-toc-modified-id=\"--More-noted-feature-engineering-before-modeling-(work-with-different-types-of-variables-like-datetime,-add-variables-derived-from-others)-1.2\"><span class=\"toc-item-num\">1.2&nbsp;&nbsp;</span>- More noted feature engineering before modeling (work with different types of variables like datetime, add variables derived from others)</a></span></li><li><span><a href=\"#--Summary-statistics,-probably-in-that-function-above\" data-toc-modified-id=\"--Summary-statistics,-probably-in-that-function-above-1.3\"><span class=\"toc-item-num\">1.3&nbsp;&nbsp;</span>- Summary statistics, probably in that function above</a></span></li><li><span><a href=\"#--Classifier,-regressor,-and-anomaly-detection--->-labeling-and-classifying-anomalies\" data-toc-modified-id=\"--Classifier,-regressor,-and-anomaly-detection--->-labeling-and-classifying-anomalies-1.4\"><span class=\"toc-item-num\">1.4&nbsp;&nbsp;</span>- Classifier, regressor, and anomaly detection --&gt; labeling and classifying anomalies</a></span></li></ul></li><li><span><a href=\"#Libraries,-initial-data-loading\" data-toc-modified-id=\"Libraries,-initial-data-loading-2\"><span class=\"toc-item-num\">2&nbsp;&nbsp;</span>Libraries, initial data loading</a></span></li><li><span><a href=\"#Beginning-to-look-at-the-data-and-deal-with-nulls\" data-toc-modified-id=\"Beginning-to-look-at-the-data-and-deal-with-nulls-3\"><span class=\"toc-item-num\">3&nbsp;&nbsp;</span>Beginning to look at the data and deal with nulls</a></span><ul class=\"toc-item\"><li><span><a href=\"#still-leaves-plenty-of-rows-and-features!-lets-examine-some-distributions\" data-toc-modified-id=\"still-leaves-plenty-of-rows-and-features!-lets-examine-some-distributions-3.1\"><span class=\"toc-item-num\">3.1&nbsp;&nbsp;</span>still leaves plenty of rows and features! lets examine some distributions</a></span></li><li><span><a href=\"#Renaming-these-odd-columns\" data-toc-modified-id=\"Renaming-these-odd-columns-3.2\"><span class=\"toc-item-num\">3.2&nbsp;&nbsp;</span>Renaming these odd columns</a></span></li><li><span><a href=\"#Dropping-for-lack-of-information\" data-toc-modified-id=\"Dropping-for-lack-of-information-3.3\"><span class=\"toc-item-num\">3.3&nbsp;&nbsp;</span>Dropping for lack of information</a></span></li><li><span><a href=\"#examining-objects-first-as-all-the-floats-are-non-null\" data-toc-modified-id=\"examining-objects-first-as-all-the-floats-are-non-null-3.4\"><span class=\"toc-item-num\">3.4&nbsp;&nbsp;</span>examining objects first as all the floats are non null</a></span></li><li><span><a href=\"#Way-too-many-categories-to-handle!-Whoa!\" data-toc-modified-id=\"Way-too-many-categories-to-handle!-Whoa!-3.5\"><span class=\"toc-item-num\">3.5&nbsp;&nbsp;</span>Way too many categories to handle! Whoa!</a></span></li><li><span><a href=\"#Seems-to-be-an-inflated-version-of-market\" data-toc-modified-id=\"Seems-to-be-an-inflated-version-of-market-3.6\"><span class=\"toc-item-num\">3.6&nbsp;&nbsp;</span>Seems to be an inflated version of market</a></span></li><li><span><a href=\"#A-large-amount-of-0s-in-these-columns,-no-need-to-drop-though,-they-still-provide-information\" data-toc-modified-id=\"A-large-amount-of-0s-in-these-columns,-no-need-to-drop-though,-they-still-provide-information-3.7\"><span class=\"toc-item-num\">3.7&nbsp;&nbsp;</span>A large amount of 0s in these columns, no need to drop though, they still provide information</a></span></li><li><span><a href=\"#--&quot;Random-sampling-imputation-is-in-principle-similar-to-mean-/-median-/-mode-imputation,-in-the-sense-that-it-aims-to-preserve-the-statistical-parameters-of-the-original-variable,-for-which-data-is-missing.&quot;---Soledad-Gali-(Binary-missing-value-indicator-+-random-imputation-on-total-funding-during-train-test-split)\" data-toc-modified-id=\"--&quot;Random-sampling-imputation-is-in-principle-similar-to-mean-/-median-/-mode-imputation,-in-the-sense-that-it-aims-to-preserve-the-statistical-parameters-of-the-original-variable,-for-which-data-is-missing.&quot;---Soledad-Gali-(Binary-missing-value-indicator-+-random-imputation-on-total-funding-during-train-test-split)-3.8\"><span class=\"toc-item-num\">3.8&nbsp;&nbsp;</span>- \"Random sampling imputation is in principle similar to mean / median / mode imputation, in the sense that it aims to preserve the statistical parameters of the original variable, for which data is missing.\" - Soledad Gali (Binary missing value indicator + random imputation on total funding during train test split)</a></span></li><li><span><a href=\"#Geo-vars-starting-with-country-code---to-be-count-and-frequency-encoded-or-one-hot-encoded-and-then-sparse-values-dropped\" data-toc-modified-id=\"Geo-vars-starting-with-country-code---to-be-count-and-frequency-encoded-or-one-hot-encoded-and-then-sparse-values-dropped-3.9\"><span class=\"toc-item-num\">3.9&nbsp;&nbsp;</span>Geo vars starting with country code - to be count and frequency encoded or one hot encoded and then sparse values dropped</a></span></li><li><span><a href=\"#Dummy-variable-and-drop-the-rarely-occurring-regions,-probably-highly-correlated-with-country\" data-toc-modified-id=\"Dummy-variable-and-drop-the-rarely-occurring-regions,-probably-highly-correlated-with-country-3.10\"><span class=\"toc-item-num\">3.10&nbsp;&nbsp;</span>Dummy variable and drop the rarely occurring regions, probably highly correlated with country</a></span></li><li><span><a href=\"#Dropping-city-due-to-presumable-high-correlation,-or-should-it-be-the-other-way-around?\" data-toc-modified-id=\"Dropping-city-due-to-presumable-high-correlation,-or-should-it-be-the-other-way-around?-3.11\"><span class=\"toc-item-num\">3.11&nbsp;&nbsp;</span>Dropping city due to presumable high correlation, or should it be the other way around?</a></span></li><li><span><a href=\"#These-datetime-variables-need-to-be-manipulated,-but-how?\" data-toc-modified-id=\"These-datetime-variables-need-to-be-manipulated,-but-how?-3.12\"><span class=\"toc-item-num\">3.12&nbsp;&nbsp;</span>These datetime variables need to be manipulated, but how?</a></span></li><li><span><a href=\"#The-vast-majority-only-make-it-to-round-1,-does-this-mean-those---are-really-0?\" data-toc-modified-id=\"The-vast-majority-only-make-it-to-round-1,-does-this-mean-those---are-really-0?-3.13\"><span class=\"toc-item-num\">3.13&nbsp;&nbsp;</span>The vast majority only make it to round 1, does this mean those - are really 0?</a></span></li><li><span><a href=\"#Worth-taking-the-difference,-also-seems-like-many-are-rounded-to-the-year\" data-toc-modified-id=\"Worth-taking-the-difference,-also-seems-like-many-are-rounded-to-the-year-3.14\"><span class=\"toc-item-num\">3.14&nbsp;&nbsp;</span>Worth taking the difference, also seems like many are rounded to the year</a></span></li></ul></li><li><span><a href=\"#Outlier-detection-and-viz\" data-toc-modified-id=\"Outlier-detection-and-viz-4\"><span class=\"toc-item-num\">4&nbsp;&nbsp;</span>Outlier detection and viz</a></span><ul class=\"toc-item\"><li><span><a href=\"#Conclusions:\" data-toc-modified-id=\"Conclusions:-4.1\"><span class=\"toc-item-num\">4.1&nbsp;&nbsp;</span>Conclusions:</a></span></li></ul></li><li><span><a href=\"#You-know-what-we're-not-doing-time-series-here\" data-toc-modified-id=\"You-know-what-we're-not-doing-time-series-here-5\"><span class=\"toc-item-num\">5&nbsp;&nbsp;</span>You know what we're not doing time series here</a></span><ul class=\"toc-item\"><li><span><a href=\"#Gotta-impute-those-NaN-first-before-train-test-split!!!\" data-toc-modified-id=\"Gotta-impute-those-NaN-first-before-train-test-split!!!-5.1\"><span class=\"toc-item-num\">5.1&nbsp;&nbsp;</span>Gotta impute those NaN first before train test split!!!</a></span></li><li><span><a href=\"#Oops-I-metrics'd-again\" data-toc-modified-id=\"Oops-I-metrics'd-again-5.2\"><span class=\"toc-item-num\">5.2&nbsp;&nbsp;</span>Oops I metrics'd again</a></span></li></ul></li></ul></div>"
   ]
  },
  {
   "cell_type": "markdown",
   "metadata": {},
   "source": [
    "# TO DO: \n",
    "## - Add more charts instead of value_counts(), and a function to replace that but better\n",
    "## - More noted feature engineering before modeling (work with different types of variables like datetime, add variables derived from others)\n",
    "## - Summary statistics, probably in that function above\n",
    "## - Classifier, regressor, and anomaly detection --> labeling and classifying anomalies"
   ]
  },
  {
   "cell_type": "markdown",
   "metadata": {},
   "source": [
    "# Libraries, initial data loading"
   ]
  },
  {
   "cell_type": "code",
   "execution_count": 1,
   "metadata": {},
   "outputs": [],
   "source": [
    "import numpy as np \n",
    "import pandas as pd \n",
    "import matplotlib.pyplot as plt \n",
    "import seaborn as sns\n",
    "from sklearn.ensemble import IsolationForest"
   ]
  },
  {
   "cell_type": "code",
   "execution_count": 2,
   "metadata": {},
   "outputs": [
    {
     "data": {
      "text/html": [
       "<div>\n",
       "<style scoped>\n",
       "    .dataframe tbody tr th:only-of-type {\n",
       "        vertical-align: middle;\n",
       "    }\n",
       "\n",
       "    .dataframe tbody tr th {\n",
       "        vertical-align: top;\n",
       "    }\n",
       "\n",
       "    .dataframe thead th {\n",
       "        text-align: right;\n",
       "    }\n",
       "</style>\n",
       "<table border=\"1\" class=\"dataframe\">\n",
       "  <thead>\n",
       "    <tr style=\"text-align: right;\">\n",
       "      <th></th>\n",
       "      <th>permalink</th>\n",
       "      <th>name</th>\n",
       "      <th>homepage_url</th>\n",
       "      <th>category_list</th>\n",
       "      <th>market</th>\n",
       "      <th>funding_total_usd</th>\n",
       "      <th>status</th>\n",
       "      <th>country_code</th>\n",
       "      <th>state_code</th>\n",
       "      <th>region</th>\n",
       "      <th>...</th>\n",
       "      <th>secondary_market</th>\n",
       "      <th>product_crowdfunding</th>\n",
       "      <th>round_A</th>\n",
       "      <th>round_B</th>\n",
       "      <th>round_C</th>\n",
       "      <th>round_D</th>\n",
       "      <th>round_E</th>\n",
       "      <th>round_F</th>\n",
       "      <th>round_G</th>\n",
       "      <th>round_H</th>\n",
       "    </tr>\n",
       "  </thead>\n",
       "  <tbody>\n",
       "    <tr>\n",
       "      <td>0</td>\n",
       "      <td>/organization/waywire</td>\n",
       "      <td>#waywire</td>\n",
       "      <td>http://www.waywire.com</td>\n",
       "      <td>|Entertainment|Politics|Social Media|News|</td>\n",
       "      <td>News</td>\n",
       "      <td>17,50,000</td>\n",
       "      <td>acquired</td>\n",
       "      <td>USA</td>\n",
       "      <td>NY</td>\n",
       "      <td>New York City</td>\n",
       "      <td>...</td>\n",
       "      <td>0.0</td>\n",
       "      <td>0.0</td>\n",
       "      <td>0.0</td>\n",
       "      <td>0.0</td>\n",
       "      <td>0.0</td>\n",
       "      <td>0.0</td>\n",
       "      <td>0.0</td>\n",
       "      <td>0.0</td>\n",
       "      <td>0.0</td>\n",
       "      <td>0.0</td>\n",
       "    </tr>\n",
       "    <tr>\n",
       "      <td>1</td>\n",
       "      <td>/organization/tv-communications</td>\n",
       "      <td>&amp;TV Communications</td>\n",
       "      <td>http://enjoyandtv.com</td>\n",
       "      <td>|Games|</td>\n",
       "      <td>Games</td>\n",
       "      <td>40,00,000</td>\n",
       "      <td>operating</td>\n",
       "      <td>USA</td>\n",
       "      <td>CA</td>\n",
       "      <td>Los Angeles</td>\n",
       "      <td>...</td>\n",
       "      <td>0.0</td>\n",
       "      <td>0.0</td>\n",
       "      <td>0.0</td>\n",
       "      <td>0.0</td>\n",
       "      <td>0.0</td>\n",
       "      <td>0.0</td>\n",
       "      <td>0.0</td>\n",
       "      <td>0.0</td>\n",
       "      <td>0.0</td>\n",
       "      <td>0.0</td>\n",
       "    </tr>\n",
       "    <tr>\n",
       "      <td>2</td>\n",
       "      <td>/organization/rock-your-paper</td>\n",
       "      <td>'Rock' Your Paper</td>\n",
       "      <td>http://www.rockyourpaper.org</td>\n",
       "      <td>|Publishing|Education|</td>\n",
       "      <td>Publishing</td>\n",
       "      <td>40,000</td>\n",
       "      <td>operating</td>\n",
       "      <td>EST</td>\n",
       "      <td>NaN</td>\n",
       "      <td>Tallinn</td>\n",
       "      <td>...</td>\n",
       "      <td>0.0</td>\n",
       "      <td>0.0</td>\n",
       "      <td>0.0</td>\n",
       "      <td>0.0</td>\n",
       "      <td>0.0</td>\n",
       "      <td>0.0</td>\n",
       "      <td>0.0</td>\n",
       "      <td>0.0</td>\n",
       "      <td>0.0</td>\n",
       "      <td>0.0</td>\n",
       "    </tr>\n",
       "    <tr>\n",
       "      <td>3</td>\n",
       "      <td>/organization/in-touch-network</td>\n",
       "      <td>(In)Touch Network</td>\n",
       "      <td>http://www.InTouchNetwork.com</td>\n",
       "      <td>|Electronics|Guides|Coffee|Restaurants|Music|i...</td>\n",
       "      <td>Electronics</td>\n",
       "      <td>15,00,000</td>\n",
       "      <td>operating</td>\n",
       "      <td>GBR</td>\n",
       "      <td>NaN</td>\n",
       "      <td>London</td>\n",
       "      <td>...</td>\n",
       "      <td>0.0</td>\n",
       "      <td>0.0</td>\n",
       "      <td>0.0</td>\n",
       "      <td>0.0</td>\n",
       "      <td>0.0</td>\n",
       "      <td>0.0</td>\n",
       "      <td>0.0</td>\n",
       "      <td>0.0</td>\n",
       "      <td>0.0</td>\n",
       "      <td>0.0</td>\n",
       "    </tr>\n",
       "    <tr>\n",
       "      <td>4</td>\n",
       "      <td>/organization/r-ranch-and-mine</td>\n",
       "      <td>-R- Ranch and Mine</td>\n",
       "      <td>NaN</td>\n",
       "      <td>|Tourism|Entertainment|Games|</td>\n",
       "      <td>Tourism</td>\n",
       "      <td>60,000</td>\n",
       "      <td>operating</td>\n",
       "      <td>USA</td>\n",
       "      <td>TX</td>\n",
       "      <td>Dallas</td>\n",
       "      <td>...</td>\n",
       "      <td>0.0</td>\n",
       "      <td>0.0</td>\n",
       "      <td>0.0</td>\n",
       "      <td>0.0</td>\n",
       "      <td>0.0</td>\n",
       "      <td>0.0</td>\n",
       "      <td>0.0</td>\n",
       "      <td>0.0</td>\n",
       "      <td>0.0</td>\n",
       "      <td>0.0</td>\n",
       "    </tr>\n",
       "    <tr>\n",
       "      <td>5</td>\n",
       "      <td>/organization/club-domains</td>\n",
       "      <td>.Club Domains</td>\n",
       "      <td>http://nic.club/</td>\n",
       "      <td>|Software|</td>\n",
       "      <td>Software</td>\n",
       "      <td>70,00,000</td>\n",
       "      <td>NaN</td>\n",
       "      <td>USA</td>\n",
       "      <td>FL</td>\n",
       "      <td>Ft. Lauderdale</td>\n",
       "      <td>...</td>\n",
       "      <td>0.0</td>\n",
       "      <td>0.0</td>\n",
       "      <td>0.0</td>\n",
       "      <td>7000000.0</td>\n",
       "      <td>0.0</td>\n",
       "      <td>0.0</td>\n",
       "      <td>0.0</td>\n",
       "      <td>0.0</td>\n",
       "      <td>0.0</td>\n",
       "      <td>0.0</td>\n",
       "    </tr>\n",
       "    <tr>\n",
       "      <td>6</td>\n",
       "      <td>/organization/fox-networks</td>\n",
       "      <td>.Fox Networks</td>\n",
       "      <td>http://www.dotfox.com</td>\n",
       "      <td>|Advertising|</td>\n",
       "      <td>Advertising</td>\n",
       "      <td>49,12,393</td>\n",
       "      <td>closed</td>\n",
       "      <td>ARG</td>\n",
       "      <td>NaN</td>\n",
       "      <td>Buenos Aires</td>\n",
       "      <td>...</td>\n",
       "      <td>0.0</td>\n",
       "      <td>0.0</td>\n",
       "      <td>0.0</td>\n",
       "      <td>0.0</td>\n",
       "      <td>0.0</td>\n",
       "      <td>0.0</td>\n",
       "      <td>0.0</td>\n",
       "      <td>0.0</td>\n",
       "      <td>0.0</td>\n",
       "      <td>0.0</td>\n",
       "    </tr>\n",
       "    <tr>\n",
       "      <td>7</td>\n",
       "      <td>/organization/0-6-com</td>\n",
       "      <td>0-6.com</td>\n",
       "      <td>http://www.0-6.com</td>\n",
       "      <td>|Curated Web|</td>\n",
       "      <td>Curated Web</td>\n",
       "      <td>20,00,000</td>\n",
       "      <td>operating</td>\n",
       "      <td>NaN</td>\n",
       "      <td>NaN</td>\n",
       "      <td>NaN</td>\n",
       "      <td>...</td>\n",
       "      <td>0.0</td>\n",
       "      <td>0.0</td>\n",
       "      <td>2000000.0</td>\n",
       "      <td>0.0</td>\n",
       "      <td>0.0</td>\n",
       "      <td>0.0</td>\n",
       "      <td>0.0</td>\n",
       "      <td>0.0</td>\n",
       "      <td>0.0</td>\n",
       "      <td>0.0</td>\n",
       "    </tr>\n",
       "    <tr>\n",
       "      <td>8</td>\n",
       "      <td>/organization/004-technologies</td>\n",
       "      <td>004 Technologies</td>\n",
       "      <td>http://004gmbh.de/en/004-interact</td>\n",
       "      <td>|Software|</td>\n",
       "      <td>Software</td>\n",
       "      <td>-</td>\n",
       "      <td>operating</td>\n",
       "      <td>USA</td>\n",
       "      <td>IL</td>\n",
       "      <td>Springfield, Illinois</td>\n",
       "      <td>...</td>\n",
       "      <td>0.0</td>\n",
       "      <td>0.0</td>\n",
       "      <td>0.0</td>\n",
       "      <td>0.0</td>\n",
       "      <td>0.0</td>\n",
       "      <td>0.0</td>\n",
       "      <td>0.0</td>\n",
       "      <td>0.0</td>\n",
       "      <td>0.0</td>\n",
       "      <td>0.0</td>\n",
       "    </tr>\n",
       "    <tr>\n",
       "      <td>9</td>\n",
       "      <td>/organization/01games-technology</td>\n",
       "      <td>01Games Technology</td>\n",
       "      <td>http://www.01games.hk/</td>\n",
       "      <td>|Games|</td>\n",
       "      <td>Games</td>\n",
       "      <td>41,250</td>\n",
       "      <td>operating</td>\n",
       "      <td>HKG</td>\n",
       "      <td>NaN</td>\n",
       "      <td>Hong Kong</td>\n",
       "      <td>...</td>\n",
       "      <td>0.0</td>\n",
       "      <td>0.0</td>\n",
       "      <td>0.0</td>\n",
       "      <td>0.0</td>\n",
       "      <td>0.0</td>\n",
       "      <td>0.0</td>\n",
       "      <td>0.0</td>\n",
       "      <td>0.0</td>\n",
       "      <td>0.0</td>\n",
       "      <td>0.0</td>\n",
       "    </tr>\n",
       "  </tbody>\n",
       "</table>\n",
       "<p>10 rows × 39 columns</p>\n",
       "</div>"
      ],
      "text/plain": [
       "                          permalink                name  \\\n",
       "0             /organization/waywire            #waywire   \n",
       "1   /organization/tv-communications  &TV Communications   \n",
       "2     /organization/rock-your-paper   'Rock' Your Paper   \n",
       "3    /organization/in-touch-network   (In)Touch Network   \n",
       "4    /organization/r-ranch-and-mine  -R- Ranch and Mine   \n",
       "5        /organization/club-domains       .Club Domains   \n",
       "6        /organization/fox-networks       .Fox Networks   \n",
       "7             /organization/0-6-com             0-6.com   \n",
       "8    /organization/004-technologies    004 Technologies   \n",
       "9  /organization/01games-technology  01Games Technology   \n",
       "\n",
       "                        homepage_url  \\\n",
       "0             http://www.waywire.com   \n",
       "1              http://enjoyandtv.com   \n",
       "2       http://www.rockyourpaper.org   \n",
       "3      http://www.InTouchNetwork.com   \n",
       "4                                NaN   \n",
       "5                   http://nic.club/   \n",
       "6              http://www.dotfox.com   \n",
       "7                 http://www.0-6.com   \n",
       "8  http://004gmbh.de/en/004-interact   \n",
       "9             http://www.01games.hk/   \n",
       "\n",
       "                                       category_list        market   \\\n",
       "0         |Entertainment|Politics|Social Media|News|          News    \n",
       "1                                            |Games|         Games    \n",
       "2                             |Publishing|Education|    Publishing    \n",
       "3  |Electronics|Guides|Coffee|Restaurants|Music|i...   Electronics    \n",
       "4                      |Tourism|Entertainment|Games|       Tourism    \n",
       "5                                         |Software|      Software    \n",
       "6                                      |Advertising|   Advertising    \n",
       "7                                      |Curated Web|   Curated Web    \n",
       "8                                         |Software|      Software    \n",
       "9                                            |Games|         Games    \n",
       "\n",
       "   funding_total_usd      status country_code state_code  \\\n",
       "0          17,50,000    acquired          USA         NY   \n",
       "1          40,00,000   operating          USA         CA   \n",
       "2             40,000   operating          EST        NaN   \n",
       "3          15,00,000   operating          GBR        NaN   \n",
       "4             60,000   operating          USA         TX   \n",
       "5          70,00,000         NaN          USA         FL   \n",
       "6          49,12,393      closed          ARG        NaN   \n",
       "7          20,00,000   operating          NaN        NaN   \n",
       "8                -     operating          USA         IL   \n",
       "9             41,250   operating          HKG        NaN   \n",
       "\n",
       "                  region  ... secondary_market  product_crowdfunding  \\\n",
       "0          New York City  ...              0.0                   0.0   \n",
       "1            Los Angeles  ...              0.0                   0.0   \n",
       "2                Tallinn  ...              0.0                   0.0   \n",
       "3                 London  ...              0.0                   0.0   \n",
       "4                 Dallas  ...              0.0                   0.0   \n",
       "5         Ft. Lauderdale  ...              0.0                   0.0   \n",
       "6           Buenos Aires  ...              0.0                   0.0   \n",
       "7                    NaN  ...              0.0                   0.0   \n",
       "8  Springfield, Illinois  ...              0.0                   0.0   \n",
       "9              Hong Kong  ...              0.0                   0.0   \n",
       "\n",
       "     round_A    round_B round_C  round_D round_E round_F  round_G  round_H  \n",
       "0        0.0        0.0     0.0      0.0     0.0     0.0      0.0      0.0  \n",
       "1        0.0        0.0     0.0      0.0     0.0     0.0      0.0      0.0  \n",
       "2        0.0        0.0     0.0      0.0     0.0     0.0      0.0      0.0  \n",
       "3        0.0        0.0     0.0      0.0     0.0     0.0      0.0      0.0  \n",
       "4        0.0        0.0     0.0      0.0     0.0     0.0      0.0      0.0  \n",
       "5        0.0  7000000.0     0.0      0.0     0.0     0.0      0.0      0.0  \n",
       "6        0.0        0.0     0.0      0.0     0.0     0.0      0.0      0.0  \n",
       "7  2000000.0        0.0     0.0      0.0     0.0     0.0      0.0      0.0  \n",
       "8        0.0        0.0     0.0      0.0     0.0     0.0      0.0      0.0  \n",
       "9        0.0        0.0     0.0      0.0     0.0     0.0      0.0      0.0  \n",
       "\n",
       "[10 rows x 39 columns]"
      ]
     },
     "execution_count": 2,
     "metadata": {},
     "output_type": "execute_result"
    }
   ],
   "source": [
    "with open('investments_VC.csv', 'r', newline='', encoding='ISO-8859-1') as csvfile:\n",
    "    df = pd.read_csv(csvfile)\n",
    "\n",
    "df.head(10)"
   ]
  },
  {
   "cell_type": "markdown",
   "metadata": {},
   "source": [
    "# Beginning to look at the data and deal with nulls"
   ]
  },
  {
   "cell_type": "code",
   "execution_count": 3,
   "metadata": {},
   "outputs": [
    {
     "data": {
      "text/plain": [
       "(54294, 39)"
      ]
     },
     "execution_count": 3,
     "metadata": {},
     "output_type": "execute_result"
    }
   ],
   "source": [
    "df.shape"
   ]
  },
  {
   "cell_type": "code",
   "execution_count": 4,
   "metadata": {},
   "outputs": [
    {
     "data": {
      "text/plain": [
       "permalink                8.943898\n",
       "undisclosed              8.943898\n",
       "convertible_note         8.943898\n",
       "debt_financing           8.943898\n",
       "angel                    8.943898\n",
       "grant                    8.943898\n",
       "private_equity           8.943898\n",
       "post_ipo_equity          8.943898\n",
       "equity_crowdfunding      8.943898\n",
       "post_ipo_debt            8.943898\n",
       "product_crowdfunding     8.943898\n",
       "round_A                  8.943898\n",
       "round_B                  8.943898\n",
       "round_C                  8.943898\n",
       "round_D                  8.943898\n",
       "round_E                  8.943898\n",
       "round_F                  8.943898\n",
       "secondary_market         8.943898\n",
       "round_G                  8.943898\n",
       "venture                  8.943898\n",
       "last_funding_at          8.943898\n",
       " funding_total_usd       8.943898\n",
       "seed                     8.943898\n",
       "funding_rounds           8.943898\n",
       "round_H                  8.943898\n",
       "first_funding_at         8.943898\n",
       "name                     8.945740\n",
       "status                  11.364055\n",
       "homepage_url            15.296350\n",
       "category_list           16.239363\n",
       " market                 16.252256\n",
       "region                  18.655837\n",
       "country_code            18.655837\n",
       "city                    20.208494\n",
       "founded_at              28.990312\n",
       "founded_quarter         29.122923\n",
       "founded_year            29.122923\n",
       "founded_month           29.122923\n",
       "state_code              44.448742\n",
       "dtype: float64"
      ]
     },
     "execution_count": 4,
     "metadata": {},
     "output_type": "execute_result"
    }
   ],
   "source": [
    "perct_missing_values = df.isnull().sum()*100 / len(df)\n",
    "perct_missing_values.sort_values()"
   ]
  },
  {
   "cell_type": "code",
   "execution_count": 5,
   "metadata": {},
   "outputs": [
    {
     "data": {
      "text/plain": [
       "permalink                0.000000\n",
       "undisclosed              0.000000\n",
       "convertible_note         0.000000\n",
       "debt_financing           0.000000\n",
       "angel                    0.000000\n",
       "grant                    0.000000\n",
       "private_equity           0.000000\n",
       "post_ipo_equity          0.000000\n",
       "equity_crowdfunding      0.000000\n",
       "post_ipo_debt            0.000000\n",
       "product_crowdfunding     0.000000\n",
       "round_A                  0.000000\n",
       "round_B                  0.000000\n",
       "round_C                  0.000000\n",
       "round_D                  0.000000\n",
       "round_E                  0.000000\n",
       "round_F                  0.000000\n",
       "secondary_market         0.000000\n",
       "round_G                  0.000000\n",
       "venture                  0.000000\n",
       "last_funding_at          0.000000\n",
       "name                     0.000000\n",
       " funding_total_usd       0.000000\n",
       "seed                     0.000000\n",
       "funding_rounds           0.000000\n",
       "round_H                  0.000000\n",
       "first_funding_at         0.000000\n",
       "status                   2.657928\n",
       "homepage_url             6.976556\n",
       "category_list            8.012218\n",
       " market                  8.026377\n",
       "region                  10.664078\n",
       "country_code            10.664078\n",
       "city                    12.369278\n",
       "founded_at              22.015899\n",
       "founded_month           22.161539\n",
       "founded_quarter         22.161539\n",
       "founded_year            22.161539\n",
       "state_code              38.991039\n",
       "dtype: float64"
      ]
     },
     "execution_count": 5,
     "metadata": {},
     "output_type": "execute_result"
    }
   ],
   "source": [
    "df = df[df['name'].notna()]\n",
    "\n",
    "perct_missing_values = df.isnull().sum()*100 / len(df)\n",
    "perct_missing_values.sort_values()"
   ]
  },
  {
   "cell_type": "code",
   "execution_count": 6,
   "metadata": {},
   "outputs": [
    {
     "data": {
      "text/plain": [
       "permalink               0.000000\n",
       "convertible_note        0.000000\n",
       "debt_financing          0.000000\n",
       "angel                   0.000000\n",
       "grant                   0.000000\n",
       "private_equity          0.000000\n",
       "post_ipo_equity         0.000000\n",
       "post_ipo_debt           0.000000\n",
       "secondary_market        0.000000\n",
       "product_crowdfunding    0.000000\n",
       "round_A                 0.000000\n",
       "round_B                 0.000000\n",
       "round_C                 0.000000\n",
       "round_D                 0.000000\n",
       "round_E                 0.000000\n",
       "round_F                 0.000000\n",
       "undisclosed             0.000000\n",
       "equity_crowdfunding     0.000000\n",
       "venture                 0.000000\n",
       "seed                    0.000000\n",
       "name                    0.000000\n",
       " funding_total_usd      0.000000\n",
       "round_G                 0.000000\n",
       "funding_rounds          0.000000\n",
       "founded_at              0.000000\n",
       "round_H                 0.000000\n",
       "founded_quarter         0.000000\n",
       "founded_year            0.000000\n",
       "first_funding_at        0.000000\n",
       "last_funding_at         0.000000\n",
       "founded_month           0.000000\n",
       "status                  2.385593\n",
       "category_list           5.137600\n",
       " market                 5.150594\n",
       "homepage_url            5.558587\n",
       "country_code            7.874016\n",
       "region                  7.874016\n",
       "city                    9.014838\n",
       "dtype: float64"
      ]
     },
     "execution_count": 6,
     "metadata": {},
     "output_type": "execute_result"
    }
   ],
   "source": [
    "df.drop('state_code', axis=1,inplace=True)\n",
    "\n",
    "df = df[df['founded_year'].notna()]\n",
    "\n",
    "perct_missing_values = df.isnull().sum()*100 / len(df)\n",
    "perct_missing_values.sort_values()"
   ]
  },
  {
   "cell_type": "code",
   "execution_count": 7,
   "metadata": {},
   "outputs": [
    {
     "data": {
      "text/plain": [
       "(38481, 38)"
      ]
     },
     "execution_count": 7,
     "metadata": {},
     "output_type": "execute_result"
    }
   ],
   "source": [
    "df.shape"
   ]
  },
  {
   "cell_type": "markdown",
   "metadata": {},
   "source": [
    "## still leaves plenty of rows and features! lets examine some distributions"
   ]
  },
  {
   "cell_type": "code",
   "execution_count": 8,
   "metadata": {},
   "outputs": [
    {
     "data": {
      "text/html": [
       "<div>\n",
       "<style scoped>\n",
       "    .dataframe tbody tr th:only-of-type {\n",
       "        vertical-align: middle;\n",
       "    }\n",
       "\n",
       "    .dataframe tbody tr th {\n",
       "        vertical-align: top;\n",
       "    }\n",
       "\n",
       "    .dataframe thead th {\n",
       "        text-align: right;\n",
       "    }\n",
       "</style>\n",
       "<table border=\"1\" class=\"dataframe\">\n",
       "  <thead>\n",
       "    <tr style=\"text-align: right;\">\n",
       "      <th></th>\n",
       "      <th>permalink</th>\n",
       "      <th>name</th>\n",
       "      <th>homepage_url</th>\n",
       "      <th>category_list</th>\n",
       "      <th>market</th>\n",
       "      <th>funding_total_usd</th>\n",
       "      <th>status</th>\n",
       "      <th>country_code</th>\n",
       "      <th>region</th>\n",
       "      <th>city</th>\n",
       "      <th>...</th>\n",
       "      <th>secondary_market</th>\n",
       "      <th>product_crowdfunding</th>\n",
       "      <th>round_A</th>\n",
       "      <th>round_B</th>\n",
       "      <th>round_C</th>\n",
       "      <th>round_D</th>\n",
       "      <th>round_E</th>\n",
       "      <th>round_F</th>\n",
       "      <th>round_G</th>\n",
       "      <th>round_H</th>\n",
       "    </tr>\n",
       "  </thead>\n",
       "  <tbody>\n",
       "    <tr>\n",
       "      <td>0</td>\n",
       "      <td>/organization/waywire</td>\n",
       "      <td>#waywire</td>\n",
       "      <td>http://www.waywire.com</td>\n",
       "      <td>|Entertainment|Politics|Social Media|News|</td>\n",
       "      <td>News</td>\n",
       "      <td>17,50,000</td>\n",
       "      <td>acquired</td>\n",
       "      <td>USA</td>\n",
       "      <td>New York City</td>\n",
       "      <td>New York</td>\n",
       "      <td>...</td>\n",
       "      <td>0.0</td>\n",
       "      <td>0.0</td>\n",
       "      <td>0.0</td>\n",
       "      <td>0.0</td>\n",
       "      <td>0.0</td>\n",
       "      <td>0.0</td>\n",
       "      <td>0.0</td>\n",
       "      <td>0.0</td>\n",
       "      <td>0.0</td>\n",
       "      <td>0.0</td>\n",
       "    </tr>\n",
       "    <tr>\n",
       "      <td>2</td>\n",
       "      <td>/organization/rock-your-paper</td>\n",
       "      <td>'Rock' Your Paper</td>\n",
       "      <td>http://www.rockyourpaper.org</td>\n",
       "      <td>|Publishing|Education|</td>\n",
       "      <td>Publishing</td>\n",
       "      <td>40,000</td>\n",
       "      <td>operating</td>\n",
       "      <td>EST</td>\n",
       "      <td>Tallinn</td>\n",
       "      <td>Tallinn</td>\n",
       "      <td>...</td>\n",
       "      <td>0.0</td>\n",
       "      <td>0.0</td>\n",
       "      <td>0.0</td>\n",
       "      <td>0.0</td>\n",
       "      <td>0.0</td>\n",
       "      <td>0.0</td>\n",
       "      <td>0.0</td>\n",
       "      <td>0.0</td>\n",
       "      <td>0.0</td>\n",
       "      <td>0.0</td>\n",
       "    </tr>\n",
       "    <tr>\n",
       "      <td>3</td>\n",
       "      <td>/organization/in-touch-network</td>\n",
       "      <td>(In)Touch Network</td>\n",
       "      <td>http://www.InTouchNetwork.com</td>\n",
       "      <td>|Electronics|Guides|Coffee|Restaurants|Music|i...</td>\n",
       "      <td>Electronics</td>\n",
       "      <td>15,00,000</td>\n",
       "      <td>operating</td>\n",
       "      <td>GBR</td>\n",
       "      <td>London</td>\n",
       "      <td>London</td>\n",
       "      <td>...</td>\n",
       "      <td>0.0</td>\n",
       "      <td>0.0</td>\n",
       "      <td>0.0</td>\n",
       "      <td>0.0</td>\n",
       "      <td>0.0</td>\n",
       "      <td>0.0</td>\n",
       "      <td>0.0</td>\n",
       "      <td>0.0</td>\n",
       "      <td>0.0</td>\n",
       "      <td>0.0</td>\n",
       "    </tr>\n",
       "    <tr>\n",
       "      <td>4</td>\n",
       "      <td>/organization/r-ranch-and-mine</td>\n",
       "      <td>-R- Ranch and Mine</td>\n",
       "      <td>NaN</td>\n",
       "      <td>|Tourism|Entertainment|Games|</td>\n",
       "      <td>Tourism</td>\n",
       "      <td>60,000</td>\n",
       "      <td>operating</td>\n",
       "      <td>USA</td>\n",
       "      <td>Dallas</td>\n",
       "      <td>Fort Worth</td>\n",
       "      <td>...</td>\n",
       "      <td>0.0</td>\n",
       "      <td>0.0</td>\n",
       "      <td>0.0</td>\n",
       "      <td>0.0</td>\n",
       "      <td>0.0</td>\n",
       "      <td>0.0</td>\n",
       "      <td>0.0</td>\n",
       "      <td>0.0</td>\n",
       "      <td>0.0</td>\n",
       "      <td>0.0</td>\n",
       "    </tr>\n",
       "    <tr>\n",
       "      <td>5</td>\n",
       "      <td>/organization/club-domains</td>\n",
       "      <td>.Club Domains</td>\n",
       "      <td>http://nic.club/</td>\n",
       "      <td>|Software|</td>\n",
       "      <td>Software</td>\n",
       "      <td>70,00,000</td>\n",
       "      <td>NaN</td>\n",
       "      <td>USA</td>\n",
       "      <td>Ft. Lauderdale</td>\n",
       "      <td>Oakland Park</td>\n",
       "      <td>...</td>\n",
       "      <td>0.0</td>\n",
       "      <td>0.0</td>\n",
       "      <td>0.0</td>\n",
       "      <td>7000000.0</td>\n",
       "      <td>0.0</td>\n",
       "      <td>0.0</td>\n",
       "      <td>0.0</td>\n",
       "      <td>0.0</td>\n",
       "      <td>0.0</td>\n",
       "      <td>0.0</td>\n",
       "    </tr>\n",
       "  </tbody>\n",
       "</table>\n",
       "<p>5 rows × 38 columns</p>\n",
       "</div>"
      ],
      "text/plain": [
       "                        permalink                name  \\\n",
       "0           /organization/waywire            #waywire   \n",
       "2   /organization/rock-your-paper   'Rock' Your Paper   \n",
       "3  /organization/in-touch-network   (In)Touch Network   \n",
       "4  /organization/r-ranch-and-mine  -R- Ranch and Mine   \n",
       "5      /organization/club-domains       .Club Domains   \n",
       "\n",
       "                    homepage_url  \\\n",
       "0         http://www.waywire.com   \n",
       "2   http://www.rockyourpaper.org   \n",
       "3  http://www.InTouchNetwork.com   \n",
       "4                            NaN   \n",
       "5               http://nic.club/   \n",
       "\n",
       "                                       category_list        market   \\\n",
       "0         |Entertainment|Politics|Social Media|News|          News    \n",
       "2                             |Publishing|Education|    Publishing    \n",
       "3  |Electronics|Guides|Coffee|Restaurants|Music|i...   Electronics    \n",
       "4                      |Tourism|Entertainment|Games|       Tourism    \n",
       "5                                         |Software|      Software    \n",
       "\n",
       "   funding_total_usd      status country_code          region          city  \\\n",
       "0          17,50,000    acquired          USA   New York City      New York   \n",
       "2             40,000   operating          EST         Tallinn       Tallinn   \n",
       "3          15,00,000   operating          GBR          London        London   \n",
       "4             60,000   operating          USA          Dallas    Fort Worth   \n",
       "5          70,00,000         NaN          USA  Ft. Lauderdale  Oakland Park   \n",
       "\n",
       "   ...  secondary_market product_crowdfunding round_A    round_B  round_C  \\\n",
       "0  ...               0.0                  0.0     0.0        0.0      0.0   \n",
       "2  ...               0.0                  0.0     0.0        0.0      0.0   \n",
       "3  ...               0.0                  0.0     0.0        0.0      0.0   \n",
       "4  ...               0.0                  0.0     0.0        0.0      0.0   \n",
       "5  ...               0.0                  0.0     0.0  7000000.0      0.0   \n",
       "\n",
       "  round_D round_E  round_F  round_G  round_H  \n",
       "0     0.0     0.0      0.0      0.0      0.0  \n",
       "2     0.0     0.0      0.0      0.0      0.0  \n",
       "3     0.0     0.0      0.0      0.0      0.0  \n",
       "4     0.0     0.0      0.0      0.0      0.0  \n",
       "5     0.0     0.0      0.0      0.0      0.0  \n",
       "\n",
       "[5 rows x 38 columns]"
      ]
     },
     "execution_count": 8,
     "metadata": {},
     "output_type": "execute_result"
    }
   ],
   "source": [
    "df.head()"
   ]
  },
  {
   "cell_type": "code",
   "execution_count": 9,
   "metadata": {},
   "outputs": [
    {
     "data": {
      "text/plain": [
       "Index(['permalink', 'name', 'homepage_url', 'category_list', ' market ',\n",
       "       ' funding_total_usd ', 'status', 'country_code', 'region', 'city',\n",
       "       'funding_rounds', 'founded_at', 'founded_month', 'founded_quarter',\n",
       "       'founded_year', 'first_funding_at', 'last_funding_at', 'seed',\n",
       "       'venture', 'equity_crowdfunding', 'undisclosed', 'convertible_note',\n",
       "       'debt_financing', 'angel', 'grant', 'private_equity', 'post_ipo_equity',\n",
       "       'post_ipo_debt', 'secondary_market', 'product_crowdfunding', 'round_A',\n",
       "       'round_B', 'round_C', 'round_D', 'round_E', 'round_F', 'round_G',\n",
       "       'round_H'],\n",
       "      dtype='object')"
      ]
     },
     "execution_count": 9,
     "metadata": {},
     "output_type": "execute_result"
    }
   ],
   "source": [
    "df.columns"
   ]
  },
  {
   "cell_type": "markdown",
   "metadata": {},
   "source": [
    "## Renaming these odd columns"
   ]
  },
  {
   "cell_type": "code",
   "execution_count": 10,
   "metadata": {
    "scrolled": true
   },
   "outputs": [
    {
     "data": {
      "text/plain": [
       "Index(['permalink', 'name', 'homepage_url', 'category_list', 'market',\n",
       "       'funding_total_usd', 'status', 'country_code', 'region', 'city',\n",
       "       'funding_rounds', 'founded_at', 'founded_month', 'founded_quarter',\n",
       "       'founded_year', 'first_funding_at', 'last_funding_at', 'seed',\n",
       "       'venture', 'equity_crowdfunding', 'undisclosed', 'convertible_note',\n",
       "       'debt_financing', 'angel', 'grant', 'private_equity', 'post_ipo_equity',\n",
       "       'post_ipo_debt', 'secondary_market', 'product_crowdfunding', 'round_A',\n",
       "       'round_B', 'round_C', 'round_D', 'round_E', 'round_F', 'round_G',\n",
       "       'round_H'],\n",
       "      dtype='object')"
      ]
     },
     "execution_count": 10,
     "metadata": {},
     "output_type": "execute_result"
    }
   ],
   "source": [
    "df= df.rename(columns={' market ':\"market\",' funding_total_usd ':\"funding_total_usd\"})\n",
    "df.columns"
   ]
  },
  {
   "cell_type": "markdown",
   "metadata": {},
   "source": [
    "## Dropping for lack of information"
   ]
  },
  {
   "cell_type": "code",
   "execution_count": 11,
   "metadata": {
    "scrolled": true
   },
   "outputs": [
    {
     "name": "stdout",
     "output_type": "stream",
     "text": [
      "<class 'pandas.core.frame.DataFrame'>\n",
      "Int64Index: 38481 entries, 0 to 49437\n",
      "Data columns (total 36 columns):\n",
      "name                    38481 non-null object\n",
      "category_list           36504 non-null object\n",
      "market                  36499 non-null object\n",
      "funding_total_usd       38481 non-null object\n",
      "status                  37563 non-null object\n",
      "country_code            35451 non-null object\n",
      "region                  35451 non-null object\n",
      "city                    35012 non-null object\n",
      "funding_rounds          38481 non-null float64\n",
      "founded_at              38481 non-null object\n",
      "founded_month           38481 non-null object\n",
      "founded_quarter         38481 non-null object\n",
      "founded_year            38481 non-null float64\n",
      "first_funding_at        38481 non-null object\n",
      "last_funding_at         38481 non-null object\n",
      "seed                    38481 non-null float64\n",
      "venture                 38481 non-null float64\n",
      "equity_crowdfunding     38481 non-null float64\n",
      "undisclosed             38481 non-null float64\n",
      "convertible_note        38481 non-null float64\n",
      "debt_financing          38481 non-null float64\n",
      "angel                   38481 non-null float64\n",
      "grant                   38481 non-null float64\n",
      "private_equity          38481 non-null float64\n",
      "post_ipo_equity         38481 non-null float64\n",
      "post_ipo_debt           38481 non-null float64\n",
      "secondary_market        38481 non-null float64\n",
      "product_crowdfunding    38481 non-null float64\n",
      "round_A                 38481 non-null float64\n",
      "round_B                 38481 non-null float64\n",
      "round_C                 38481 non-null float64\n",
      "round_D                 38481 non-null float64\n",
      "round_E                 38481 non-null float64\n",
      "round_F                 38481 non-null float64\n",
      "round_G                 38481 non-null float64\n",
      "round_H                 38481 non-null float64\n",
      "dtypes: float64(23), object(13)\n",
      "memory usage: 10.9+ MB\n"
     ]
    }
   ],
   "source": [
    "df.drop(['permalink', 'homepage_url'], axis=1, inplace= True)\n",
    "\n",
    "df.info()"
   ]
  },
  {
   "cell_type": "markdown",
   "metadata": {},
   "source": [
    "## examining objects first as all the floats are non null"
   ]
  },
  {
   "cell_type": "markdown",
   "metadata": {},
   "source": [
    "## Way too many categories to handle! Whoa!"
   ]
  },
  {
   "cell_type": "code",
   "execution_count": 12,
   "metadata": {},
   "outputs": [
    {
     "data": {
      "text/plain": [
       "|Software|                                                     2880\n",
       "|Biotechnology|                                                2395\n",
       "NaN                                                            1977\n",
       "|E-Commerce|                                                    946\n",
       "|Mobile|                                                        897\n",
       "                                                               ... \n",
       "|Software|Storage|Cloud Computing|Web Hosting|                    1\n",
       "|Collaboration|Enterprises|Mobile|Enterprise Software|            1\n",
       "|Physicians|Medical|mHealth|Mobile Health|Health Care|            1\n",
       "|Productivity Software|Mobile|Peer-to-Peer|File Sharing|          1\n",
       "|Health Care|Health and Wellness|Gas|Medical|Biotechnology|       1\n",
       "Name: category_list, Length: 15059, dtype: int64"
      ]
     },
     "execution_count": 12,
     "metadata": {},
     "output_type": "execute_result"
    }
   ],
   "source": [
    "df.category_list.value_counts(dropna=False)"
   ]
  },
  {
   "cell_type": "markdown",
   "metadata": {},
   "source": [
    "## Seems to be an inflated version of market"
   ]
  },
  {
   "cell_type": "code",
   "execution_count": 14,
   "metadata": {
    "scrolled": true
   },
   "outputs": [
    {
     "data": {
      "text/plain": [
       " Software                   3784\n",
       " Biotechnology              2463\n",
       "NaN                         1982\n",
       " Mobile                     1602\n",
       " E-Commerce                 1454\n",
       "                            ... \n",
       " ICT                           1\n",
       " Lotteries                     1\n",
       " Quantitative Marketing        1\n",
       " Service Industries            1\n",
       " Commercial Solar              1\n",
       "Name: market, Length: 736, dtype: int64"
      ]
     },
     "execution_count": 14,
     "metadata": {},
     "output_type": "execute_result"
    }
   ],
   "source": [
    "df.market.value_counts(dropna=False)"
   ]
  },
  {
   "cell_type": "code",
   "execution_count": 15,
   "metadata": {},
   "outputs": [],
   "source": [
    "df.drop('category_list',axis=1,inplace=True)"
   ]
  },
  {
   "cell_type": "code",
   "execution_count": 16,
   "metadata": {},
   "outputs": [
    {
     "data": {
      "text/plain": [
       "<matplotlib.axes._subplots.AxesSubplot at 0x12839a128>"
      ]
     },
     "execution_count": 16,
     "metadata": {},
     "output_type": "execute_result"
    },
    {
     "data": {
      "image/png": "[encoded data removed]",
      "text/plain": [
       "<Figure size 432x288 with 1 Axes>"
      ]
     },
     "metadata": {
      "needs_background": "light"
     },
     "output_type": "display_data"
    }
   ],
   "source": [
    "sns.countplot(y=\"market\",data=df, palette='Pastel1',\n",
    "              order=df.market.value_counts().iloc[:10].index)"
   ]
  },
  {
   "cell_type": "code",
   "execution_count": 17,
   "metadata": {
    "scrolled": true
   },
   "outputs": [
    {
     "data": {
      "text/plain": [
       " -               6347\n",
       " 10,00,000        699\n",
       " 1,00,000         611\n",
       " 5,00,000         606\n",
       " 20,00,000        476\n",
       "                 ... \n",
       " 47,10,000          1\n",
       " 29,73,267          1\n",
       " 1,89,05,096        1\n",
       " 37,62,066          1\n",
       " 45,49,999          1\n",
       "Name: funding_total_usd, Length: 11919, dtype: int64"
      ]
     },
     "execution_count": 17,
     "metadata": {},
     "output_type": "execute_result"
    }
   ],
   "source": [
    "df['funding_total_usd'].value_counts(dropna=False)"
   ]
  },
  {
   "cell_type": "code",
   "execution_count": 18,
   "metadata": {},
   "outputs": [
    {
     "data": {
      "text/plain": [
       " -            6347\n",
       " 1000000       699\n",
       " 100000        611\n",
       " 500000        606\n",
       " 2000000       476\n",
       "              ... \n",
       " 17628255        1\n",
       " 73900000        1\n",
       " 3658651         1\n",
       " 4010000         1\n",
       " 16356028        1\n",
       "Name: funding_total_usd, Length: 11919, dtype: int64"
      ]
     },
     "execution_count": 18,
     "metadata": {},
     "output_type": "execute_result"
    }
   ],
   "source": [
    "df['funding_total_usd'] = df['funding_total_usd'].replace(',','', regex=True)\n",
    "df['funding_total_usd'].value_counts(dropna=False)"
   ]
  },
  {
   "cell_type": "code",
   "execution_count": 19,
   "metadata": {},
   "outputs": [
    {
     "data": {
      "text/plain": [
       "operating    32597\n",
       "acquired      2971\n",
       "closed        1995\n",
       "NaN            918\n",
       "Name: status, dtype: int64"
      ]
     },
     "execution_count": 19,
     "metadata": {},
     "output_type": "execute_result"
    }
   ],
   "source": [
    "#this is the target variable, we can spare some dropped NAN\n",
    "df.status.value_counts(dropna=False)"
   ]
  },
  {
   "cell_type": "code",
   "execution_count": 20,
   "metadata": {
    "scrolled": true
   },
   "outputs": [
    {
     "name": "stdout",
     "output_type": "stream",
     "text": [
      "<class 'pandas.core.frame.DataFrame'>\n",
      "Int64Index: 37563 entries, 0 to 49437\n",
      "Data columns (total 35 columns):\n",
      "name                    37563 non-null object\n",
      "market                  35762 non-null object\n",
      "funding_total_usd       37563 non-null object\n",
      "status                  37563 non-null object\n",
      "country_code            34627 non-null object\n",
      "region                  34627 non-null object\n",
      "city                    34206 non-null object\n",
      "funding_rounds          37563 non-null float64\n",
      "founded_at              37563 non-null object\n",
      "founded_month           37563 non-null object\n",
      "founded_quarter         37563 non-null object\n",
      "founded_year            37563 non-null float64\n",
      "first_funding_at        37563 non-null object\n",
      "last_funding_at         37563 non-null object\n",
      "seed                    37563 non-null float64\n",
      "venture                 37563 non-null float64\n",
      "equity_crowdfunding     37563 non-null float64\n",
      "undisclosed             37563 non-null float64\n",
      "convertible_note        37563 non-null float64\n",
      "debt_financing          37563 non-null float64\n",
      "angel                   37563 non-null float64\n",
      "grant                   37563 non-null float64\n",
      "private_equity          37563 non-null float64\n",
      "post_ipo_equity         37563 non-null float64\n",
      "post_ipo_debt           37563 non-null float64\n",
      "secondary_market        37563 non-null float64\n",
      "product_crowdfunding    37563 non-null float64\n",
      "round_A                 37563 non-null float64\n",
      "round_B                 37563 non-null float64\n",
      "round_C                 37563 non-null float64\n",
      "round_D                 37563 non-null float64\n",
      "round_E                 37563 non-null float64\n",
      "round_F                 37563 non-null float64\n",
      "round_G                 37563 non-null float64\n",
      "round_H                 37563 non-null float64\n",
      "dtypes: float64(23), object(12)\n",
      "memory usage: 10.3+ MB\n"
     ]
    }
   ],
   "source": [
    "df = df[df['status'].notna()]\n",
    "\n",
    "df.info()"
   ]
  },
  {
   "cell_type": "markdown",
   "metadata": {},
   "source": [
    "## A large amount of 0s in these columns, no need to drop though, they still provide information"
   ]
  },
  {
   "cell_type": "code",
   "execution_count": 21,
   "metadata": {
    "scrolled": true
   },
   "outputs": [
    {
     "data": {
      "text/plain": [
       "0.0           30259\n",
       "5000000.0       423\n",
       "2000000.0       312\n",
       "3000000.0       311\n",
       "4000000.0       271\n",
       "              ...  \n",
       "52500000.0        1\n",
       "4465448.0         1\n",
       "1016945.0         1\n",
       "558288.0          1\n",
       "17776000.0        1\n",
       "Name: round_A, Length: 1610, dtype: int64"
      ]
     },
     "execution_count": 21,
     "metadata": {},
     "output_type": "execute_result"
    }
   ],
   "source": [
    "df.round_A.value_counts()"
   ]
  },
  {
   "cell_type": "code",
   "execution_count": 22,
   "metadata": {},
   "outputs": [
    {
     "data": {
      "text/plain": [
       "0.0          34761\n",
       "500000.0       174\n",
       "1000000.0      168\n",
       "100000.0       113\n",
       "250000.0       113\n",
       "             ...  \n",
       "282820.0         1\n",
       "2550000.0        1\n",
       "1175000.0        1\n",
       "47619.0          1\n",
       "97500.0          1\n",
       "Name: angel, Length: 903, dtype: int64"
      ]
     },
     "execution_count": 22,
     "metadata": {},
     "output_type": "execute_result"
    }
   ],
   "source": [
    "df.angel.value_counts()"
   ]
  },
  {
   "cell_type": "code",
   "execution_count": 23,
   "metadata": {
    "scrolled": true
   },
   "outputs": [
    {
     "data": {
      "text/plain": [
       "0.0           20092\n",
       "5000000.0       346\n",
       "10000000.0      344\n",
       "2000000.0       315\n",
       "1000000.0       305\n",
       "              ...  \n",
       "48786221.0        1\n",
       "2787000.0         1\n",
       "89184501.0        1\n",
       "14294000.0        1\n",
       "9999999.0         1\n",
       "Name: venture, Length: 7264, dtype: int64"
      ]
     },
     "execution_count": 23,
     "metadata": {},
     "output_type": "execute_result"
    }
   ],
   "source": [
    "df.venture.value_counts()"
   ]
  },
  {
   "cell_type": "code",
   "execution_count": 24,
   "metadata": {},
   "outputs": [
    {
     "data": {
      "text/plain": [
       "0.0          37079\n",
       "100000.0        21\n",
       "50000.0         19\n",
       "1000.0          16\n",
       "10000.0         14\n",
       "             ...  \n",
       "1247816.0        1\n",
       "221480.0         1\n",
       "94311.0          1\n",
       "21000.0          1\n",
       "220000.0         1\n",
       "Name: equity_crowdfunding, Length: 224, dtype: int64"
      ]
     },
     "execution_count": 24,
     "metadata": {},
     "output_type": "execute_result"
    }
   ],
   "source": [
    "df.equity_crowdfunding.value_counts()"
   ]
  },
  {
   "cell_type": "code",
   "execution_count": 25,
   "metadata": {},
   "outputs": [
    {
     "data": {
      "text/plain": [
       "0.0          36944\n",
       "100000.0        16\n",
       "500000.0        15\n",
       "1000000.0       13\n",
       "300000.0        12\n",
       "             ...  \n",
       "550000.0         1\n",
       "2400000.0        1\n",
       "2000.0           1\n",
       "445035.0         1\n",
       "4714510.0        1\n",
       "Name: undisclosed, Length: 444, dtype: int64"
      ]
     },
     "execution_count": 25,
     "metadata": {},
     "output_type": "execute_result"
    }
   ],
   "source": [
    "df.undisclosed.value_counts()"
   ]
  },
  {
   "cell_type": "markdown",
   "metadata": {},
   "source": [
    "## - \"Random sampling imputation is in principle similar to mean / median / mode imputation, in the sense that it aims to preserve the statistical parameters of the original variable, for which data is missing.\" - Soledad Gali (Binary missing value indicator + random imputation on total funding during train test split)"
   ]
  },
  {
   "cell_type": "markdown",
   "metadata": {},
   "source": [
    "## Geo vars starting with country code - to be count and frequency encoded or one hot encoded and then sparse values dropped"
   ]
  },
  {
   "cell_type": "code",
   "execution_count": 26,
   "metadata": {},
   "outputs": [
    {
     "data": {
      "text/plain": [
       "USA    23182\n",
       "GBR     1968\n",
       "CAN     1074\n",
       "DEU      722\n",
       "FRA      669\n",
       "IND      667\n",
       "CHN      653\n",
       "ISR      591\n",
       "ESP      422\n",
       "IRL      258\n",
       "SGP      248\n",
       "AUS      243\n",
       "KOR      232\n",
       "NLD      230\n",
       "SWE      228\n",
       "ITA      223\n",
       "BRA      218\n",
       "JPN      206\n",
       "RUS      176\n",
       "CHL      176\n",
       "Name: country_code, dtype: int64"
      ]
     },
     "execution_count": 26,
     "metadata": {},
     "output_type": "execute_result"
    }
   ],
   "source": [
    "df['country_code'].value_counts().nlargest(20)"
   ]
  },
  {
   "cell_type": "markdown",
   "metadata": {},
   "source": [
    "## Dummy variable and drop the rarely occurring regions, probably highly correlated with country"
   ]
  },
  {
   "cell_type": "code",
   "execution_count": 27,
   "metadata": {},
   "outputs": [
    {
     "data": {
      "text/plain": [
       "SF Bay Area         5693\n",
       "New York City       2210\n",
       "Boston              1455\n",
       "London              1276\n",
       "Los Angeles         1142\n",
       "Seattle              757\n",
       "Washington, D.C.     633\n",
       "Chicago              616\n",
       "Austin               515\n",
       "San Diego            512\n",
       "Denver               509\n",
       "Tel Aviv             453\n",
       "Atlanta              424\n",
       "Paris                405\n",
       "Toronto              400\n",
       "Newark               366\n",
       "Dallas               349\n",
       "Philadelphia         304\n",
       "Berlin               297\n",
       "Salt Lake City       286\n",
       "Name: region, dtype: int64"
      ]
     },
     "execution_count": 27,
     "metadata": {},
     "output_type": "execute_result"
    }
   ],
   "source": [
    "df['region'].value_counts().nlargest(20)"
   ]
  },
  {
   "cell_type": "code",
   "execution_count": 28,
   "metadata": {
    "scrolled": true
   },
   "outputs": [
    {
     "data": {
      "text/plain": [
       "San Francisco    2245\n",
       "New York         2000\n",
       "London           1043\n",
       "Palo Alto         493\n",
       "Austin            486\n",
       "Seattle           460\n",
       "Chicago           440\n",
       "Cambridge         433\n",
       "Mountain View     419\n",
       "Los Angeles       418\n",
       "Boston            375\n",
       "San Diego         357\n",
       "Paris             357\n",
       "Sunnyvale         301\n",
       "San Jose          300\n",
       "Berlin            288\n",
       "Toronto           284\n",
       "Beijing           275\n",
       "Atlanta           274\n",
       "Santa Clara       254\n",
       "Name: city, dtype: int64"
      ]
     },
     "execution_count": 28,
     "metadata": {},
     "output_type": "execute_result"
    }
   ],
   "source": [
    "df['city'].value_counts().nlargest(20)"
   ]
  },
  {
   "cell_type": "markdown",
   "metadata": {},
   "source": [
    "## Dropping city due to presumable high correlation, or should it be the other way around?"
   ]
  },
  {
   "cell_type": "code",
   "execution_count": 29,
   "metadata": {},
   "outputs": [],
   "source": [
    "df.drop('city',axis=1,inplace=True)"
   ]
  },
  {
   "cell_type": "markdown",
   "metadata": {},
   "source": [
    "## These datetime variables need to be manipulated, but how?"
   ]
  },
  {
   "cell_type": "code",
   "execution_count": 30,
   "metadata": {
    "scrolled": true
   },
   "outputs": [
    {
     "data": {
      "text/plain": [
       "2012-01-01    2100\n",
       "2011-01-01    2096\n",
       "2010-01-01    1810\n",
       "2009-01-01    1561\n",
       "2013-01-01    1535\n",
       "              ... \n",
       "2008-04-14       1\n",
       "2014-08-27       1\n",
       "2012-03-11       1\n",
       "2006-01-10       1\n",
       "2003-12-13       1\n",
       "Name: founded_at, Length: 3299, dtype: int64"
      ]
     },
     "execution_count": 30,
     "metadata": {},
     "output_type": "execute_result"
    }
   ],
   "source": [
    "df.founded_at.value_counts(dropna=False)"
   ]
  },
  {
   "cell_type": "code",
   "execution_count": 31,
   "metadata": {
    "scrolled": true
   },
   "outputs": [
    {
     "data": {
      "text/plain": [
       "2012-01    2242\n",
       "2011-01    2221\n",
       "2010-01    1907\n",
       "2013-01    1673\n",
       "2009-01    1611\n",
       "           ... \n",
       "1969-06       1\n",
       "1989-12       1\n",
       "1973-07       1\n",
       "1969-09       1\n",
       "1921-03       1\n",
       "Name: founded_month, Length: 418, dtype: int64"
      ]
     },
     "execution_count": 31,
     "metadata": {},
     "output_type": "execute_result"
    }
   ],
   "source": [
    "df.founded_month.value_counts(dropna=False)"
   ]
  },
  {
   "cell_type": "markdown",
   "metadata": {},
   "source": [
    "## The vast majority only make it to round 1, does this mean those - are really 0?"
   ]
  },
  {
   "cell_type": "code",
   "execution_count": 32,
   "metadata": {
    "scrolled": false
   },
   "outputs": [
    {
     "data": {
      "text/plain": [
       "1.0     22887\n",
       "2.0      7457\n",
       "3.0      3470\n",
       "4.0      1773\n",
       "5.0       912\n",
       "6.0       521\n",
       "7.0       230\n",
       "8.0       135\n",
       "9.0        75\n",
       "10.0       42\n",
       "11.0       33\n",
       "12.0       12\n",
       "13.0        7\n",
       "15.0        4\n",
       "14.0        3\n",
       "16.0        1\n",
       "18.0        1\n",
       "Name: funding_rounds, dtype: int64"
      ]
     },
     "execution_count": 32,
     "metadata": {},
     "output_type": "execute_result"
    }
   ],
   "source": [
    "df.funding_rounds.value_counts(dropna=False)"
   ]
  },
  {
   "cell_type": "code",
   "execution_count": 33,
   "metadata": {},
   "outputs": [
    {
     "data": {
      "text/plain": [
       "<matplotlib.axes._subplots.AxesSubplot at 0x128086630>"
      ]
     },
     "execution_count": 33,
     "metadata": {},
     "output_type": "execute_result"
    },
    {
     "data": {
      "image/png": "[encoded data removed]",
      "text/plain": [
       "<Figure size 432x288 with 1 Axes>"
      ]
     },
     "metadata": {
      "needs_background": "light"
     },
     "output_type": "display_data"
    }
   ],
   "source": [
    "sns.distplot(df['funding_rounds'])"
   ]
  },
  {
   "cell_type": "markdown",
   "metadata": {},
   "source": [
    "## Worth taking the difference, also seems like many are rounded to the year"
   ]
  },
  {
   "cell_type": "code",
   "execution_count": 34,
   "metadata": {
    "scrolled": true
   },
   "outputs": [
    {
     "data": {
      "text/plain": [
       "2012-01-01    376\n",
       "2013-01-01    359\n",
       "2008-01-01    347\n",
       "2011-01-01    336\n",
       "2007-01-01    294\n",
       "             ... \n",
       "1999-11-30      1\n",
       "1999-12-07      1\n",
       "1999-07-09      1\n",
       "1990-01-17      1\n",
       "2002-08-28      1\n",
       "Name: first_funding_at, Length: 3691, dtype: int64"
      ]
     },
     "execution_count": 34,
     "metadata": {},
     "output_type": "execute_result"
    }
   ],
   "source": [
    "df.first_funding_at.value_counts()"
   ]
  },
  {
   "cell_type": "code",
   "execution_count": 35,
   "metadata": {},
   "outputs": [
    {
     "data": {
      "text/plain": [
       "2013-01-01    291\n",
       "2012-01-01    262\n",
       "2014-01-01    252\n",
       "2008-01-01    237\n",
       "2011-01-01    227\n",
       "             ... \n",
       "2006-09-21      1\n",
       "2006-01-21      1\n",
       "2002-08-19      1\n",
       "2007-04-11      1\n",
       "2010-05-08      1\n",
       "Name: last_funding_at, Length: 3396, dtype: int64"
      ]
     },
     "execution_count": 35,
     "metadata": {},
     "output_type": "execute_result"
    }
   ],
   "source": [
    "df.last_funding_at.value_counts()"
   ]
  },
  {
   "cell_type": "code",
   "execution_count": 36,
   "metadata": {},
   "outputs": [],
   "source": [
    "# Notes to self: category with split on | \n",
    "# market and categories\n",
    "# funding - \n",
    "#funding rounds\n",
    "#first_funding_at\n",
    "#last_funding_at\n",
    "\n",
    "# funding_total_usd\n",
    "# round a,b,c,d,e,f,g,h\n",
    "# seed \n",
    "# venture\n",
    "# equity crowdfunding\n",
    "# undisclosed\n",
    "# convertible_note\n",
    "# debt_financing\n",
    "# angel \n",
    "# grant \n",
    "# private equity\n",
    "# post_ipo equity\n",
    "# post_ipo_debt\n",
    "#project crowdfunding\n",
    "#secondary market?\n",
    "\n",
    "#geographical- (tableau is good here)\n",
    "#country code\n",
    "#region\n",
    "#city\n",
    "\n",
    "#status(target variable)\n",
    "\n",
    "#nulls = \n",
    "# status                  2.385593\n",
    "# category_list           5.137600\n",
    "#  market                 5.150594\n",
    "# homepage_url            5.558587\n",
    "# country_code            7.874016\n",
    "# region                  7.874016\n",
    "# city                    9.014838\n",
    "\n",
    "# dropped = ['state_code','permalink','homepage_url', 'city', 'market']"
   ]
  },
  {
   "cell_type": "code",
   "execution_count": 37,
   "metadata": {},
   "outputs": [
    {
     "name": "stdout",
     "output_type": "stream",
     "text": [
      "<class 'pandas.core.frame.DataFrame'>\n",
      "Int64Index: 37563 entries, 0 to 49437\n",
      "Data columns (total 34 columns):\n",
      "name                    37563 non-null object\n",
      "market                  35762 non-null object\n",
      "funding_total_usd       37563 non-null object\n",
      "status                  37563 non-null object\n",
      "country_code            34627 non-null object\n",
      "region                  34627 non-null object\n",
      "funding_rounds          37563 non-null float64\n",
      "founded_at              37563 non-null object\n",
      "founded_month           37563 non-null object\n",
      "founded_quarter         37563 non-null object\n",
      "founded_year            37563 non-null float64\n",
      "first_funding_at        37563 non-null object\n",
      "last_funding_at         37563 non-null object\n",
      "seed                    37563 non-null float64\n",
      "venture                 37563 non-null float64\n",
      "equity_crowdfunding     37563 non-null float64\n",
      "undisclosed             37563 non-null float64\n",
      "convertible_note        37563 non-null float64\n",
      "debt_financing          37563 non-null float64\n",
      "angel                   37563 non-null float64\n",
      "grant                   37563 non-null float64\n",
      "private_equity          37563 non-null float64\n",
      "post_ipo_equity         37563 non-null float64\n",
      "post_ipo_debt           37563 non-null float64\n",
      "secondary_market        37563 non-null float64\n",
      "product_crowdfunding    37563 non-null float64\n",
      "round_A                 37563 non-null float64\n",
      "round_B                 37563 non-null float64\n",
      "round_C                 37563 non-null float64\n",
      "round_D                 37563 non-null float64\n",
      "round_E                 37563 non-null float64\n",
      "round_F                 37563 non-null float64\n",
      "round_G                 37563 non-null float64\n",
      "round_H                 37563 non-null float64\n",
      "dtypes: float64(23), object(11)\n",
      "memory usage: 10.0+ MB\n"
     ]
    }
   ],
   "source": [
    "df.info()"
   ]
  },
  {
   "cell_type": "markdown",
   "metadata": {},
   "source": [
    "# Outlier detection and viz"
   ]
  },
  {
   "cell_type": "markdown",
   "metadata": {},
   "source": [
    "## Conclusions:\n",
    "- Funding rounds are highly correlated with each other, amount of rounds with venture interest\n",
    "- Seed with project crowd funding\n",
    "- Post ipo equity brings post ipo debt\n",
    "- Secondary market is in Round G? Whatever that means.\n",
    "- Venture with all the rounds"
   ]
  },
  {
   "cell_type": "code",
   "execution_count": 38,
   "metadata": {},
   "outputs": [
    {
     "data": {
      "text/plain": [
       "<matplotlib.axes._subplots.AxesSubplot at 0x1285b1048>"
      ]
     },
     "execution_count": 38,
     "metadata": {},
     "output_type": "execute_result"
    },
    {
     "data": {
      "image/png": "[encoded data removed]",
      "text/plain": [
       "<Figure size 792x648 with 2 Axes>"
      ]
     },
     "metadata": {
      "needs_background": "light"
     },
     "output_type": "display_data"
    }
   ],
   "source": [
    "# Compute the correlation matrix\n",
    "corr = df.corr()\n",
    "\n",
    "# Generate a mask for the upper triangle\n",
    "mask = np.triu(np.ones_like(corr, dtype=np.bool))\n",
    "\n",
    "# Set up the matplotlib figure\n",
    "f, ax = plt.subplots(figsize=(11, 9))\n",
    "\n",
    "# Generate a custom diverging colormap\n",
    "cmap = sns.cubehelix_palette(start=2.8, rot=.1, as_cmap=True)\n",
    "# sns.diverging_palette(220, 20, as_cmap=True)\n",
    "\n",
    "# Draw the heatmap with the mask and correct aspect ratio\n",
    "sns.heatmap(corr, mask=mask, cmap=cmap, vmax=.3, center=0,\n",
    "            square=True, linewidths=.5, cbar_kws={\"shrink\": .5})"
   ]
  },
  {
   "cell_type": "markdown",
   "metadata": {},
   "source": [
    "# You know what we're not doing time series here"
   ]
  },
  {
   "cell_type": "code",
   "execution_count": 39,
   "metadata": {},
   "outputs": [
    {
     "data": {
      "text/plain": [
       "Index(['name', 'market', 'funding_total_usd', 'status', 'country_code',\n",
       "       'region', 'funding_rounds', 'seed', 'venture', 'equity_crowdfunding',\n",
       "       'undisclosed', 'convertible_note', 'debt_financing', 'angel', 'grant',\n",
       "       'private_equity', 'post_ipo_equity', 'post_ipo_debt',\n",
       "       'secondary_market', 'product_crowdfunding', 'round_A', 'round_B',\n",
       "       'round_C', 'round_D', 'round_E', 'round_F', 'round_G', 'round_H'],\n",
       "      dtype='object')"
      ]
     },
     "execution_count": 39,
     "metadata": {},
     "output_type": "execute_result"
    }
   ],
   "source": [
    "df = df.drop(['founded_year','founded_at','founded_month', 'founded_quarter','founded_year' ,'first_funding_at', 'last_funding_at'],axis=1)\n",
    "\n",
    "df.columns"
   ]
  },
  {
   "cell_type": "code",
   "execution_count": 40,
   "metadata": {},
   "outputs": [
    {
     "name": "stdout",
     "output_type": "stream",
     "text": [
      "<class 'pandas.core.frame.DataFrame'>\n",
      "Int64Index: 37563 entries, 0 to 49437\n",
      "Data columns (total 28 columns):\n",
      "name                    37563 non-null object\n",
      "market                  35762 non-null object\n",
      "funding_total_usd       37563 non-null object\n",
      "status                  37563 non-null object\n",
      "country_code            34627 non-null object\n",
      "region                  34627 non-null object\n",
      "funding_rounds          37563 non-null float64\n",
      "seed                    37563 non-null float64\n",
      "venture                 37563 non-null float64\n",
      "equity_crowdfunding     37563 non-null float64\n",
      "undisclosed             37563 non-null float64\n",
      "convertible_note        37563 non-null float64\n",
      "debt_financing          37563 non-null float64\n",
      "angel                   37563 non-null float64\n",
      "grant                   37563 non-null float64\n",
      "private_equity          37563 non-null float64\n",
      "post_ipo_equity         37563 non-null float64\n",
      "post_ipo_debt           37563 non-null float64\n",
      "secondary_market        37563 non-null float64\n",
      "product_crowdfunding    37563 non-null float64\n",
      "round_A                 37563 non-null float64\n",
      "round_B                 37563 non-null float64\n",
      "round_C                 37563 non-null float64\n",
      "round_D                 37563 non-null float64\n",
      "round_E                 37563 non-null float64\n",
      "round_F                 37563 non-null float64\n",
      "round_G                 37563 non-null float64\n",
      "round_H                 37563 non-null float64\n",
      "dtypes: float64(22), object(6)\n",
      "memory usage: 8.3+ MB\n"
     ]
    }
   ],
   "source": [
    "df.info()"
   ]
  },
  {
   "cell_type": "code",
   "execution_count": 41,
   "metadata": {},
   "outputs": [],
   "source": [
    "df.drop('name',axis=1,inplace=True)"
   ]
  },
  {
   "cell_type": "code",
   "execution_count": 42,
   "metadata": {},
   "outputs": [
    {
     "data": {
      "text/plain": [
       "27"
      ]
     },
     "execution_count": 42,
     "metadata": {},
     "output_type": "execute_result"
    }
   ],
   "source": [
    "len(df.columns)"
   ]
  },
  {
   "cell_type": "code",
   "execution_count": 43,
   "metadata": {
    "scrolled": true
   },
   "outputs": [
    {
     "data": {
      "text/plain": [
       "Index(['market', 'funding_total_usd', 'status', 'country_code', 'region',\n",
       "       'funding_rounds', 'seed', 'venture', 'equity_crowdfunding',\n",
       "       'undisclosed',\n",
       "       ...\n",
       "       ' Technology ', ' Telecommunications ', ' Transportation ', ' Travel ',\n",
       "       ' Video ', ' Video Streaming ', ' Web Development ', ' Web Hosting ',\n",
       "       ' Wireless ', ' iPhone '],\n",
       "      dtype='object', length=119)"
      ]
     },
     "execution_count": 43,
     "metadata": {},
     "output_type": "execute_result"
    }
   ],
   "source": [
    "top_markets = df['market'].value_counts()[lambda x: x > 49].index\n",
    "df = pd.concat([df, pd.get_dummies(top_markets, drop_first=True)], axis=1)\n",
    "\n",
    "df.columns"
   ]
  },
  {
   "cell_type": "code",
   "execution_count": 44,
   "metadata": {},
   "outputs": [],
   "source": [
    "df.drop('market',axis=1,inplace=True)"
   ]
  },
  {
   "cell_type": "code",
   "execution_count": 45,
   "metadata": {},
   "outputs": [
    {
     "data": {
      "text/plain": [
       "118"
      ]
     },
     "execution_count": 45,
     "metadata": {},
     "output_type": "execute_result"
    }
   ],
   "source": [
    "len(df.columns)"
   ]
  },
  {
   "cell_type": "code",
   "execution_count": 47,
   "metadata": {},
   "outputs": [
    {
     "data": {
      "text/plain": [
       "Index(['USA', 'GBR', 'CAN', 'DEU', 'FRA', 'IND', 'CHN', 'ISR', 'ESP', 'IRL'], dtype='object')"
      ]
     },
     "execution_count": 47,
     "metadata": {},
     "output_type": "execute_result"
    }
   ],
   "source": []
  },
  {
   "cell_type": "code",
   "execution_count": 48,
   "metadata": {},
   "outputs": [
    {
     "data": {
      "text/plain": [
       "126"
      ]
     },
     "execution_count": 48,
     "metadata": {},
     "output_type": "execute_result"
    }
   ],
   "source": [
    "top_ten_countries = df['country_code'].value_counts()[:11].index\n",
    "df = pd.concat([df, pd.get_dummies(top_ten_countries, drop_first=True)], axis=1)\n",
    "df.drop('country_code',axis=1,inplace=True)\n",
    "\n",
    "len(df.columns)"
   ]
  },
  {
   "cell_type": "code",
   "execution_count": 49,
   "metadata": {},
   "outputs": [
    {
     "data": {
      "text/plain": [
       "134"
      ]
     },
     "execution_count": 49,
     "metadata": {},
     "output_type": "execute_result"
    }
   ],
   "source": [
    "top_ten_c = df['region'].value_counts()[:11].index\n",
    "df = pd.concat([df, pd.get_dummies(top_ten_countries, drop_first=True)], axis=1)\n",
    "df.drop('region',axis=1,inplace=True)\n",
    "\n",
    "len(df.columns)"
   ]
  },
  {
   "cell_type": "code",
   "execution_count": 50,
   "metadata": {},
   "outputs": [
    {
     "data": {
      "text/plain": [
       "funding_total_usd     0.053216\n",
       "round_H               0.053216\n",
       "round_F               0.053216\n",
       "round_E               0.053216\n",
       "round_D               0.053216\n",
       "                       ...    \n",
       "ESP                  99.973392\n",
       "DEU                  99.973392\n",
       "CHN                  99.973392\n",
       "ISR                  99.973392\n",
       "USA                  99.973392\n",
       "Length: 134, dtype: float64"
      ]
     },
     "execution_count": 50,
     "metadata": {},
     "output_type": "execute_result"
    }
   ],
   "source": [
    "perct_missing_values = df.isnull().sum()*100 / len(df)\n",
    "perct_missing_values.sort_values()"
   ]
  },
  {
   "cell_type": "code",
   "execution_count": 51,
   "metadata": {},
   "outputs": [
    {
     "data": {
      "text/plain": [
       "funding_total_usd       0.053216\n",
       "round_F                 0.053216\n",
       "round_E                 0.053216\n",
       "round_D                 0.053216\n",
       "round_C                 0.053216\n",
       "round_B                 0.053216\n",
       "round_A                 0.053216\n",
       "product_crowdfunding    0.053216\n",
       "secondary_market        0.053216\n",
       "post_ipo_debt           0.053216\n",
       "post_ipo_equity         0.053216\n",
       "private_equity          0.053216\n",
       "grant                   0.053216\n",
       "angel                   0.053216\n",
       "debt_financing          0.053216\n",
       "convertible_note        0.053216\n",
       "undisclosed             0.053216\n",
       "equity_crowdfunding     0.053216\n",
       "venture                 0.053216\n",
       "seed                    0.053216\n",
       "funding_rounds          0.053216\n",
       "status                  0.053216\n",
       "round_G                 0.053216\n",
       "round_H                 0.053216\n",
       "dtype: float64"
      ]
     },
     "execution_count": 51,
     "metadata": {},
     "output_type": "execute_result"
    }
   ],
   "source": [
    "df = df[df.columns[df.isnull().mean() < 0.8]]\n",
    "\n",
    "perct_missing_values = df.isnull().sum()*100 / len(df)\n",
    "perct_missing_values.sort_values()"
   ]
  },
  {
   "cell_type": "code",
   "execution_count": 53,
   "metadata": {},
   "outputs": [
    {
     "data": {
      "text/plain": [
       "funding_total_usd       0.0\n",
       "round_F                 0.0\n",
       "round_E                 0.0\n",
       "round_D                 0.0\n",
       "round_C                 0.0\n",
       "round_B                 0.0\n",
       "round_A                 0.0\n",
       "product_crowdfunding    0.0\n",
       "secondary_market        0.0\n",
       "post_ipo_debt           0.0\n",
       "post_ipo_equity         0.0\n",
       "private_equity          0.0\n",
       "grant                   0.0\n",
       "angel                   0.0\n",
       "debt_financing          0.0\n",
       "convertible_note        0.0\n",
       "undisclosed             0.0\n",
       "equity_crowdfunding     0.0\n",
       "venture                 0.0\n",
       "seed                    0.0\n",
       "funding_rounds          0.0\n",
       "status                  0.0\n",
       "round_G                 0.0\n",
       "round_H                 0.0\n",
       "dtype: float64"
      ]
     },
     "execution_count": 53,
     "metadata": {},
     "output_type": "execute_result"
    }
   ],
   "source": [
    "df = df[df['round_H'].notna()]\n",
    "\n",
    "perct_missing_values = df.isnull().sum()*100 / len(df)\n",
    "perct_missing_values.sort_values()"
   ]
  },
  {
   "cell_type": "markdown",
   "metadata": {},
   "source": [
    "## Gotta impute those NaN first before train test split!!!"
   ]
  },
  {
   "cell_type": "code",
   "execution_count": 61,
   "metadata": {},
   "outputs": [],
   "source": [
    "fund_map = {np.nan: 0}\n",
    "df['funding_total_usd'] = df['funding_total_usd'].map(fund_map)"
   ]
  },
  {
   "cell_type": "code",
   "execution_count": 62,
   "metadata": {},
   "outputs": [],
   "source": [
    "df['funding_total_usd'] = df['funding_total_usd'].astype(int)"
   ]
  },
  {
   "cell_type": "code",
   "execution_count": 63,
   "metadata": {},
   "outputs": [],
   "source": [
    "X = df.drop('status',axis=1)\n",
    "y = df['status']\n",
    "\n",
    "from sklearn.model_selection import train_test_split\n",
    "X_train, X_test, y_train, y_test = train_test_split(X, y, random_state=42, stratify=y)"
   ]
  },
  {
   "cell_type": "code",
   "execution_count": 69,
   "metadata": {},
   "outputs": [],
   "source": [
    "import xgboost as xgb\n",
    "\n",
    "clf = xgb.XGBClassifier(max_depth=5, objective='multi:softmax', n_estimators=1000, \n",
    "                        num_classes=3)\n",
    "\n",
    "clf.fit(X_train, y_train)  \n",
    "\n",
    "y_pred = clf.predict(X_test)"
   ]
  },
  {
   "cell_type": "markdown",
   "metadata": {},
   "source": [
    "## Oops I metrics'd again"
   ]
  },
  {
   "cell_type": "code",
   "execution_count": 70,
   "metadata": {},
   "outputs": [
    {
     "data": {
      "text/plain": [
       "0.809419721121653"
      ]
     },
     "execution_count": 70,
     "metadata": {},
     "output_type": "execute_result"
    }
   ],
   "source": [
    "from sklearn.metrics import f1_score\n",
    "f1_score(y_test, y_pred, average='weighted')"
   ]
  },
  {
   "cell_type": "code",
   "execution_count": null,
   "metadata": {},
   "outputs": [],
   "source": [
    "from yellowbrick.classifier import ClassificationReport\n",
    "visualizer = ClassificationReport(clf, classes=[0,1,2,3,4], support=True)\n",
    "\n",
    "visualizer.fit(X_train, y_train)        # Fit the visualizer and the model\n",
    "visualizer.score(X_test, y_test)        # Evaluate the model on the test data\n",
    "visualizer.show()      "
   ]
  },
  {
   "cell_type": "code",
   "execution_count": 73,
   "metadata": {},
   "outputs": [
    {
     "data": {
      "text/plain": [
       "XGBClassifier(base_score=0.5, booster='gbtree', colsample_bylevel=1,\n",
       "              colsample_bynode=1, colsample_bytree=1, gamma=0,\n",
       "              learning_rate=0.1, max_delta_step=0, max_depth=5,\n",
       "              min_child_weight=1, missing=None, n_estimators=100, n_jobs=1,\n",
       "              nthread=None, num_classes=3, objective='multi:softprob',\n",
       "              random_state=0, reg_alpha=0, reg_lambda=1, scale_pos_weight=1,\n",
       "              seed=None, silent=None, subsample=1, verbosity=1)"
      ]
     },
     "execution_count": 73,
     "metadata": {},
     "output_type": "execute_result"
    }
   ],
   "source": [
    "clf = xgb.XGBClassifier(max_depth=5, objective='multi:softmax', n_estimators=100, \n",
    "                        num_classes=3)\n",
    "\n",
    "clf.fit(X_train, y_train)  "
   ]
  },
  {
   "cell_type": "code",
   "execution_count": null,
   "metadata": {},
   "outputs": [],
   "source": [
    "from bayes_opt import BayesianOptimization"
   ]
  },
  {
   "cell_type": "code",
   "execution_count": 74,
   "metadata": {},
   "outputs": [
    {
     "name": "stdout",
     "output_type": "stream",
     "text": [
      "CrossValMean:                                         \n",
      "0.8669246058290018                                    \n",
      "  2%|▏         | 1/50 [05:56<4:50:58, 356.30s/trial, best loss: 0.13307539417099823]\n"
     ]
    },
    {
     "ename": "KeyboardInterrupt",
     "evalue": "",
     "output_type": "error",
     "traceback": [
      "\u001b[0;31m---------------------------------------------------------------------------\u001b[0m",
      "\u001b[0;31mKeyboardInterrupt\u001b[0m                         Traceback (most recent call last)",
      "\u001b[0;32m<ipython-input-74-04c08727065a>\u001b[0m in \u001b[0;36m<module>\u001b[0;34m\u001b[0m\n\u001b[1;32m     40\u001b[0m             \u001b[0malgo\u001b[0m\u001b[0;34m=\u001b[0m\u001b[0mtpe\u001b[0m\u001b[0;34m.\u001b[0m\u001b[0msuggest\u001b[0m\u001b[0;34m,\u001b[0m\u001b[0;34m\u001b[0m\u001b[0;34m\u001b[0m\u001b[0m\n\u001b[1;32m     41\u001b[0m             \u001b[0mmax_evals\u001b[0m\u001b[0;34m=\u001b[0m\u001b[0;36m50\u001b[0m\u001b[0;34m,\u001b[0m\u001b[0;34m\u001b[0m\u001b[0;34m\u001b[0m\u001b[0m\n\u001b[0;32m---> 42\u001b[0;31m             trials=trials)\n\u001b[0m\u001b[1;32m     43\u001b[0m \u001b[0;34m\u001b[0m\u001b[0m\n\u001b[1;32m     44\u001b[0m \u001b[0mprint\u001b[0m\u001b[0;34m(\u001b[0m\u001b[0;34m\"Best: \"\u001b[0m\u001b[0;34m,\u001b[0m \u001b[0mbest\u001b[0m\u001b[0;34m)\u001b[0m\u001b[0;34m\u001b[0m\u001b[0;34m\u001b[0m\u001b[0m\n",
      "\u001b[0;32m~/anaconda3/envs/learn-env/lib/python3.6/site-packages/hyperopt/fmin.py\u001b[0m in \u001b[0;36mfmin\u001b[0;34m(fn, space, algo, max_evals, timeout, loss_threshold, trials, rstate, allow_trials_fmin, pass_expr_memo_ctrl, catch_eval_exceptions, verbose, return_argmin, points_to_evaluate, max_queue_len, show_progressbar)\u001b[0m\n\u001b[1;32m    480\u001b[0m             \u001b[0mcatch_eval_exceptions\u001b[0m\u001b[0;34m=\u001b[0m\u001b[0mcatch_eval_exceptions\u001b[0m\u001b[0;34m,\u001b[0m\u001b[0;34m\u001b[0m\u001b[0;34m\u001b[0m\u001b[0m\n\u001b[1;32m    481\u001b[0m             \u001b[0mreturn_argmin\u001b[0m\u001b[0;34m=\u001b[0m\u001b[0mreturn_argmin\u001b[0m\u001b[0;34m,\u001b[0m\u001b[0;34m\u001b[0m\u001b[0;34m\u001b[0m\u001b[0m\n\u001b[0;32m--> 482\u001b[0;31m             \u001b[0mshow_progressbar\u001b[0m\u001b[0;34m=\u001b[0m\u001b[0mshow_progressbar\u001b[0m\u001b[0;34m,\u001b[0m\u001b[0;34m\u001b[0m\u001b[0;34m\u001b[0m\u001b[0m\n\u001b[0m\u001b[1;32m    483\u001b[0m         )\n\u001b[1;32m    484\u001b[0m \u001b[0;34m\u001b[0m\u001b[0m\n",
      "\u001b[0;32m~/anaconda3/envs/learn-env/lib/python3.6/site-packages/hyperopt/base.py\u001b[0m in \u001b[0;36mfmin\u001b[0;34m(self, fn, space, algo, max_evals, timeout, loss_threshold, max_queue_len, rstate, verbose, pass_expr_memo_ctrl, catch_eval_exceptions, return_argmin, show_progressbar)\u001b[0m\n\u001b[1;32m    684\u001b[0m             \u001b[0mcatch_eval_exceptions\u001b[0m\u001b[0;34m=\u001b[0m\u001b[0mcatch_eval_exceptions\u001b[0m\u001b[0;34m,\u001b[0m\u001b[0;34m\u001b[0m\u001b[0;34m\u001b[0m\u001b[0m\n\u001b[1;32m    685\u001b[0m             \u001b[0mreturn_argmin\u001b[0m\u001b[0;34m=\u001b[0m\u001b[0mreturn_argmin\u001b[0m\u001b[0;34m,\u001b[0m\u001b[0;34m\u001b[0m\u001b[0;34m\u001b[0m\u001b[0m\n\u001b[0;32m--> 686\u001b[0;31m             \u001b[0mshow_progressbar\u001b[0m\u001b[0;34m=\u001b[0m\u001b[0mshow_progressbar\u001b[0m\u001b[0;34m,\u001b[0m\u001b[0;34m\u001b[0m\u001b[0;34m\u001b[0m\u001b[0m\n\u001b[0m\u001b[1;32m    687\u001b[0m         )\n\u001b[1;32m    688\u001b[0m \u001b[0;34m\u001b[0m\u001b[0m\n",
      "\u001b[0;32m~/anaconda3/envs/learn-env/lib/python3.6/site-packages/hyperopt/fmin.py\u001b[0m in \u001b[0;36mfmin\u001b[0;34m(fn, space, algo, max_evals, timeout, loss_threshold, trials, rstate, allow_trials_fmin, pass_expr_memo_ctrl, catch_eval_exceptions, verbose, return_argmin, points_to_evaluate, max_queue_len, show_progressbar)\u001b[0m\n\u001b[1;32m    507\u001b[0m \u001b[0;34m\u001b[0m\u001b[0m\n\u001b[1;32m    508\u001b[0m     \u001b[0;31m# next line is where the fmin is actually executed\u001b[0m\u001b[0;34m\u001b[0m\u001b[0;34m\u001b[0m\u001b[0;34m\u001b[0m\u001b[0m\n\u001b[0;32m--> 509\u001b[0;31m     \u001b[0mrval\u001b[0m\u001b[0;34m.\u001b[0m\u001b[0mexhaust\u001b[0m\u001b[0;34m(\u001b[0m\u001b[0;34m)\u001b[0m\u001b[0;34m\u001b[0m\u001b[0;34m\u001b[0m\u001b[0m\n\u001b[0m\u001b[1;32m    510\u001b[0m \u001b[0;34m\u001b[0m\u001b[0m\n\u001b[1;32m    511\u001b[0m     \u001b[0;32mif\u001b[0m \u001b[0mreturn_argmin\u001b[0m\u001b[0;34m:\u001b[0m\u001b[0;34m\u001b[0m\u001b[0;34m\u001b[0m\u001b[0m\n",
      "\u001b[0;32m~/anaconda3/envs/learn-env/lib/python3.6/site-packages/hyperopt/fmin.py\u001b[0m in \u001b[0;36mexhaust\u001b[0;34m(self)\u001b[0m\n\u001b[1;32m    328\u001b[0m     \u001b[0;32mdef\u001b[0m \u001b[0mexhaust\u001b[0m\u001b[0;34m(\u001b[0m\u001b[0mself\u001b[0m\u001b[0;34m)\u001b[0m\u001b[0;34m:\u001b[0m\u001b[0;34m\u001b[0m\u001b[0;34m\u001b[0m\u001b[0m\n\u001b[1;32m    329\u001b[0m         \u001b[0mn_done\u001b[0m \u001b[0;34m=\u001b[0m \u001b[0mlen\u001b[0m\u001b[0;34m(\u001b[0m\u001b[0mself\u001b[0m\u001b[0;34m.\u001b[0m\u001b[0mtrials\u001b[0m\u001b[0;34m)\u001b[0m\u001b[0;34m\u001b[0m\u001b[0;34m\u001b[0m\u001b[0m\n\u001b[0;32m--> 330\u001b[0;31m         \u001b[0mself\u001b[0m\u001b[0;34m.\u001b[0m\u001b[0mrun\u001b[0m\u001b[0;34m(\u001b[0m\u001b[0mself\u001b[0m\u001b[0;34m.\u001b[0m\u001b[0mmax_evals\u001b[0m \u001b[0;34m-\u001b[0m \u001b[0mn_done\u001b[0m\u001b[0;34m,\u001b[0m \u001b[0mblock_until_done\u001b[0m\u001b[0;34m=\u001b[0m\u001b[0mself\u001b[0m\u001b[0;34m.\u001b[0m\u001b[0masynchronous\u001b[0m\u001b[0;34m)\u001b[0m\u001b[0;34m\u001b[0m\u001b[0;34m\u001b[0m\u001b[0m\n\u001b[0m\u001b[1;32m    331\u001b[0m         \u001b[0mself\u001b[0m\u001b[0;34m.\u001b[0m\u001b[0mtrials\u001b[0m\u001b[0;34m.\u001b[0m\u001b[0mrefresh\u001b[0m\u001b[0;34m(\u001b[0m\u001b[0;34m)\u001b[0m\u001b[0;34m\u001b[0m\u001b[0;34m\u001b[0m\u001b[0m\n\u001b[1;32m    332\u001b[0m         \u001b[0;32mreturn\u001b[0m \u001b[0mself\u001b[0m\u001b[0;34m\u001b[0m\u001b[0;34m\u001b[0m\u001b[0m\n",
      "\u001b[0;32m~/anaconda3/envs/learn-env/lib/python3.6/site-packages/hyperopt/fmin.py\u001b[0m in \u001b[0;36mrun\u001b[0;34m(self, N, block_until_done)\u001b[0m\n\u001b[1;32m    284\u001b[0m                 \u001b[0;32melse\u001b[0m\u001b[0;34m:\u001b[0m\u001b[0;34m\u001b[0m\u001b[0;34m\u001b[0m\u001b[0m\n\u001b[1;32m    285\u001b[0m                     \u001b[0;31m# -- loop over trials and do the jobs directly\u001b[0m\u001b[0;34m\u001b[0m\u001b[0;34m\u001b[0m\u001b[0;34m\u001b[0m\u001b[0m\n\u001b[0;32m--> 286\u001b[0;31m                     \u001b[0mself\u001b[0m\u001b[0;34m.\u001b[0m\u001b[0mserial_evaluate\u001b[0m\u001b[0;34m(\u001b[0m\u001b[0;34m)\u001b[0m\u001b[0;34m\u001b[0m\u001b[0;34m\u001b[0m\u001b[0m\n\u001b[0m\u001b[1;32m    287\u001b[0m \u001b[0;34m\u001b[0m\u001b[0m\n\u001b[1;32m    288\u001b[0m                 \u001b[0mself\u001b[0m\u001b[0;34m.\u001b[0m\u001b[0mtrials\u001b[0m\u001b[0;34m.\u001b[0m\u001b[0mrefresh\u001b[0m\u001b[0;34m(\u001b[0m\u001b[0;34m)\u001b[0m\u001b[0;34m\u001b[0m\u001b[0;34m\u001b[0m\u001b[0m\n",
      "\u001b[0;32m~/anaconda3/envs/learn-env/lib/python3.6/site-packages/hyperopt/fmin.py\u001b[0m in \u001b[0;36mserial_evaluate\u001b[0;34m(self, N)\u001b[0m\n\u001b[1;32m    163\u001b[0m                 \u001b[0mctrl\u001b[0m \u001b[0;34m=\u001b[0m \u001b[0mbase\u001b[0m\u001b[0;34m.\u001b[0m\u001b[0mCtrl\u001b[0m\u001b[0;34m(\u001b[0m\u001b[0mself\u001b[0m\u001b[0;34m.\u001b[0m\u001b[0mtrials\u001b[0m\u001b[0;34m,\u001b[0m \u001b[0mcurrent_trial\u001b[0m\u001b[0;34m=\u001b[0m\u001b[0mtrial\u001b[0m\u001b[0;34m)\u001b[0m\u001b[0;34m\u001b[0m\u001b[0;34m\u001b[0m\u001b[0m\n\u001b[1;32m    164\u001b[0m                 \u001b[0;32mtry\u001b[0m\u001b[0;34m:\u001b[0m\u001b[0;34m\u001b[0m\u001b[0;34m\u001b[0m\u001b[0m\n\u001b[0;32m--> 165\u001b[0;31m                     \u001b[0mresult\u001b[0m \u001b[0;34m=\u001b[0m \u001b[0mself\u001b[0m\u001b[0;34m.\u001b[0m\u001b[0mdomain\u001b[0m\u001b[0;34m.\u001b[0m\u001b[0mevaluate\u001b[0m\u001b[0;34m(\u001b[0m\u001b[0mspec\u001b[0m\u001b[0;34m,\u001b[0m \u001b[0mctrl\u001b[0m\u001b[0;34m)\u001b[0m\u001b[0;34m\u001b[0m\u001b[0;34m\u001b[0m\u001b[0m\n\u001b[0m\u001b[1;32m    166\u001b[0m                 \u001b[0;32mexcept\u001b[0m \u001b[0mException\u001b[0m \u001b[0;32mas\u001b[0m \u001b[0me\u001b[0m\u001b[0;34m:\u001b[0m\u001b[0;34m\u001b[0m\u001b[0;34m\u001b[0m\u001b[0m\n\u001b[1;32m    167\u001b[0m                     \u001b[0mlogger\u001b[0m\u001b[0;34m.\u001b[0m\u001b[0merror\u001b[0m\u001b[0;34m(\u001b[0m\u001b[0;34m\"job exception: %s\"\u001b[0m \u001b[0;34m%\u001b[0m \u001b[0mstr\u001b[0m\u001b[0;34m(\u001b[0m\u001b[0me\u001b[0m\u001b[0;34m)\u001b[0m\u001b[0;34m)\u001b[0m\u001b[0;34m\u001b[0m\u001b[0;34m\u001b[0m\u001b[0m\n",
      "\u001b[0;32m~/anaconda3/envs/learn-env/lib/python3.6/site-packages/hyperopt/base.py\u001b[0m in \u001b[0;36mevaluate\u001b[0;34m(self, config, ctrl, attach_attachments)\u001b[0m\n\u001b[1;32m    892\u001b[0m                 \u001b[0mprint_node_on_error\u001b[0m\u001b[0;34m=\u001b[0m\u001b[0mself\u001b[0m\u001b[0;34m.\u001b[0m\u001b[0mrec_eval_print_node_on_error\u001b[0m\u001b[0;34m,\u001b[0m\u001b[0;34m\u001b[0m\u001b[0;34m\u001b[0m\u001b[0m\n\u001b[1;32m    893\u001b[0m             )\n\u001b[0;32m--> 894\u001b[0;31m             \u001b[0mrval\u001b[0m \u001b[0;34m=\u001b[0m \u001b[0mself\u001b[0m\u001b[0;34m.\u001b[0m\u001b[0mfn\u001b[0m\u001b[0;34m(\u001b[0m\u001b[0mpyll_rval\u001b[0m\u001b[0;34m)\u001b[0m\u001b[0;34m\u001b[0m\u001b[0;34m\u001b[0m\u001b[0m\n\u001b[0m\u001b[1;32m    895\u001b[0m \u001b[0;34m\u001b[0m\u001b[0m\n\u001b[1;32m    896\u001b[0m         \u001b[0;32mif\u001b[0m \u001b[0misinstance\u001b[0m\u001b[0;34m(\u001b[0m\u001b[0mrval\u001b[0m\u001b[0;34m,\u001b[0m \u001b[0;34m(\u001b[0m\u001b[0mfloat\u001b[0m\u001b[0;34m,\u001b[0m \u001b[0mint\u001b[0m\u001b[0;34m,\u001b[0m \u001b[0mnp\u001b[0m\u001b[0;34m.\u001b[0m\u001b[0mnumber\u001b[0m\u001b[0;34m)\u001b[0m\u001b[0;34m)\u001b[0m\u001b[0;34m:\u001b[0m\u001b[0;34m\u001b[0m\u001b[0;34m\u001b[0m\u001b[0m\n",
      "\u001b[0;32m<ipython-input-74-04c08727065a>\u001b[0m in \u001b[0;36mobjective\u001b[0;34m(space)\u001b[0m\n\u001b[1;32m     15\u001b[0m                             )\n\u001b[1;32m     16\u001b[0m \u001b[0;34m\u001b[0m\u001b[0m\n\u001b[0;32m---> 17\u001b[0;31m     \u001b[0mclassifier\u001b[0m\u001b[0;34m.\u001b[0m\u001b[0mfit\u001b[0m\u001b[0;34m(\u001b[0m\u001b[0mX_train\u001b[0m\u001b[0;34m,\u001b[0m \u001b[0my_train\u001b[0m\u001b[0;34m)\u001b[0m\u001b[0;34m\u001b[0m\u001b[0;34m\u001b[0m\u001b[0m\n\u001b[0m\u001b[1;32m     18\u001b[0m \u001b[0;34m\u001b[0m\u001b[0m\n\u001b[1;32m     19\u001b[0m     \u001b[0;31m# Applying k-Fold Cross Validation\u001b[0m\u001b[0;34m\u001b[0m\u001b[0;34m\u001b[0m\u001b[0;34m\u001b[0m\u001b[0m\n",
      "\u001b[0;32m~/anaconda3/envs/learn-env/lib/python3.6/site-packages/xgboost/sklearn.py\u001b[0m in \u001b[0;36mfit\u001b[0;34m(self, X, y, sample_weight, eval_set, eval_metric, early_stopping_rounds, verbose, xgb_model, sample_weight_eval_set, callbacks)\u001b[0m\n\u001b[1;32m    730\u001b[0m                               \u001b[0mevals_result\u001b[0m\u001b[0;34m=\u001b[0m\u001b[0mevals_result\u001b[0m\u001b[0;34m,\u001b[0m \u001b[0mobj\u001b[0m\u001b[0;34m=\u001b[0m\u001b[0mobj\u001b[0m\u001b[0;34m,\u001b[0m \u001b[0mfeval\u001b[0m\u001b[0;34m=\u001b[0m\u001b[0mfeval\u001b[0m\u001b[0;34m,\u001b[0m\u001b[0;34m\u001b[0m\u001b[0;34m\u001b[0m\u001b[0m\n\u001b[1;32m    731\u001b[0m                               \u001b[0mverbose_eval\u001b[0m\u001b[0;34m=\u001b[0m\u001b[0mverbose\u001b[0m\u001b[0;34m,\u001b[0m \u001b[0mxgb_model\u001b[0m\u001b[0;34m=\u001b[0m\u001b[0mxgb_model\u001b[0m\u001b[0;34m,\u001b[0m\u001b[0;34m\u001b[0m\u001b[0;34m\u001b[0m\u001b[0m\n\u001b[0;32m--> 732\u001b[0;31m                               callbacks=callbacks)\n\u001b[0m\u001b[1;32m    733\u001b[0m \u001b[0;34m\u001b[0m\u001b[0m\n\u001b[1;32m    734\u001b[0m         \u001b[0mself\u001b[0m\u001b[0;34m.\u001b[0m\u001b[0mobjective\u001b[0m \u001b[0;34m=\u001b[0m \u001b[0mxgb_options\u001b[0m\u001b[0;34m[\u001b[0m\u001b[0;34m\"objective\"\u001b[0m\u001b[0;34m]\u001b[0m\u001b[0;34m\u001b[0m\u001b[0;34m\u001b[0m\u001b[0m\n",
      "\u001b[0;32m~/anaconda3/envs/learn-env/lib/python3.6/site-packages/xgboost/training.py\u001b[0m in \u001b[0;36mtrain\u001b[0;34m(params, dtrain, num_boost_round, evals, obj, feval, maximize, early_stopping_rounds, evals_result, verbose_eval, xgb_model, callbacks, learning_rates)\u001b[0m\n\u001b[1;32m    214\u001b[0m                            \u001b[0mevals\u001b[0m\u001b[0;34m=\u001b[0m\u001b[0mevals\u001b[0m\u001b[0;34m,\u001b[0m\u001b[0;34m\u001b[0m\u001b[0;34m\u001b[0m\u001b[0m\n\u001b[1;32m    215\u001b[0m                            \u001b[0mobj\u001b[0m\u001b[0;34m=\u001b[0m\u001b[0mobj\u001b[0m\u001b[0;34m,\u001b[0m \u001b[0mfeval\u001b[0m\u001b[0;34m=\u001b[0m\u001b[0mfeval\u001b[0m\u001b[0;34m,\u001b[0m\u001b[0;34m\u001b[0m\u001b[0;34m\u001b[0m\u001b[0m\n\u001b[0;32m--> 216\u001b[0;31m                            xgb_model=xgb_model, callbacks=callbacks)\n\u001b[0m\u001b[1;32m    217\u001b[0m \u001b[0;34m\u001b[0m\u001b[0m\n\u001b[1;32m    218\u001b[0m \u001b[0;34m\u001b[0m\u001b[0m\n",
      "\u001b[0;32m~/anaconda3/envs/learn-env/lib/python3.6/site-packages/xgboost/training.py\u001b[0m in \u001b[0;36m_train_internal\u001b[0;34m(params, dtrain, num_boost_round, evals, obj, feval, xgb_model, callbacks)\u001b[0m\n\u001b[1;32m     72\u001b[0m         \u001b[0;31m# Skip the first update if it is a recovery step.\u001b[0m\u001b[0;34m\u001b[0m\u001b[0;34m\u001b[0m\u001b[0;34m\u001b[0m\u001b[0m\n\u001b[1;32m     73\u001b[0m         \u001b[0;32mif\u001b[0m \u001b[0mversion\u001b[0m \u001b[0;34m%\u001b[0m \u001b[0;36m2\u001b[0m \u001b[0;34m==\u001b[0m \u001b[0;36m0\u001b[0m\u001b[0;34m:\u001b[0m\u001b[0;34m\u001b[0m\u001b[0;34m\u001b[0m\u001b[0m\n\u001b[0;32m---> 74\u001b[0;31m             \u001b[0mbst\u001b[0m\u001b[0;34m.\u001b[0m\u001b[0mupdate\u001b[0m\u001b[0;34m(\u001b[0m\u001b[0mdtrain\u001b[0m\u001b[0;34m,\u001b[0m \u001b[0mi\u001b[0m\u001b[0;34m,\u001b[0m \u001b[0mobj\u001b[0m\u001b[0;34m)\u001b[0m\u001b[0;34m\u001b[0m\u001b[0;34m\u001b[0m\u001b[0m\n\u001b[0m\u001b[1;32m     75\u001b[0m             \u001b[0mbst\u001b[0m\u001b[0;34m.\u001b[0m\u001b[0msave_rabit_checkpoint\u001b[0m\u001b[0;34m(\u001b[0m\u001b[0;34m)\u001b[0m\u001b[0;34m\u001b[0m\u001b[0;34m\u001b[0m\u001b[0m\n\u001b[1;32m     76\u001b[0m             \u001b[0mversion\u001b[0m \u001b[0;34m+=\u001b[0m \u001b[0;36m1\u001b[0m\u001b[0;34m\u001b[0m\u001b[0;34m\u001b[0m\u001b[0m\n",
      "\u001b[0;32m~/anaconda3/envs/learn-env/lib/python3.6/site-packages/xgboost/core.py\u001b[0m in \u001b[0;36mupdate\u001b[0;34m(self, dtrain, iteration, fobj)\u001b[0m\n\u001b[1;32m   1107\u001b[0m         \u001b[0;32mif\u001b[0m \u001b[0mfobj\u001b[0m \u001b[0;32mis\u001b[0m \u001b[0;32mNone\u001b[0m\u001b[0;34m:\u001b[0m\u001b[0;34m\u001b[0m\u001b[0;34m\u001b[0m\u001b[0m\n\u001b[1;32m   1108\u001b[0m             _check_call(_LIB.XGBoosterUpdateOneIter(self.handle, ctypes.c_int(iteration),\n\u001b[0;32m-> 1109\u001b[0;31m                                                     dtrain.handle))\n\u001b[0m\u001b[1;32m   1110\u001b[0m         \u001b[0;32melse\u001b[0m\u001b[0;34m:\u001b[0m\u001b[0;34m\u001b[0m\u001b[0;34m\u001b[0m\u001b[0m\n\u001b[1;32m   1111\u001b[0m             \u001b[0mpred\u001b[0m \u001b[0;34m=\u001b[0m \u001b[0mself\u001b[0m\u001b[0;34m.\u001b[0m\u001b[0mpredict\u001b[0m\u001b[0;34m(\u001b[0m\u001b[0mdtrain\u001b[0m\u001b[0;34m)\u001b[0m\u001b[0;34m\u001b[0m\u001b[0;34m\u001b[0m\u001b[0m\n",
      "\u001b[0;31mKeyboardInterrupt\u001b[0m: "
     ]
    }
   ],
   "source": [
    "from sklearn.model_selection import cross_val_score\n",
    "from hyperopt import fmin, tpe, STATUS_OK, STATUS_FAIL, Trials,hp\n",
    "import warnings\n",
    "\n",
    "def objective(space):\n",
    "\n",
    "    warnings.filterwarnings(action='ignore', category=DeprecationWarning)\n",
    "    classifier = xgb.XGBClassifier(n_estimators = space['n_estimators'],\n",
    "                            max_depth = int(space['max_depth']),\n",
    "                            learning_rate = space['learning_rate'],\n",
    "                            gamma = space['gamma'],\n",
    "                            min_child_weight = space['min_child_weight'],\n",
    "                            subsample = space['subsample'],\n",
    "                            colsample_bytree = space['colsample_bytree']\n",
    "                            )\n",
    "    \n",
    "    classifier.fit(X_train, y_train)\n",
    "\n",
    "    # Applying k-Fold Cross Validation\n",
    "\n",
    "    accuracies = cross_val_score(estimator = classifier, X = X_train, y = y_train, cv = 10)\n",
    "    CrossValMean = accuracies.mean()\n",
    "\n",
    "    print(\"CrossValMean:\", CrossValMean)\n",
    "\n",
    "    return{'loss':1-CrossValMean, 'status': STATUS_OK }\n",
    "\n",
    "space = {\n",
    "    'max_depth' : hp.choice('max_depth', range(5, 30, 1)),\n",
    "    'learning_rate' : hp.quniform('learning_rate', 0.01, 0.5, 0.01),\n",
    "    'n_estimators' : hp.choice('n_estimators', range(20, 205, 5)),\n",
    "    'gamma' : hp.quniform('gamma', 0, 0.50, 0.01),\n",
    "    'min_child_weight' : hp.quniform('min_child_weight', 1, 10, 1),\n",
    "    'subsample' : hp.quniform('subsample', 0.1, 1, 0.01),\n",
    "    'colsample_bytree' : hp.quniform('colsample_bytree', 0.1, 1.0, 0.01)}\n",
    "\n",
    "trials = Trials()\n",
    "best = fmin(fn=objective,\n",
    "            space=space,\n",
    "            algo=tpe.suggest,\n",
    "            max_evals=50,\n",
    "            trials=trials)\n",
    "\n",
    "print(\"Best: \", best)"
   ]
  },
  {
   "cell_type": "code",
   "execution_count": 76,
   "metadata": {},
   "outputs": [
    {
     "name": "stderr",
     "output_type": "stream",
     "text": [
      "/Users/michael/anaconda3/envs/learn-env/lib/python3.6/site-packages/sklearn/externals/six.py:31: FutureWarning: The module is deprecated in version 0.21 and will be removed in version 0.23 since we've dropped support for Python 2.7. Please rely on the official version of six (https://pypi.org/project/six/).\n",
      "  \"(https://pypi.org/project/six/).\", FutureWarning)\n",
      "/Users/michael/anaconda3/envs/learn-env/lib/python3.6/site-packages/sklearn/utils/deprecation.py:144: FutureWarning: The sklearn.neighbors.base module is  deprecated in version 0.22 and will be removed in version 0.24. The corresponding classes / functions should instead be imported from sklearn.neighbors. Anything that cannot be imported from sklearn.neighbors is now part of the private API.\n",
      "  warnings.warn(message, FutureWarning)\n"
     ]
    },
    {
     "name": "stdout",
     "output_type": "stream",
     "text": [
      "Original class distribution: \n",
      "\n",
      "operating    32597\n",
      "acquired      2971\n",
      "closed        1995\n",
      "Name: status, dtype: int64\n"
     ]
    },
    {
     "name": "stderr",
     "output_type": "stream",
     "text": [
      "/Users/michael/anaconda3/envs/learn-env/lib/python3.6/site-packages/sklearn/utils/deprecation.py:87: FutureWarning: Function safe_indexing is deprecated; safe_indexing is deprecated in version 0.22 and will be removed in version 0.24.\n",
      "  warnings.warn(msg, category=FutureWarning)\n",
      "/Users/michael/anaconda3/envs/learn-env/lib/python3.6/site-packages/sklearn/utils/deprecation.py:87: FutureWarning: Function safe_indexing is deprecated; safe_indexing is deprecated in version 0.22 and will be removed in version 0.24.\n",
      "  warnings.warn(msg, category=FutureWarning)\n"
     ]
    },
    {
     "name": "stdout",
     "output_type": "stream",
     "text": [
      "-----------------------------------------\n",
      "Synthetic sample class distribution: \n",
      "\n",
      "closed       24448\n",
      "operating    24448\n",
      "acquired     24448\n",
      "dtype: int64\n"
     ]
    }
   ],
   "source": [
    "from imblearn.over_sampling import SMOTE\n",
    "print('Original class distribution: \\n')\n",
    "print(y.value_counts())\n",
    "smote = SMOTE()\n",
    "X_train_resampled, y_train_resampled = smote.fit_sample(X_train, y_train) \n",
    "# Preview synthetic sample class distribution\n",
    "print('-----------------------------------------')\n",
    "print('Synthetic sample class distribution: \\n')\n",
    "print(pd.Series(y_train_resampled).value_counts()) "
   ]
  },
  {
   "cell_type": "code",
   "execution_count": 79,
   "metadata": {},
   "outputs": [
    {
     "name": "stdout",
     "output_type": "stream",
     "text": [
      "8 selected features\n"
     ]
    }
   ],
   "source": [
    "from sklearn.feature_selection import SelectFromModel\n",
    "from lightgbm import LGBMClassifier\n",
    "\n",
    "lgbc=LGBMClassifier(n_estimators=500, learning_rate=0.05, num_leaves=32, colsample_bytree=0.2,\n",
    "            reg_alpha=3, reg_lambda=1, min_split_gain=0.01, min_child_weight=40)\n",
    "\n",
    "embeded_lgb_selector = SelectFromModel(lgbc, max_features=23)\n",
    "embeded_lgb_selector.fit(X_train_resampled, y_train_resampled)\n",
    "\n",
    "embeded_lgb_support = embeded_lgb_selector.get_support()\n",
    "embeded_lgb_feature = X.loc[:,embeded_lgb_support].columns.tolist()\n",
    "print(str(len(embeded_lgb_feature)), 'selected features')"
   ]
  },
  {
   "cell_type": "code",
   "execution_count": 80,
   "metadata": {},
   "outputs": [],
   "source": [
    "X = X[embeded_lgb_feature]"
   ]
  },
  {
   "cell_type": "code",
   "execution_count": 81,
   "metadata": {},
   "outputs": [],
   "source": [
    "X_train, X_test, y_train, y_test = train_test_split(X, y, test_size=0.33, random_state=42)"
   ]
  },
  {
   "cell_type": "code",
   "execution_count": 84,
   "metadata": {},
   "outputs": [
    {
     "data": {
      "text/plain": [
       "XGBClassifier(base_score=0.5, booster='gbtree', colsample_bylevel=1,\n",
       "              colsample_bynode=1, colsample_bytree=1, gamma=0,\n",
       "              learning_rate=0.1, max_delta_step=0, max_depth=5,\n",
       "              min_child_weight=1, missing=None, n_estimators=100, n_jobs=1,\n",
       "              nthread=None, num_classes=3, objective='multi:softprob',\n",
       "              random_state=0, reg_alpha=0, reg_lambda=1, scale_pos_weight=1,\n",
       "              seed=None, silent=None, subsample=1, verbosity=1)"
      ]
     },
     "execution_count": 84,
     "metadata": {},
     "output_type": "execute_result"
    }
   ],
   "source": [
    "clf = xgb.XGBClassifier(max_depth=5, objective='multi:softmax', n_estimators=100, \n",
    "                        num_classes=3)\n",
    "\n",
    "clf.fit(X_train, y_train)  "
   ]
  },
  {
   "cell_type": "code",
   "execution_count": 85,
   "metadata": {},
   "outputs": [],
   "source": [
    "y_pred = clf.predict(X_test)"
   ]
  },
  {
   "cell_type": "code",
   "execution_count": 86,
   "metadata": {},
   "outputs": [
    {
     "data": {
      "text/plain": [
       "0.80761080971857"
      ]
     },
     "execution_count": 86,
     "metadata": {},
     "output_type": "execute_result"
    }
   ],
   "source": [
    "from sklearn.metrics import f1_score\n",
    "f1_score(y_test, y_pred, average='weighted')"
   ]
  },
  {
   "cell_type": "code",
   "execution_count": null,
   "metadata": {},
   "outputs": [],
   "source": []
  }
 ],
 "metadata": {
  "kernelspec": {
   "display_name": "Python [conda env:learn-env] *",
   "language": "python",
   "name": "conda-env-learn-env-py"
  },
  "language_info": {
   "codemirror_mode": {
    "name": "ipython",
    "version": 3
   },
   "file_extension": ".py",
   "mimetype": "text/x-python",
   "name": "python",
   "nbconvert_exporter": "python",
   "pygments_lexer": "ipython3",
   "version": "3.6.9"
  },
  "toc": {
   "base_numbering": 1,
   "nav_menu": {},
   "number_sections": true,
   "sideBar": true,
   "skip_h1_title": false,
   "title_cell": "Table of Contents",
   "title_sidebar": "Contents",
   "toc_cell": true,
   "toc_position": {},
   "toc_section_display": true,
   "toc_window_display": true
  }
 },
 "nbformat": 4,
 "nbformat_minor": 2
}
