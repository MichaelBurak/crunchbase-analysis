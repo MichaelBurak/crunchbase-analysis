{
 "cells": [
  {
   "cell_type": "markdown",
   "metadata": {
    "toc": true
   },
   "source": [
    "<h1>Table of Contents<span class=\"tocSkip\"></span></h1>\n",
    "<div class=\"toc\"><ul class=\"toc-item\"><li><span><a href=\"#TO-DO:\" data-toc-modified-id=\"TO-DO:-1\"><span class=\"toc-item-num\">1&nbsp;&nbsp;</span>TO DO:</a></span><ul class=\"toc-item\"><li><span><a href=\"#Think-about-the-target-variable-and-any-engineering-of-it-needed-if-any\" data-toc-modified-id=\"Think-about-the-target-variable-and-any-engineering-of-it-needed-if-any-1.1\"><span class=\"toc-item-num\">1.1&nbsp;&nbsp;</span>Think about the target variable and any engineering of it needed if any</a></span></li><li><span><a href=\"#Add-more-charts-instead-of-value_counts(),-and-a-function-to-replace-that-and-add-on-to-evaluate-features\" data-toc-modified-id=\"Add-more-charts-instead-of-value_counts(),-and-a-function-to-replace-that-and-add-on-to-evaluate-features-1.2\"><span class=\"toc-item-num\">1.2&nbsp;&nbsp;</span>Add more charts instead of value_counts(), and a function to replace that and add on to evaluate features</a></span></li><li><span><a href=\"#More-feature-engineering---mostly-around-outliers,-those-aren't-very-much-handled\" data-toc-modified-id=\"More-feature-engineering---mostly-around-outliers,-those-aren't-very-much-handled-1.3\"><span class=\"toc-item-num\">1.3&nbsp;&nbsp;</span>More feature engineering - mostly around outliers, those aren't very much handled</a></span></li><li><span><a href=\"#Summary-statistics,-probably-in-that-function-above,-investigate-the-data-deeper\" data-toc-modified-id=\"Summary-statistics,-probably-in-that-function-above,-investigate-the-data-deeper-1.4\"><span class=\"toc-item-num\">1.4&nbsp;&nbsp;</span>Summary statistics, probably in that function above, investigate the data deeper</a></span></li><li><span><a href=\"#Research-how-the-funding-process-works(domain-knowledge)-and-use-to-inform-feature-engineering\" data-toc-modified-id=\"Research-how-the-funding-process-works(domain-knowledge)-and-use-to-inform-feature-engineering-1.5\"><span class=\"toc-item-num\">1.5&nbsp;&nbsp;</span>Research how the funding process works(domain knowledge) and use to inform feature engineering</a></span></li><li><span><a href=\"#Add-iterative-trees-up-to-xgboost,-not-just-decision-trees,-using-pipelines\" data-toc-modified-id=\"Add-iterative-trees-up-to-xgboost,-not-just-decision-trees,-using-pipelines-1.6\"><span class=\"toc-item-num\">1.6&nbsp;&nbsp;</span>Add iterative trees up to xgboost, not just decision trees, using pipelines</a></span></li><li><span><a href=\"#Work-on-tuning-the-clustering-algorithms-and-using-them-in-conjunction,-probably-using-pipelines\" data-toc-modified-id=\"Work-on-tuning-the-clustering-algorithms-and-using-them-in-conjunction,-probably-using-pipelines-1.7\"><span class=\"toc-item-num\">1.7&nbsp;&nbsp;</span>Work on tuning the clustering algorithms and using them in conjunction, probably using pipelines</a></span></li><li><span><a href=\"#Get-HDBSCAN-working\" data-toc-modified-id=\"Get-HDBSCAN-working-1.8\"><span class=\"toc-item-num\">1.8&nbsp;&nbsp;</span>Get HDBSCAN working</a></span></li><li><span><a href=\"#Try-other-clustering-algorithms(T-SNE-primarily)\" data-toc-modified-id=\"Try-other-clustering-algorithms(T-SNE-primarily)-1.9\"><span class=\"toc-item-num\">1.9&nbsp;&nbsp;</span>Try other clustering algorithms(T-SNE primarily)</a></span></li><li><span><a href=\"#Add-more-data-about-the-companies(webpage-information/traffic,-finances?)\" data-toc-modified-id=\"Add-more-data-about-the-companies(webpage-information/traffic,-finances?)-1.10\"><span class=\"toc-item-num\">1.10&nbsp;&nbsp;</span>Add more data about the companies(webpage information/traffic, finances?)</a></span></li><li><span><a href=\"#Add-textual-context-to-the-analysis-/-subject-matter\" data-toc-modified-id=\"Add-textual-context-to-the-analysis-/-subject-matter-1.11\"><span class=\"toc-item-num\">1.11&nbsp;&nbsp;</span>Add textual context to the analysis / subject matter</a></span></li><li><span><a href=\"#Plot-out-and-give-more-information-for-the-trees\" data-toc-modified-id=\"Plot-out-and-give-more-information-for-the-trees-1.12\"><span class=\"toc-item-num\">1.12&nbsp;&nbsp;</span>Plot out and give more information for the trees</a></span></li><li><span><a href=\"#Big-goal:-Get-.9-f1-I-gues\" data-toc-modified-id=\"Big-goal:-Get-.9-f1-I-gues-1.13\"><span class=\"toc-item-num\">1.13&nbsp;&nbsp;</span>Big goal: Get .9 f1 I gues</a></span></li></ul></li><li><span><a href=\"#Libraries,-initial-data-loading\" data-toc-modified-id=\"Libraries,-initial-data-loading-2\"><span class=\"toc-item-num\">2&nbsp;&nbsp;</span>Libraries, initial data loading</a></span><ul class=\"toc-item\"><li><span><a href=\"#Seed-funding-and-angel-funding-are-often-conflated\" data-toc-modified-id=\"Seed-funding-and-angel-funding-are-often-conflated-2.1\"><span class=\"toc-item-num\">2.1&nbsp;&nbsp;</span>Seed funding and angel funding are often conflated</a></span></li></ul></li><li><span><a href=\"#Beginning-to-look-at-the-data-and-deal-with-nulls\" data-toc-modified-id=\"Beginning-to-look-at-the-data-and-deal-with-nulls-3\"><span class=\"toc-item-num\">3&nbsp;&nbsp;</span>Beginning to look at the data and deal with nulls</a></span><ul class=\"toc-item\"><li><span><a href=\"#A-lot-of-seemingly-linked-nulls-around-8.9%,-dropping-rows-of-one-of-those-columns\" data-toc-modified-id=\"A-lot-of-seemingly-linked-nulls-around-8.9%,-dropping-rows-of-one-of-those-columns-3.1\"><span class=\"toc-item-num\">3.1&nbsp;&nbsp;</span>A lot of seemingly linked nulls around 8.9%, dropping rows of one of those columns</a></span></li><li><span><a href=\"#Dropping-38%-null-state_code\" data-toc-modified-id=\"Dropping-38%-null-state_code-3.2\"><span class=\"toc-item-num\">3.2&nbsp;&nbsp;</span>Dropping 38% null state_code</a></span></li><li><span><a href=\"#Renaming-these-odd-columns-by-stripping-whitespace\" data-toc-modified-id=\"Renaming-these-odd-columns-by-stripping-whitespace-3.3\"><span class=\"toc-item-num\">3.3&nbsp;&nbsp;</span>Renaming these odd columns by stripping whitespace</a></span></li><li><span><a href=\"#Dropping-for-lack-of-information\" data-toc-modified-id=\"Dropping-for-lack-of-information-3.4\"><span class=\"toc-item-num\">3.4&nbsp;&nbsp;</span>Dropping for lack of information</a></span></li><li><span><a href=\"#examining-objects-first-as-all-the-floats-are-non-null\" data-toc-modified-id=\"examining-objects-first-as-all-the-floats-are-non-null-3.5\"><span class=\"toc-item-num\">3.5&nbsp;&nbsp;</span>examining objects first as all the floats are non null</a></span></li><li><span><a href=\"#Way-many-categories-to-engineer:\" data-toc-modified-id=\"Way-many-categories-to-engineer:-3.6\"><span class=\"toc-item-num\">3.6&nbsp;&nbsp;</span>Way many categories to engineer:</a></span></li><li><span><a href=\"#Seems-to-be-an-inflated-version-of-market-in-that-market-takes-the-first-value\" data-toc-modified-id=\"Seems-to-be-an-inflated-version-of-market-in-that-market-takes-the-first-value-3.7\"><span class=\"toc-item-num\">3.7&nbsp;&nbsp;</span>Seems to be an inflated version of market in that market takes the first value</a></span></li><li><span><a href=\"#Dropping-inflated-category_list-for-now,-to-engineer-later\" data-toc-modified-id=\"Dropping-inflated-category_list-for-now,-to-engineer-later-3.8\"><span class=\"toc-item-num\">3.8&nbsp;&nbsp;</span>Dropping inflated category_list for now, to engineer later</a></span></li><li><span><a href=\"#Plotting-out-the-top-10-markets\" data-toc-modified-id=\"Plotting-out-the-top-10-markets-3.9\"><span class=\"toc-item-num\">3.9&nbsp;&nbsp;</span>Plotting out the top 10 markets</a></span></li><li><span><a href=\"#Funding-USD-has-commas-and---as-the-most-common-value,-these-are-issues.\" data-toc-modified-id=\"Funding-USD-has-commas-and---as-the-most-common-value,-these-are-issues.-3.10\"><span class=\"toc-item-num\">3.10&nbsp;&nbsp;</span>Funding USD has commas and - as the most common value, these are issues.</a></span></li><li><span><a href=\"#This-will-be-our-target-variable:-the-status-of-a-startup,-we-should-drop-the-NaN\" data-toc-modified-id=\"This-will-be-our-target-variable:-the-status-of-a-startup,-we-should-drop-the-NaN-3.11\"><span class=\"toc-item-num\">3.11&nbsp;&nbsp;</span>This will be our target variable: the status of a startup, we should drop the NaN</a></span></li><li><span><a href=\"#A-large-amount-of-0s-in-these-columns,-probably-drop,-but-they-might-contain-information?\" data-toc-modified-id=\"A-large-amount-of-0s-in-these-columns,-probably-drop,-but-they-might-contain-information?-3.12\"><span class=\"toc-item-num\">3.12&nbsp;&nbsp;</span>A large amount of 0s in these columns, probably drop, but they might contain information?</a></span></li><li><span><a href=\"#They-seem-to-be-operating-under-a-different-definition-from-many,-as-these-columns-are-not-very-correlated-at-all!\" data-toc-modified-id=\"They-seem-to-be-operating-under-a-different-definition-from-many,-as-these-columns-are-not-very-correlated-at-all!-3.13\"><span class=\"toc-item-num\">3.13&nbsp;&nbsp;</span>They seem to be operating under a different definition from many, as these columns are not very correlated at all!</a></span></li><li><span><a href=\"#Geo-vars-starting-with-country-code---to-be-count-and-frequency-encoded-or-one-hot-encoded-and-then-sparse-values-dropped\" data-toc-modified-id=\"Geo-vars-starting-with-country-code---to-be-count-and-frequency-encoded-or-one-hot-encoded-and-then-sparse-values-dropped-3.14\"><span class=\"toc-item-num\">3.14&nbsp;&nbsp;</span>Geo vars starting with country code - to be count and frequency encoded or one hot encoded and then sparse values dropped</a></span></li><li><span><a href=\"#Dummy-variable-and-drop-the-rarely-occurring-regions,-probably-highly-correlated-with-country\" data-toc-modified-id=\"Dummy-variable-and-drop-the-rarely-occurring-regions,-probably-highly-correlated-with-country-3.15\"><span class=\"toc-item-num\">3.15&nbsp;&nbsp;</span>Dummy variable and drop the rarely occurring regions, probably highly correlated with country</a></span></li><li><span><a href=\"#Dropping-city-due-to-presumable-high-correlation\" data-toc-modified-id=\"Dropping-city-due-to-presumable-high-correlation-3.16\"><span class=\"toc-item-num\">3.16&nbsp;&nbsp;</span>Dropping city due to presumable high correlation</a></span></li></ul></li><li><span><a href=\"#Datetime-variables\" data-toc-modified-id=\"Datetime-variables-4\"><span class=\"toc-item-num\">4&nbsp;&nbsp;</span>Datetime variables</a></span><ul class=\"toc-item\"><li><span><a href=\"#Resampling-datetime-to-year,-only-keeping-founded_at-of-year-month-quarter,-keeping-first-and-last-funding\" data-toc-modified-id=\"Resampling-datetime-to-year,-only-keeping-founded_at-of-year-month-quarter,-keeping-first-and-last-funding-4.1\"><span class=\"toc-item-num\">4.1&nbsp;&nbsp;</span>Resampling datetime to year, only keeping founded_at of year month quarter, keeping first and last funding</a></span></li><li><span><a href=\"#1962-is-a-very-early-year...make-note-to-remove-early-years-when-preprocessing-datetimes\" data-toc-modified-id=\"1962-is-a-very-early-year...make-note-to-remove-early-years-when-preprocessing-datetimes-4.2\"><span class=\"toc-item-num\">4.2&nbsp;&nbsp;</span>1962 is a very early year...make note to remove early years when preprocessing datetimes</a></span></li><li><span><a href=\"#Extracting-just-the-year-for-easier-encoding\" data-toc-modified-id=\"Extracting-just-the-year-for-easier-encoding-4.3\"><span class=\"toc-item-num\">4.3&nbsp;&nbsp;</span>Extracting just the year for easier encoding</a></span></li><li><span><a href=\"#Clearly-there-are-some-too-early-years-here\" data-toc-modified-id=\"Clearly-there-are-some-too-early-years-here-4.4\"><span class=\"toc-item-num\">4.4&nbsp;&nbsp;</span>Clearly there are some too early years here</a></span></li><li><span><a href=\"#Picking-1999-as-start-date-as-that's-when-the-numbers-begin-to-jump\" data-toc-modified-id=\"Picking-1999-as-start-date-as-that's-when-the-numbers-begin-to-jump-4.5\"><span class=\"toc-item-num\">4.5&nbsp;&nbsp;</span>Picking 1999 as start date as that's when the numbers begin to jump</a></span></li></ul></li><li><span><a href=\"#Is-the-year-founded-column-replaced-by-this?\" data-toc-modified-id=\"Is-the-year-founded-column-replaced-by-this?-5\"><span class=\"toc-item-num\">5&nbsp;&nbsp;</span>Is the year founded column replaced by this?</a></span><ul class=\"toc-item\"><li><span><a href=\"#To-do---look-for-and-selectively-remove-outliers\" data-toc-modified-id=\"To-do---look-for-and-selectively-remove-outliers-5.1\"><span class=\"toc-item-num\">5.1&nbsp;&nbsp;</span>To do - look for and selectively remove outliers</a></span></li></ul></li><li><span><a href=\"#Visualization\" data-toc-modified-id=\"Visualization-6\"><span class=\"toc-item-num\">6&nbsp;&nbsp;</span>Visualization</a></span><ul class=\"toc-item\"><li><span><a href=\"#Conclusions:\" data-toc-modified-id=\"Conclusions:-6.1\"><span class=\"toc-item-num\">6.1&nbsp;&nbsp;</span>Conclusions:</a></span></li><li><span><a href=\"#Encoding-market-and-country\" data-toc-modified-id=\"Encoding-market-and-country-6.2\"><span class=\"toc-item-num\">6.2&nbsp;&nbsp;</span>Encoding market and country</a></span></li><li><span><a href=\"#Encoding-and-dropping-base-variable-of-region\" data-toc-modified-id=\"Encoding-and-dropping-base-variable-of-region-6.3\"><span class=\"toc-item-num\">6.3&nbsp;&nbsp;</span>Encoding and dropping base variable of region</a></span></li><li><span><a href=\"#Dropping-over-99%-0s---is-this-good-practice?-Do-the-0s-contain-info?\" data-toc-modified-id=\"Dropping-over-99%-0s---is-this-good-practice?-Do-the-0s-contain-info?-6.4\"><span class=\"toc-item-num\">6.4&nbsp;&nbsp;</span>Dropping over 99% 0s - is this good practice? Do the 0s contain info?</a></span></li><li><span><a href=\"#Dropping-last-NaN-as-there's-very-little\" data-toc-modified-id=\"Dropping-last-NaN-as-there's-very-little-6.5\"><span class=\"toc-item-num\">6.5&nbsp;&nbsp;</span>Dropping last NaN as there's very little</a></span></li><li><span><a href=\"#Total-funding:-Gotta-impute-those---first-before-train-test-split!!!---imputing-as-0-on-funding_total_usd,-or-should-I-drop?\" data-toc-modified-id=\"Total-funding:-Gotta-impute-those---first-before-train-test-split!!!---imputing-as-0-on-funding_total_usd,-or-should-I-drop?-6.6\"><span class=\"toc-item-num\">6.6&nbsp;&nbsp;</span>Total funding: Gotta impute those - first before train test split!!! - imputing as 0 on funding_total_usd, or should I drop?</a></span></li><li><span><a href=\"#Most-likely---is-0\" data-toc-modified-id=\"Most-likely---is-0-6.7\"><span class=\"toc-item-num\">6.7&nbsp;&nbsp;</span>Most likely - is 0</a></span></li><li><span><a href=\"#A-bunch-of-thematic-columns,-why-not\" data-toc-modified-id=\"A-bunch-of-thematic-columns,-why-not-6.8\"><span class=\"toc-item-num\">6.8&nbsp;&nbsp;</span>A bunch of thematic columns, why not</a></span></li><li><span><a href=\"#Could-make-more!-Also-strip-the-whitespace-from-columns-again.\" data-toc-modified-id=\"Could-make-more!-Also-strip-the-whitespace-from-columns-again.-6.9\"><span class=\"toc-item-num\">6.9&nbsp;&nbsp;</span>Could make more! Also strip the whitespace from columns again.</a></span></li><li><span><a href=\"#Encoding-target-variable\" data-toc-modified-id=\"Encoding-target-variable-6.10\"><span class=\"toc-item-num\">6.10&nbsp;&nbsp;</span>Encoding target variable</a></span></li><li><span><a href=\"#One-last-check-of-correlation\" data-toc-modified-id=\"One-last-check-of-correlation-6.11\"><span class=\"toc-item-num\">6.11&nbsp;&nbsp;</span>One last check of correlation</a></span></li><li><span><a href=\"#TO-DO:-Need-to-examine-this-further\" data-toc-modified-id=\"TO-DO:-Need-to-examine-this-further-6.12\"><span class=\"toc-item-num\">6.12&nbsp;&nbsp;</span>TO DO: Need to examine this further</a></span></li></ul></li><li><span><a href=\"#TO-DO:-Feature-Selection-pt.-1\" data-toc-modified-id=\"TO-DO:-Feature-Selection-pt.-1-7\"><span class=\"toc-item-num\">7&nbsp;&nbsp;</span>TO DO: Feature Selection pt. 1</a></span></li><li><span><a href=\"#Synthetic-data/noise-generation-/-dimensional-manipulations\" data-toc-modified-id=\"Synthetic-data/noise-generation-/-dimensional-manipulations-8\"><span class=\"toc-item-num\">8&nbsp;&nbsp;</span>Synthetic data/noise generation / dimensional manipulations</a></span></li><li><span><a href=\"#Modeling\" data-toc-modified-id=\"Modeling-9\"><span class=\"toc-item-num\">9&nbsp;&nbsp;</span>Modeling</a></span><ul class=\"toc-item\"><li><span><a href=\"#Metrics-for-tuning\" data-toc-modified-id=\"Metrics-for-tuning-9.1\"><span class=\"toc-item-num\">9.1&nbsp;&nbsp;</span>Metrics for tuning</a></span></li><li><span><a href=\"#Train-test-split\" data-toc-modified-id=\"Train-test-split-9.2\"><span class=\"toc-item-num\">9.2&nbsp;&nbsp;</span>Train test split</a></span></li></ul></li><li><span><a href=\"#Checking-for-variance\" data-toc-modified-id=\"Checking-for-variance-10\"><span class=\"toc-item-num\">10&nbsp;&nbsp;</span>Checking for variance</a></span><ul class=\"toc-item\"><li><span><a href=\"#Minmax-scaling-X-split\" data-toc-modified-id=\"Minmax-scaling-X-split-10.1\"><span class=\"toc-item-num\">10.1&nbsp;&nbsp;</span>Minmax scaling X split</a></span></li><li><span><a href=\"#First-model---decision-tree-with-default-parameters\" data-toc-modified-id=\"First-model---decision-tree-with-default-parameters-10.2\"><span class=\"toc-item-num\">10.2&nbsp;&nbsp;</span>First model - decision tree with default parameters</a></span></li><li><span><a href=\"#Metrics:\" data-toc-modified-id=\"Metrics:-10.3\"><span class=\"toc-item-num\">10.3&nbsp;&nbsp;</span>Metrics:</a></span></li><li><span><a href=\"#.8-baseline\" data-toc-modified-id=\".8-baseline-10.4\"><span class=\"toc-item-num\">10.4&nbsp;&nbsp;</span>.8 baseline</a></span></li><li><span><a href=\"#Function-for-visualization\" data-toc-modified-id=\"Function-for-visualization-10.5\"><span class=\"toc-item-num\">10.5&nbsp;&nbsp;</span>Function for visualization</a></span></li><li><span><a href=\"#This-shows-the-very-imbalanced-classes-leading-to-imbalanced-results---1-is-predominant-while-0-and-2-occupy-a-small-set-of-y\" data-toc-modified-id=\"This-shows-the-very-imbalanced-classes-leading-to-imbalanced-results---1-is-predominant-while-0-and-2-occupy-a-small-set-of-y-10.6\"><span class=\"toc-item-num\">10.6&nbsp;&nbsp;</span>This shows the very imbalanced classes leading to imbalanced results - 1 is predominant while 0 and 2 occupy a small set of y</a></span></li></ul></li><li><span><a href=\"#PCA\" data-toc-modified-id=\"PCA-11\"><span class=\"toc-item-num\">11&nbsp;&nbsp;</span>PCA</a></span><ul class=\"toc-item\"><li><span><a href=\"#Training-PCA-and-a-decision-tree-with-a-pipeline-grid-search\" data-toc-modified-id=\"Training-PCA-and-a-decision-tree-with-a-pipeline-grid-search-11.1\"><span class=\"toc-item-num\">11.1&nbsp;&nbsp;</span>Training PCA and a decision tree with a pipeline grid search</a></span></li><li><span><a href=\"#Maintains-similar-results-with-smaller-feature-space-while-benefiting-from-hyperparam-tuning\" data-toc-modified-id=\"Maintains-similar-results-with-smaller-feature-space-while-benefiting-from-hyperparam-tuning-11.2\"><span class=\"toc-item-num\">11.2&nbsp;&nbsp;</span>Maintains similar results with smaller feature space while benefiting from hyperparam tuning</a></span></li><li><span><a href=\"#Even-without-weighting-of-trees-or-resampling-performance-on-the-minority-class-increases\" data-toc-modified-id=\"Even-without-weighting-of-trees-or-resampling-performance-on-the-minority-class-increases-11.3\"><span class=\"toc-item-num\">11.3&nbsp;&nbsp;</span>Even without weighting of trees or resampling performance on the minority class increases</a></span></li><li><span><a href=\"#TO-DO:-Turn-the-above-into-a-function-^-of-plots-and-Polynomial-features\" data-toc-modified-id=\"TO-DO:-Turn-the-above-into-a-function-^-of-plots-and-Polynomial-features-11.4\"><span class=\"toc-item-num\">11.4&nbsp;&nbsp;</span>TO DO: Turn the above into a function ^ of plots and Polynomial features</a></span></li><li><span><a href=\"#polynomial-features-do-not-seem-to-boost-performance\" data-toc-modified-id=\"polynomial-features-do-not-seem-to-boost-performance-11.5\"><span class=\"toc-item-num\">11.5&nbsp;&nbsp;</span>polynomial features do not seem to boost performance</a></span></li><li><span><a href=\"#PCA-seems-the-way-to-go,-at-n=30-components\" data-toc-modified-id=\"PCA-seems-the-way-to-go,-at-n=30-components-11.6\"><span class=\"toc-item-num\">11.6&nbsp;&nbsp;</span>PCA seems the way to go, at n=30 components</a></span></li></ul></li><li><span><a href=\"#SMOTE-pipeline,-add-PCA,-other-samplers,-FORGOT-TO-SMOTE-AFTER-SEARCH-OOPS\" data-toc-modified-id=\"SMOTE-pipeline,-add-PCA,-other-samplers,-FORGOT-TO-SMOTE-AFTER-SEARCH-OOPS-12\"><span class=\"toc-item-num\">12&nbsp;&nbsp;</span>SMOTE pipeline, add PCA, other samplers, FORGOT TO SMOTE AFTER SEARCH OOPS</a></span><ul class=\"toc-item\"><li><span><a href=\"#Not-much-improvement-on-performance-with-the-addition-of-SMOTE-on-PCA\" data-toc-modified-id=\"Not-much-improvement-on-performance-with-the-addition-of-SMOTE-on-PCA-12.1\"><span class=\"toc-item-num\">12.1&nbsp;&nbsp;</span>Not much improvement on performance with the addition of SMOTE on PCA</a></span></li><li><span><a href=\"#SMOTE\" data-toc-modified-id=\"SMOTE-12.2\"><span class=\"toc-item-num\">12.2&nbsp;&nbsp;</span>SMOTE</a></span></li><li><span><a href=\"#Oddly-goes-down-after-date-encoding-and-SMOTE---good-place-for-a-classification-report\" data-toc-modified-id=\"Oddly-goes-down-after-date-encoding-and-SMOTE---good-place-for-a-classification-report-12.3\"><span class=\"toc-item-num\">12.3&nbsp;&nbsp;</span>Oddly goes down after date encoding and SMOTE - good place for a classification report</a></span></li><li><span><a href=\"#Better-performance-on-minority-classes\" data-toc-modified-id=\"Better-performance-on-minority-classes-12.4\"><span class=\"toc-item-num\">12.4&nbsp;&nbsp;</span>Better performance on minority classes</a></span></li></ul></li><li><span><a href=\"#Hyperparamater-tuning-off-SMOTE\" data-toc-modified-id=\"Hyperparamater-tuning-off-SMOTE-13\"><span class=\"toc-item-num\">13&nbsp;&nbsp;</span>Hyperparamater tuning off SMOTE</a></span><ul class=\"toc-item\"><li><span><a href=\"#Focuses-on-one-class-after-tuning---'balanced'-as-a-default-parameter-would-lead-to-more-balanced-results\" data-toc-modified-id=\"Focuses-on-one-class-after-tuning---'balanced'-as-a-default-parameter-would-lead-to-more-balanced-results-13.1\"><span class=\"toc-item-num\">13.1&nbsp;&nbsp;</span>Focuses on one class after tuning - 'balanced' as a default parameter would lead to more balanced results</a></span></li></ul></li><li><span><a href=\"#Over-and-undersampling---SMOTENN:-took-5-min-21s-to-run,-try-on-PCA-first\" data-toc-modified-id=\"Over-and-undersampling---SMOTENN:-took-5-min-21s-to-run,-try-on-PCA-first-14\"><span class=\"toc-item-num\">14&nbsp;&nbsp;</span>Over and undersampling - SMOTENN: took 5 min 21s to run, try on PCA first</a></span><ul class=\"toc-item\"><li><span><a href=\"#Even-worse-performance-on-f1-weighted\" data-toc-modified-id=\"Even-worse-performance-on-f1-weighted-14.1\"><span class=\"toc-item-num\">14.1&nbsp;&nbsp;</span>Even worse performance on f1 weighted</a></span></li><li><span><a href=\"#But-rather-balanced-assesment-of-classes\" data-toc-modified-id=\"But-rather-balanced-assesment-of-classes-14.2\"><span class=\"toc-item-num\">14.2&nbsp;&nbsp;</span>But rather balanced assesment of classes</a></span></li></ul></li><li><span><a href=\"#Hyperparamater-tuning-off-SMOTENN\" data-toc-modified-id=\"Hyperparamater-tuning-off-SMOTENN-15\"><span class=\"toc-item-num\">15&nbsp;&nbsp;</span>Hyperparamater tuning off SMOTENN</a></span><ul class=\"toc-item\"><li><span><a href=\"#Grid-search-gives-rather-bad-results-on-f1-weighted\" data-toc-modified-id=\"Grid-search-gives-rather-bad-results-on-f1-weighted-15.1\"><span class=\"toc-item-num\">15.1&nbsp;&nbsp;</span>Grid search gives rather bad results on f1 weighted</a></span></li><li><span><a href=\"#Strong-recall-across-all-classes-and-maybe-the-best-balanced-classifier-in-some-ways,-but-not-the-best-f1-weighted\" data-toc-modified-id=\"Strong-recall-across-all-classes-and-maybe-the-best-balanced-classifier-in-some-ways,-but-not-the-best-f1-weighted-15.2\"><span class=\"toc-item-num\">15.2&nbsp;&nbsp;</span>Strong recall across all classes and maybe the best balanced classifier in some ways, but not the best f1 weighted</a></span></li><li><span><a href=\"#SMOTomek-sampling--4-min-11s\" data-toc-modified-id=\"SMOTomek-sampling--4-min-11s-15.3\"><span class=\"toc-item-num\">15.3&nbsp;&nbsp;</span>SMOTomek sampling- 4 min 11s</a></span></li><li><span><a href=\"#slightly-better-performance-than-smottenn\" data-toc-modified-id=\"slightly-better-performance-than-smottenn-15.4\"><span class=\"toc-item-num\">15.4&nbsp;&nbsp;</span>slightly better performance than smottenn</a></span></li><li><span><a href=\"#And-just-about-the-usual-assessment-of-classes\" data-toc-modified-id=\"And-just-about-the-usual-assessment-of-classes-15.5\"><span class=\"toc-item-num\">15.5&nbsp;&nbsp;</span>And just about the usual assessment of classes</a></span></li></ul></li><li><span><a href=\"#Hyperparamater-tuning-off-Smotek\" data-toc-modified-id=\"Hyperparamater-tuning-off-Smotek-16\"><span class=\"toc-item-num\">16&nbsp;&nbsp;</span>Hyperparamater tuning off Smotek</a></span><ul class=\"toc-item\"><li><span><a href=\"#Grid-search-gives-rather-bad-results-on-f1-weighted-again\" data-toc-modified-id=\"Grid-search-gives-rather-bad-results-on-f1-weighted-again-16.1\"><span class=\"toc-item-num\">16.1&nbsp;&nbsp;</span>Grid search gives rather bad results on f1 weighted again</a></span></li><li><span><a href=\"#Strong-recall-across-all-classes-and-maybe-the-best-balanced-classifier-in-some-ways,-but-not-the-best-f1-weighted\" data-toc-modified-id=\"Strong-recall-across-all-classes-and-maybe-the-best-balanced-classifier-in-some-ways,-but-not-the-best-f1-weighted-16.2\"><span class=\"toc-item-num\">16.2&nbsp;&nbsp;</span>Strong recall across all classes and maybe the best balanced classifier in some ways, but not the best f1 weighted</a></span></li><li><span><a href=\"#Lastly,-the-paper-for-SMOTE-suggests-Random-Undersampling\" data-toc-modified-id=\"Lastly,-the-paper-for-SMOTE-suggests-Random-Undersampling-16.3\"><span class=\"toc-item-num\">16.3&nbsp;&nbsp;</span>Lastly, the paper for SMOTE suggests Random Undersampling</a></span></li><li><span><a href=\"#slightly-better-performance-than-smottenn\" data-toc-modified-id=\"slightly-better-performance-than-smottenn-16.4\"><span class=\"toc-item-num\">16.4&nbsp;&nbsp;</span>slightly better performance than smottenn</a></span></li><li><span><a href=\"#usual-assessment-of-classes-for-sampling\" data-toc-modified-id=\"usual-assessment-of-classes-for-sampling-16.5\"><span class=\"toc-item-num\">16.5&nbsp;&nbsp;</span>usual assessment of classes for sampling</a></span></li></ul></li><li><span><a href=\"#Hyperparamater-tuning-off-Smotek\" data-toc-modified-id=\"Hyperparamater-tuning-off-Smotek-17\"><span class=\"toc-item-num\">17&nbsp;&nbsp;</span>Hyperparamater tuning off Smotek</a></span><ul class=\"toc-item\"><li><span><a href=\"#Grid-search-gives-rather-bad-results-on-f1-weighted-again\" data-toc-modified-id=\"Grid-search-gives-rather-bad-results-on-f1-weighted-again-17.1\"><span class=\"toc-item-num\">17.1&nbsp;&nbsp;</span>Grid search gives rather bad results on f1 weighted again</a></span></li><li><span><a href=\"#About-the-same-as-balanced-tends-to-be\" data-toc-modified-id=\"About-the-same-as-balanced-tends-to-be-17.2\"><span class=\"toc-item-num\">17.2&nbsp;&nbsp;</span>About the same as balanced tends to be</a></span></li><li><span><a href=\"#Strong-recall-across-all-classes-again\" data-toc-modified-id=\"Strong-recall-across-all-classes-again-17.3\"><span class=\"toc-item-num\">17.3&nbsp;&nbsp;</span>Strong recall across all classes again</a></span></li></ul></li><li><span><a href=\"#TO-DO:-Pipeline-all-the-PCA,-sampling-and-modeling-and-tuning-and-metrics-and-viz-together\" data-toc-modified-id=\"TO-DO:-Pipeline-all-the-PCA,-sampling-and-modeling-and-tuning-and-metrics-and-viz-together-18\"><span class=\"toc-item-num\">18&nbsp;&nbsp;</span>TO DO: Pipeline all the PCA, sampling and modeling and tuning and metrics and viz together</a></span></li><li><span><a href=\"#Feature-selection---using-most-important-features-of-lightgbm---should-this-be-done-before-or-after-SMOTE?-Also,-implement-simpler-methods-first,-this-is-cheesy\" data-toc-modified-id=\"Feature-selection---using-most-important-features-of-lightgbm---should-this-be-done-before-or-after-SMOTE?-Also,-implement-simpler-methods-first,-this-is-cheesy-19\"><span class=\"toc-item-num\">19&nbsp;&nbsp;</span>Feature selection - using most important features of lightgbm - should this be done before or after SMOTE? Also, implement simpler methods first, this is cheesy</a></span><ul class=\"toc-item\"><li><span><a href=\"#New-X-and-train-test-split-with-SMOTE-reduced-feature-set\" data-toc-modified-id=\"New-X-and-train-test-split-with-SMOTE-reduced-feature-set-19.1\"><span class=\"toc-item-num\">19.1&nbsp;&nbsp;</span>New X and train test split with SMOTE reduced feature set</a></span></li><li><span><a href=\"#Trees-perform-better-thanks-to-trees\" data-toc-modified-id=\"Trees-perform-better-thanks-to-trees-19.2\"><span class=\"toc-item-num\">19.2&nbsp;&nbsp;</span>Trees perform better thanks to trees</a></span></li></ul></li><li><span><a href=\"#Clustering-as-feeders---need-to-rewrite-most-of-this-to:\" data-toc-modified-id=\"Clustering-as-feeders---need-to-rewrite-most-of-this-to:-20\"><span class=\"toc-item-num\">20&nbsp;&nbsp;</span>Clustering as feeders - need to rewrite most of this to:</a></span><ul class=\"toc-item\"><li><span><a href=\"#Most-importantly,-add-'km_cluster'-to-existing-dataframe\" data-toc-modified-id=\"Most-importantly,-add-'km_cluster'-to-existing-dataframe-20.1\"><span class=\"toc-item-num\">20.1&nbsp;&nbsp;</span>Most importantly, add 'km_cluster' to existing dataframe</a></span></li><li><span><a href=\"#Credit-to:\" data-toc-modified-id=\"Credit-to:-20.2\"><span class=\"toc-item-num\">20.2&nbsp;&nbsp;</span>Credit to:</a></span></li><li><span><a href=\"#Slight-jump-in-f1\" data-toc-modified-id=\"Slight-jump-in-f1-20.3\"><span class=\"toc-item-num\">20.3&nbsp;&nbsp;</span>Slight jump in f1</a></span></li><li><span><a href=\"#Not-much-on-results,-trying-HDBSCAN-and-then-DBSCAN-and-t-SNE\" data-toc-modified-id=\"Not-much-on-results,-trying-HDBSCAN-and-then-DBSCAN-and-t-SNE-20.4\"><span class=\"toc-item-num\">20.4&nbsp;&nbsp;</span>Not much on results, trying HDBSCAN and then DBSCAN and t-SNE</a></span></li><li><span><a href=\"#Hdbscan's-params-should-be-examined-and-tuned-to-see-if-it-gives-results---right-now-it's-giving-invalid-indices/out-of-range\" data-toc-modified-id=\"Hdbscan's-params-should-be-examined-and-tuned-to-see-if-it-gives-results---right-now-it's-giving-invalid-indices/out-of-range-20.5\"><span class=\"toc-item-num\">20.5&nbsp;&nbsp;</span>Hdbscan's params should be examined and tuned to see if it gives results - right now it's giving invalid indices/out of range</a></span></li></ul></li><li><span><a href=\"#Probably-good-to-visualize-these\" data-toc-modified-id=\"Probably-good-to-visualize-these-21\"><span class=\"toc-item-num\">21&nbsp;&nbsp;</span>Probably good to visualize these</a></span></li><li><span><a href=\"#Genetic-algorithms-and-bayesian-methods-for-optimization/feature-selection-or-reduction\" data-toc-modified-id=\"Genetic-algorithms-and-bayesian-methods-for-optimization/feature-selection-or-reduction-22\"><span class=\"toc-item-num\">22&nbsp;&nbsp;</span>Genetic algorithms and bayesian methods for optimization/feature selection or reduction</a></span><ul class=\"toc-item\"><li><span><a href=\"#DBSCAN---also-needs-to-be-tuned,-doesn't-have-a-predictor-method-here\" data-toc-modified-id=\"DBSCAN---also-needs-to-be-tuned,-doesn't-have-a-predictor-method-here-22.1\"><span class=\"toc-item-num\">22.1&nbsp;&nbsp;</span>DBSCAN - also needs to be tuned, doesn't have a predictor method here</a></span></li></ul></li><li><span><a href=\"#Making-blobs-and-junk-because-I-can't-make-this-classifier-more-accurate-after-feature-selection:-should-tune-the-clustering-algorithms-more\" data-toc-modified-id=\"Making-blobs-and-junk-because-I-can't-make-this-classifier-more-accurate-after-feature-selection:-should-tune-the-clustering-algorithms-more-23\"><span class=\"toc-item-num\">23&nbsp;&nbsp;</span>Making blobs and junk because I can't make this classifier more accurate after feature selection: should tune the clustering algorithms more</a></span></li><li><span><a href=\"#Probably-add-some-feature-importance-plots-and-other-metrics\" data-toc-modified-id=\"Probably-add-some-feature-importance-plots-and-other-metrics-24\"><span class=\"toc-item-num\">24&nbsp;&nbsp;</span>Probably add some feature importance plots and other metrics</a></span></li><li><span><a href=\"#Code-below-not-being-used\" data-toc-modified-id=\"Code-below-not-being-used-25\"><span class=\"toc-item-num\">25&nbsp;&nbsp;</span>Code below not being used</a></span></li></ul></div>"
   ]
  },
  {
   "cell_type": "markdown",
   "metadata": {},
   "source": [
    "# TO DO: \n",
    "- ## Think about the target variable and any engineering of it needed if any\n",
    "- ## Add more charts instead of value_counts(), and a function to replace that and add on to evaluate features\n",
    "- ## More feature engineering - mostly around outliers, those aren't very much handled\n",
    "- ## Summary statistics, probably in that function above, investigate the data deeper\n",
    "- ## Research how the funding process works(domain knowledge) and use to inform feature engineering\n",
    "- ## Add iterative trees up to xgboost, not just decision trees, using pipelines\n",
    "- ## Work on tuning the clustering algorithms and using them in conjunction, probably using pipelines\n",
    "- ## Get HDBSCAN working\n",
    "- ## Try other clustering algorithms(T-SNE primarily)\n",
    "- ## Add more data about the companies(webpage information/traffic, finances?)\n",
    "- ## Add textual context to the analysis / subject matter\n",
    "- ## Plot out and give more information for the trees\n",
    "- ## Big goal: Get .9 f1 I gues"
   ]
  },
  {
   "cell_type": "markdown",
   "metadata": {},
   "source": [
    "# Libraries, initial data loading"
   ]
  },
  {
   "cell_type": "code",
   "execution_count": 2,
   "metadata": {
    "ExecuteTime": {
     "end_time": "2020-04-06T22:25:03.056762Z",
     "start_time": "2020-04-06T22:25:03.036486Z"
    },
    "collapsed": true
   },
   "outputs": [],
   "source": [
    "import numpy as np \n",
    "import pandas as pd \n",
    "import matplotlib.pyplot as plt \n",
    "import seaborn as sns\n",
    "from sklearn.ensemble import IsolationForest"
   ]
  },
  {
   "cell_type": "markdown",
   "metadata": {},
   "source": [
    "## Seed funding and angel funding are often conflated"
   ]
  },
  {
   "cell_type": "code",
   "execution_count": 3,
   "metadata": {
    "ExecuteTime": {
     "end_time": "2020-04-06T22:25:03.928047Z",
     "start_time": "2020-04-06T22:25:03.062003Z"
    },
    "collapsed": false,
    "scrolled": true
   },
   "outputs": [
    {
     "data": {
      "text/html": [
       "<div>\n",
       "<style scoped>\n",
       "    .dataframe tbody tr th:only-of-type {\n",
       "        vertical-align: middle;\n",
       "    }\n",
       "\n",
       "    .dataframe tbody tr th {\n",
       "        vertical-align: top;\n",
       "    }\n",
       "\n",
       "    .dataframe thead th {\n",
       "        text-align: right;\n",
       "    }\n",
       "</style>\n",
       "<table border=\"1\" class=\"dataframe\">\n",
       "  <thead>\n",
       "    <tr style=\"text-align: right;\">\n",
       "      <th></th>\n",
       "      <th>permalink</th>\n",
       "      <th>name</th>\n",
       "      <th>homepage_url</th>\n",
       "      <th>category_list</th>\n",
       "      <th>market</th>\n",
       "      <th>funding_total_usd</th>\n",
       "      <th>status</th>\n",
       "      <th>country_code</th>\n",
       "      <th>state_code</th>\n",
       "      <th>region</th>\n",
       "      <th>...</th>\n",
       "      <th>secondary_market</th>\n",
       "      <th>product_crowdfunding</th>\n",
       "      <th>round_A</th>\n",
       "      <th>round_B</th>\n",
       "      <th>round_C</th>\n",
       "      <th>round_D</th>\n",
       "      <th>round_E</th>\n",
       "      <th>round_F</th>\n",
       "      <th>round_G</th>\n",
       "      <th>round_H</th>\n",
       "    </tr>\n",
       "  </thead>\n",
       "  <tbody>\n",
       "    <tr>\n",
       "      <td>0</td>\n",
       "      <td>/organization/waywire</td>\n",
       "      <td>#waywire</td>\n",
       "      <td>http://www.waywire.com</td>\n",
       "      <td>|Entertainment|Politics|Social Media|News|</td>\n",
       "      <td>News</td>\n",
       "      <td>17,50,000</td>\n",
       "      <td>acquired</td>\n",
       "      <td>USA</td>\n",
       "      <td>NY</td>\n",
       "      <td>New York City</td>\n",
       "      <td>...</td>\n",
       "      <td>0.0</td>\n",
       "      <td>0.0</td>\n",
       "      <td>0.0</td>\n",
       "      <td>0.0</td>\n",
       "      <td>0.0</td>\n",
       "      <td>0.0</td>\n",
       "      <td>0.0</td>\n",
       "      <td>0.0</td>\n",
       "      <td>0.0</td>\n",
       "      <td>0.0</td>\n",
       "    </tr>\n",
       "    <tr>\n",
       "      <td>1</td>\n",
       "      <td>/organization/tv-communications</td>\n",
       "      <td>&amp;TV Communications</td>\n",
       "      <td>http://enjoyandtv.com</td>\n",
       "      <td>|Games|</td>\n",
       "      <td>Games</td>\n",
       "      <td>40,00,000</td>\n",
       "      <td>operating</td>\n",
       "      <td>USA</td>\n",
       "      <td>CA</td>\n",
       "      <td>Los Angeles</td>\n",
       "      <td>...</td>\n",
       "      <td>0.0</td>\n",
       "      <td>0.0</td>\n",
       "      <td>0.0</td>\n",
       "      <td>0.0</td>\n",
       "      <td>0.0</td>\n",
       "      <td>0.0</td>\n",
       "      <td>0.0</td>\n",
       "      <td>0.0</td>\n",
       "      <td>0.0</td>\n",
       "      <td>0.0</td>\n",
       "    </tr>\n",
       "    <tr>\n",
       "      <td>2</td>\n",
       "      <td>/organization/rock-your-paper</td>\n",
       "      <td>'Rock' Your Paper</td>\n",
       "      <td>http://www.rockyourpaper.org</td>\n",
       "      <td>|Publishing|Education|</td>\n",
       "      <td>Publishing</td>\n",
       "      <td>40,000</td>\n",
       "      <td>operating</td>\n",
       "      <td>EST</td>\n",
       "      <td>NaN</td>\n",
       "      <td>Tallinn</td>\n",
       "      <td>...</td>\n",
       "      <td>0.0</td>\n",
       "      <td>0.0</td>\n",
       "      <td>0.0</td>\n",
       "      <td>0.0</td>\n",
       "      <td>0.0</td>\n",
       "      <td>0.0</td>\n",
       "      <td>0.0</td>\n",
       "      <td>0.0</td>\n",
       "      <td>0.0</td>\n",
       "      <td>0.0</td>\n",
       "    </tr>\n",
       "    <tr>\n",
       "      <td>3</td>\n",
       "      <td>/organization/in-touch-network</td>\n",
       "      <td>(In)Touch Network</td>\n",
       "      <td>http://www.InTouchNetwork.com</td>\n",
       "      <td>|Electronics|Guides|Coffee|Restaurants|Music|i...</td>\n",
       "      <td>Electronics</td>\n",
       "      <td>15,00,000</td>\n",
       "      <td>operating</td>\n",
       "      <td>GBR</td>\n",
       "      <td>NaN</td>\n",
       "      <td>London</td>\n",
       "      <td>...</td>\n",
       "      <td>0.0</td>\n",
       "      <td>0.0</td>\n",
       "      <td>0.0</td>\n",
       "      <td>0.0</td>\n",
       "      <td>0.0</td>\n",
       "      <td>0.0</td>\n",
       "      <td>0.0</td>\n",
       "      <td>0.0</td>\n",
       "      <td>0.0</td>\n",
       "      <td>0.0</td>\n",
       "    </tr>\n",
       "    <tr>\n",
       "      <td>4</td>\n",
       "      <td>/organization/r-ranch-and-mine</td>\n",
       "      <td>-R- Ranch and Mine</td>\n",
       "      <td>NaN</td>\n",
       "      <td>|Tourism|Entertainment|Games|</td>\n",
       "      <td>Tourism</td>\n",
       "      <td>60,000</td>\n",
       "      <td>operating</td>\n",
       "      <td>USA</td>\n",
       "      <td>TX</td>\n",
       "      <td>Dallas</td>\n",
       "      <td>...</td>\n",
       "      <td>0.0</td>\n",
       "      <td>0.0</td>\n",
       "      <td>0.0</td>\n",
       "      <td>0.0</td>\n",
       "      <td>0.0</td>\n",
       "      <td>0.0</td>\n",
       "      <td>0.0</td>\n",
       "      <td>0.0</td>\n",
       "      <td>0.0</td>\n",
       "      <td>0.0</td>\n",
       "    </tr>\n",
       "    <tr>\n",
       "      <td>5</td>\n",
       "      <td>/organization/club-domains</td>\n",
       "      <td>.Club Domains</td>\n",
       "      <td>http://nic.club/</td>\n",
       "      <td>|Software|</td>\n",
       "      <td>Software</td>\n",
       "      <td>70,00,000</td>\n",
       "      <td>NaN</td>\n",
       "      <td>USA</td>\n",
       "      <td>FL</td>\n",
       "      <td>Ft. Lauderdale</td>\n",
       "      <td>...</td>\n",
       "      <td>0.0</td>\n",
       "      <td>0.0</td>\n",
       "      <td>0.0</td>\n",
       "      <td>7000000.0</td>\n",
       "      <td>0.0</td>\n",
       "      <td>0.0</td>\n",
       "      <td>0.0</td>\n",
       "      <td>0.0</td>\n",
       "      <td>0.0</td>\n",
       "      <td>0.0</td>\n",
       "    </tr>\n",
       "    <tr>\n",
       "      <td>6</td>\n",
       "      <td>/organization/fox-networks</td>\n",
       "      <td>.Fox Networks</td>\n",
       "      <td>http://www.dotfox.com</td>\n",
       "      <td>|Advertising|</td>\n",
       "      <td>Advertising</td>\n",
       "      <td>49,12,393</td>\n",
       "      <td>closed</td>\n",
       "      <td>ARG</td>\n",
       "      <td>NaN</td>\n",
       "      <td>Buenos Aires</td>\n",
       "      <td>...</td>\n",
       "      <td>0.0</td>\n",
       "      <td>0.0</td>\n",
       "      <td>0.0</td>\n",
       "      <td>0.0</td>\n",
       "      <td>0.0</td>\n",
       "      <td>0.0</td>\n",
       "      <td>0.0</td>\n",
       "      <td>0.0</td>\n",
       "      <td>0.0</td>\n",
       "      <td>0.0</td>\n",
       "    </tr>\n",
       "    <tr>\n",
       "      <td>7</td>\n",
       "      <td>/organization/0-6-com</td>\n",
       "      <td>0-6.com</td>\n",
       "      <td>http://www.0-6.com</td>\n",
       "      <td>|Curated Web|</td>\n",
       "      <td>Curated Web</td>\n",
       "      <td>20,00,000</td>\n",
       "      <td>operating</td>\n",
       "      <td>NaN</td>\n",
       "      <td>NaN</td>\n",
       "      <td>NaN</td>\n",
       "      <td>...</td>\n",
       "      <td>0.0</td>\n",
       "      <td>0.0</td>\n",
       "      <td>2000000.0</td>\n",
       "      <td>0.0</td>\n",
       "      <td>0.0</td>\n",
       "      <td>0.0</td>\n",
       "      <td>0.0</td>\n",
       "      <td>0.0</td>\n",
       "      <td>0.0</td>\n",
       "      <td>0.0</td>\n",
       "    </tr>\n",
       "    <tr>\n",
       "      <td>8</td>\n",
       "      <td>/organization/004-technologies</td>\n",
       "      <td>004 Technologies</td>\n",
       "      <td>http://004gmbh.de/en/004-interact</td>\n",
       "      <td>|Software|</td>\n",
       "      <td>Software</td>\n",
       "      <td>-</td>\n",
       "      <td>operating</td>\n",
       "      <td>USA</td>\n",
       "      <td>IL</td>\n",
       "      <td>Springfield, Illinois</td>\n",
       "      <td>...</td>\n",
       "      <td>0.0</td>\n",
       "      <td>0.0</td>\n",
       "      <td>0.0</td>\n",
       "      <td>0.0</td>\n",
       "      <td>0.0</td>\n",
       "      <td>0.0</td>\n",
       "      <td>0.0</td>\n",
       "      <td>0.0</td>\n",
       "      <td>0.0</td>\n",
       "      <td>0.0</td>\n",
       "    </tr>\n",
       "    <tr>\n",
       "      <td>9</td>\n",
       "      <td>/organization/01games-technology</td>\n",
       "      <td>01Games Technology</td>\n",
       "      <td>http://www.01games.hk/</td>\n",
       "      <td>|Games|</td>\n",
       "      <td>Games</td>\n",
       "      <td>41,250</td>\n",
       "      <td>operating</td>\n",
       "      <td>HKG</td>\n",
       "      <td>NaN</td>\n",
       "      <td>Hong Kong</td>\n",
       "      <td>...</td>\n",
       "      <td>0.0</td>\n",
       "      <td>0.0</td>\n",
       "      <td>0.0</td>\n",
       "      <td>0.0</td>\n",
       "      <td>0.0</td>\n",
       "      <td>0.0</td>\n",
       "      <td>0.0</td>\n",
       "      <td>0.0</td>\n",
       "      <td>0.0</td>\n",
       "      <td>0.0</td>\n",
       "    </tr>\n",
       "  </tbody>\n",
       "</table>\n",
       "<p>10 rows × 39 columns</p>\n",
       "</div>"
      ],
      "text/plain": [
       "                          permalink                name  \\\n",
       "0             /organization/waywire            #waywire   \n",
       "1   /organization/tv-communications  &TV Communications   \n",
       "2     /organization/rock-your-paper   'Rock' Your Paper   \n",
       "3    /organization/in-touch-network   (In)Touch Network   \n",
       "4    /organization/r-ranch-and-mine  -R- Ranch and Mine   \n",
       "5        /organization/club-domains       .Club Domains   \n",
       "6        /organization/fox-networks       .Fox Networks   \n",
       "7             /organization/0-6-com             0-6.com   \n",
       "8    /organization/004-technologies    004 Technologies   \n",
       "9  /organization/01games-technology  01Games Technology   \n",
       "\n",
       "                        homepage_url  \\\n",
       "0             http://www.waywire.com   \n",
       "1              http://enjoyandtv.com   \n",
       "2       http://www.rockyourpaper.org   \n",
       "3      http://www.InTouchNetwork.com   \n",
       "4                                NaN   \n",
       "5                   http://nic.club/   \n",
       "6              http://www.dotfox.com   \n",
       "7                 http://www.0-6.com   \n",
       "8  http://004gmbh.de/en/004-interact   \n",
       "9             http://www.01games.hk/   \n",
       "\n",
       "                                       category_list        market   \\\n",
       "0         |Entertainment|Politics|Social Media|News|          News    \n",
       "1                                            |Games|         Games    \n",
       "2                             |Publishing|Education|    Publishing    \n",
       "3  |Electronics|Guides|Coffee|Restaurants|Music|i...   Electronics    \n",
       "4                      |Tourism|Entertainment|Games|       Tourism    \n",
       "5                                         |Software|      Software    \n",
       "6                                      |Advertising|   Advertising    \n",
       "7                                      |Curated Web|   Curated Web    \n",
       "8                                         |Software|      Software    \n",
       "9                                            |Games|         Games    \n",
       "\n",
       "   funding_total_usd      status country_code state_code  \\\n",
       "0          17,50,000    acquired          USA         NY   \n",
       "1          40,00,000   operating          USA         CA   \n",
       "2             40,000   operating          EST        NaN   \n",
       "3          15,00,000   operating          GBR        NaN   \n",
       "4             60,000   operating          USA         TX   \n",
       "5          70,00,000         NaN          USA         FL   \n",
       "6          49,12,393      closed          ARG        NaN   \n",
       "7          20,00,000   operating          NaN        NaN   \n",
       "8                -     operating          USA         IL   \n",
       "9             41,250   operating          HKG        NaN   \n",
       "\n",
       "                  region  ... secondary_market  product_crowdfunding  \\\n",
       "0          New York City  ...              0.0                   0.0   \n",
       "1            Los Angeles  ...              0.0                   0.0   \n",
       "2                Tallinn  ...              0.0                   0.0   \n",
       "3                 London  ...              0.0                   0.0   \n",
       "4                 Dallas  ...              0.0                   0.0   \n",
       "5         Ft. Lauderdale  ...              0.0                   0.0   \n",
       "6           Buenos Aires  ...              0.0                   0.0   \n",
       "7                    NaN  ...              0.0                   0.0   \n",
       "8  Springfield, Illinois  ...              0.0                   0.0   \n",
       "9              Hong Kong  ...              0.0                   0.0   \n",
       "\n",
       "     round_A    round_B round_C  round_D round_E round_F  round_G  round_H  \n",
       "0        0.0        0.0     0.0      0.0     0.0     0.0      0.0      0.0  \n",
       "1        0.0        0.0     0.0      0.0     0.0     0.0      0.0      0.0  \n",
       "2        0.0        0.0     0.0      0.0     0.0     0.0      0.0      0.0  \n",
       "3        0.0        0.0     0.0      0.0     0.0     0.0      0.0      0.0  \n",
       "4        0.0        0.0     0.0      0.0     0.0     0.0      0.0      0.0  \n",
       "5        0.0  7000000.0     0.0      0.0     0.0     0.0      0.0      0.0  \n",
       "6        0.0        0.0     0.0      0.0     0.0     0.0      0.0      0.0  \n",
       "7  2000000.0        0.0     0.0      0.0     0.0     0.0      0.0      0.0  \n",
       "8        0.0        0.0     0.0      0.0     0.0     0.0      0.0      0.0  \n",
       "9        0.0        0.0     0.0      0.0     0.0     0.0      0.0      0.0  \n",
       "\n",
       "[10 rows x 39 columns]"
      ]
     },
     "execution_count": 3,
     "metadata": {},
     "output_type": "execute_result"
    }
   ],
   "source": [
    "with open('investments_VC.csv', 'r', newline='', encoding='ISO-8859-1') as csvfile:\n",
    "    df = pd.read_csv(csvfile)\n",
    "\n",
    "df.head(10)"
   ]
  },
  {
   "cell_type": "markdown",
   "metadata": {},
   "source": [
    "## TO DO: Drop duplicates"
   ]
  },
  {
   "cell_type": "code",
   "execution_count": 4,
   "metadata": {
    "collapsed": false,
    "scrolled": false
   },
   "outputs": [
    {
     "data": {
      "text/plain": [
       "NaN                  4857\n",
       "Spire                   4\n",
       "Roost                   4\n",
       "Roadmap                 3\n",
       "Peach                   3\n",
       "                     ... \n",
       "Deporvillage            1\n",
       "Sundia MediTech         1\n",
       "Virax                   1\n",
       "PeoplePerHour.com       1\n",
       "Thingies                1\n",
       "Name: name, Length: 49351, dtype: int64"
      ]
     },
     "execution_count": 4,
     "metadata": {},
     "output_type": "execute_result"
    }
   ],
   "source": [
    "df.name.value_counts(dropna=False)"
   ]
  },
  {
   "cell_type": "markdown",
   "metadata": {},
   "source": [
    "# Beginning to look at the data and deal with nulls"
   ]
  },
  {
   "cell_type": "code",
   "execution_count": 5,
   "metadata": {
    "ExecuteTime": {
     "end_time": "2020-04-06T22:25:03.942388Z",
     "start_time": "2020-04-06T22:25:03.932770Z"
    },
    "collapsed": false
   },
   "outputs": [
    {
     "data": {
      "text/plain": [
       "(54294, 39)"
      ]
     },
     "execution_count": 5,
     "metadata": {},
     "output_type": "execute_result"
    }
   ],
   "source": [
    "df.shape"
   ]
  },
  {
   "cell_type": "code",
   "execution_count": 6,
   "metadata": {
    "ExecuteTime": {
     "end_time": "2020-04-06T22:25:04.047452Z",
     "start_time": "2020-04-06T22:25:03.946785Z"
    },
    "collapsed": false
   },
   "outputs": [
    {
     "data": {
      "text/plain": [
       "permalink                8.943898\n",
       "undisclosed              8.943898\n",
       "convertible_note         8.943898\n",
       "debt_financing           8.943898\n",
       "angel                    8.943898\n",
       "grant                    8.943898\n",
       "private_equity           8.943898\n",
       "post_ipo_equity          8.943898\n",
       "equity_crowdfunding      8.943898\n",
       "post_ipo_debt            8.943898\n",
       "product_crowdfunding     8.943898\n",
       "round_A                  8.943898\n",
       "round_B                  8.943898\n",
       "round_C                  8.943898\n",
       "round_D                  8.943898\n",
       "round_E                  8.943898\n",
       "round_F                  8.943898\n",
       "secondary_market         8.943898\n",
       "round_G                  8.943898\n",
       "venture                  8.943898\n",
       "last_funding_at          8.943898\n",
       " funding_total_usd       8.943898\n",
       "seed                     8.943898\n",
       "funding_rounds           8.943898\n",
       "round_H                  8.943898\n",
       "first_funding_at         8.943898\n",
       "name                     8.945740\n",
       "status                  11.364055\n",
       "homepage_url            15.296350\n",
       "category_list           16.239363\n",
       " market                 16.252256\n",
       "region                  18.655837\n",
       "country_code            18.655837\n",
       "city                    20.208494\n",
       "founded_at              28.990312\n",
       "founded_quarter         29.122923\n",
       "founded_year            29.122923\n",
       "founded_month           29.122923\n",
       "state_code              44.448742\n",
       "dtype: float64"
      ]
     },
     "execution_count": 6,
     "metadata": {},
     "output_type": "execute_result"
    }
   ],
   "source": [
    "perct_missing_values = df.isnull().sum()*100 / len(df)\n",
    "perct_missing_values.sort_values()"
   ]
  },
  {
   "cell_type": "markdown",
   "metadata": {},
   "source": [
    "## A lot of seemingly linked nulls around 8.9%, dropping rows of one of those columns"
   ]
  },
  {
   "cell_type": "code",
   "execution_count": 7,
   "metadata": {
    "ExecuteTime": {
     "end_time": "2020-04-06T22:25:04.182370Z",
     "start_time": "2020-04-06T22:25:04.062151Z"
    },
    "collapsed": false
   },
   "outputs": [
    {
     "data": {
      "text/plain": [
       "permalink                0.000000\n",
       "undisclosed              0.000000\n",
       "convertible_note         0.000000\n",
       "debt_financing           0.000000\n",
       "angel                    0.000000\n",
       "grant                    0.000000\n",
       "private_equity           0.000000\n",
       "post_ipo_equity          0.000000\n",
       "equity_crowdfunding      0.000000\n",
       "post_ipo_debt            0.000000\n",
       "product_crowdfunding     0.000000\n",
       "round_A                  0.000000\n",
       "round_B                  0.000000\n",
       "round_C                  0.000000\n",
       "round_D                  0.000000\n",
       "round_E                  0.000000\n",
       "round_F                  0.000000\n",
       "secondary_market         0.000000\n",
       "round_G                  0.000000\n",
       "venture                  0.000000\n",
       "last_funding_at          0.000000\n",
       "name                     0.000000\n",
       " funding_total_usd       0.000000\n",
       "seed                     0.000000\n",
       "funding_rounds           0.000000\n",
       "round_H                  0.000000\n",
       "first_funding_at         0.000000\n",
       "status                   2.657928\n",
       "homepage_url             6.976556\n",
       "category_list            8.012218\n",
       " market                  8.026377\n",
       "region                  10.664078\n",
       "country_code            10.664078\n",
       "city                    12.369278\n",
       "founded_at              22.015899\n",
       "founded_month           22.161539\n",
       "founded_quarter         22.161539\n",
       "founded_year            22.161539\n",
       "state_code              38.991039\n",
       "dtype: float64"
      ]
     },
     "execution_count": 7,
     "metadata": {},
     "output_type": "execute_result"
    }
   ],
   "source": [
    "df = df[df['name'].notna()]\n",
    "\n",
    "perct_missing_values = df.isnull().sum()*100 / len(df)\n",
    "perct_missing_values.sort_values()"
   ]
  },
  {
   "cell_type": "markdown",
   "metadata": {},
   "source": [
    "## Dropping 38% null state_code"
   ]
  },
  {
   "cell_type": "code",
   "execution_count": 8,
   "metadata": {
    "ExecuteTime": {
     "end_time": "2020-04-06T22:25:04.291798Z",
     "start_time": "2020-04-06T22:25:04.191200Z"
    },
    "collapsed": false
   },
   "outputs": [
    {
     "data": {
      "text/plain": [
       "permalink               0.000000\n",
       "convertible_note        0.000000\n",
       "debt_financing          0.000000\n",
       "angel                   0.000000\n",
       "grant                   0.000000\n",
       "private_equity          0.000000\n",
       "post_ipo_equity         0.000000\n",
       "post_ipo_debt           0.000000\n",
       "secondary_market        0.000000\n",
       "product_crowdfunding    0.000000\n",
       "round_A                 0.000000\n",
       "round_B                 0.000000\n",
       "round_C                 0.000000\n",
       "round_D                 0.000000\n",
       "round_E                 0.000000\n",
       "round_F                 0.000000\n",
       "undisclosed             0.000000\n",
       "equity_crowdfunding     0.000000\n",
       "venture                 0.000000\n",
       "seed                    0.000000\n",
       "name                    0.000000\n",
       " funding_total_usd      0.000000\n",
       "round_G                 0.000000\n",
       "funding_rounds          0.000000\n",
       "founded_at              0.000000\n",
       "round_H                 0.000000\n",
       "founded_quarter         0.000000\n",
       "founded_year            0.000000\n",
       "first_funding_at        0.000000\n",
       "last_funding_at         0.000000\n",
       "founded_month           0.000000\n",
       "status                  2.385593\n",
       "category_list           5.137600\n",
       " market                 5.150594\n",
       "homepage_url            5.558587\n",
       "country_code            7.874016\n",
       "region                  7.874016\n",
       "city                    9.014838\n",
       "dtype: float64"
      ]
     },
     "execution_count": 8,
     "metadata": {},
     "output_type": "execute_result"
    }
   ],
   "source": [
    "df.drop('state_code', axis=1,inplace=True)\n",
    "\n",
    "df = df[df['founded_year'].notna()]\n",
    "\n",
    "perct_missing_values = df.isnull().sum()*100 / len(df)\n",
    "perct_missing_values.sort_values()"
   ]
  },
  {
   "cell_type": "code",
   "execution_count": 9,
   "metadata": {
    "ExecuteTime": {
     "end_time": "2020-04-06T22:25:04.306651Z",
     "start_time": "2020-04-06T22:25:04.298658Z"
    },
    "collapsed": false
   },
   "outputs": [
    {
     "data": {
      "text/plain": [
       "(38481, 38)"
      ]
     },
     "execution_count": 9,
     "metadata": {},
     "output_type": "execute_result"
    }
   ],
   "source": [
    "df.shape"
   ]
  },
  {
   "cell_type": "markdown",
   "metadata": {},
   "source": [
    "## Renaming these odd columns by stripping whitespace"
   ]
  },
  {
   "cell_type": "code",
   "execution_count": 10,
   "metadata": {
    "ExecuteTime": {
     "end_time": "2020-04-06T22:25:04.351493Z",
     "start_time": "2020-04-06T22:25:04.311617Z"
    },
    "collapsed": false,
    "scrolled": true
   },
   "outputs": [
    {
     "data": {
      "text/plain": [
       "Index(['permalink', 'name', 'homepage_url', 'category_list', 'market',\n",
       "       'funding_total_usd', 'status', 'country_code', 'region', 'city',\n",
       "       'funding_rounds', 'founded_at', 'founded_month', 'founded_quarter',\n",
       "       'founded_year', 'first_funding_at', 'last_funding_at', 'seed',\n",
       "       'venture', 'equity_crowdfunding', 'undisclosed', 'convertible_note',\n",
       "       'debt_financing', 'angel', 'grant', 'private_equity', 'post_ipo_equity',\n",
       "       'post_ipo_debt', 'secondary_market', 'product_crowdfunding', 'round_A',\n",
       "       'round_B', 'round_C', 'round_D', 'round_E', 'round_F', 'round_G',\n",
       "       'round_H'],\n",
       "      dtype='object')"
      ]
     },
     "execution_count": 10,
     "metadata": {},
     "output_type": "execute_result"
    }
   ],
   "source": [
    "df.rename(columns=lambda x: x.strip(), inplace=True)\n",
    "df.columns"
   ]
  },
  {
   "cell_type": "markdown",
   "metadata": {},
   "source": [
    "## Dropping for lack of information"
   ]
  },
  {
   "cell_type": "code",
   "execution_count": 11,
   "metadata": {
    "ExecuteTime": {
     "end_time": "2020-04-06T22:25:04.453803Z",
     "start_time": "2020-04-06T22:25:04.355205Z"
    },
    "collapsed": false,
    "scrolled": true
   },
   "outputs": [
    {
     "name": "stdout",
     "output_type": "stream",
     "text": [
      "<class 'pandas.core.frame.DataFrame'>\n",
      "Int64Index: 38481 entries, 0 to 49437\n",
      "Data columns (total 35 columns):\n",
      "category_list           36504 non-null object\n",
      "market                  36499 non-null object\n",
      "funding_total_usd       38481 non-null object\n",
      "status                  37563 non-null object\n",
      "country_code            35451 non-null object\n",
      "region                  35451 non-null object\n",
      "city                    35012 non-null object\n",
      "funding_rounds          38481 non-null float64\n",
      "founded_at              38481 non-null object\n",
      "founded_month           38481 non-null object\n",
      "founded_quarter         38481 non-null object\n",
      "founded_year            38481 non-null float64\n",
      "first_funding_at        38481 non-null object\n",
      "last_funding_at         38481 non-null object\n",
      "seed                    38481 non-null float64\n",
      "venture                 38481 non-null float64\n",
      "equity_crowdfunding     38481 non-null float64\n",
      "undisclosed             38481 non-null float64\n",
      "convertible_note        38481 non-null float64\n",
      "debt_financing          38481 non-null float64\n",
      "angel                   38481 non-null float64\n",
      "grant                   38481 non-null float64\n",
      "private_equity          38481 non-null float64\n",
      "post_ipo_equity         38481 non-null float64\n",
      "post_ipo_debt           38481 non-null float64\n",
      "secondary_market        38481 non-null float64\n",
      "product_crowdfunding    38481 non-null float64\n",
      "round_A                 38481 non-null float64\n",
      "round_B                 38481 non-null float64\n",
      "round_C                 38481 non-null float64\n",
      "round_D                 38481 non-null float64\n",
      "round_E                 38481 non-null float64\n",
      "round_F                 38481 non-null float64\n",
      "round_G                 38481 non-null float64\n",
      "round_H                 38481 non-null float64\n",
      "dtypes: float64(23), object(12)\n",
      "memory usage: 10.6+ MB\n"
     ]
    }
   ],
   "source": [
    "df.drop(['permalink', 'homepage_url', 'name'], axis=1, inplace= True)\n",
    "\n",
    "df.info()"
   ]
  },
  {
   "cell_type": "markdown",
   "metadata": {},
   "source": [
    "## examining objects first as all the floats are non null"
   ]
  },
  {
   "cell_type": "markdown",
   "metadata": {},
   "source": [
    "## Way many categories to engineer:\n",
    "- Split on pipes / combine\n",
    "- Identify top categories\n",
    "- Does the order matter? Generally it's in market the first one."
   ]
  },
  {
   "cell_type": "code",
   "execution_count": 12,
   "metadata": {
    "ExecuteTime": {
     "end_time": "2020-04-06T22:25:04.524796Z",
     "start_time": "2020-04-06T22:25:04.461361Z"
    },
    "collapsed": false
   },
   "outputs": [
    {
     "data": {
      "text/plain": [
       "|Software|                                                                        2880\n",
       "|Biotechnology|                                                                   2395\n",
       "NaN                                                                               1977\n",
       "|E-Commerce|                                                                       946\n",
       "|Mobile|                                                                           897\n",
       "                                                                                  ... \n",
       "|Consumer Goods|Groceries|Crowdsourcing|E-Commerce|                                  1\n",
       "|Twitter Applications|Email|Messaging|                                               1\n",
       "|Reviews and Recommendations|Internet|Hotels|Enterprise Software|Software|           1\n",
       "|Social Network Media|Internet|Mobile|Collectibles|Photo Editing|Social Media|       1\n",
       "|Fantasy Sports|Facebook Applications|Sports|                                        1\n",
       "Name: category_list, Length: 15059, dtype: int64"
      ]
     },
     "execution_count": 12,
     "metadata": {},
     "output_type": "execute_result"
    }
   ],
   "source": [
    "df.category_list.value_counts(dropna=False)"
   ]
  },
  {
   "cell_type": "markdown",
   "metadata": {},
   "source": [
    "## Seems to be an inflated version of market in that market takes the first value"
   ]
  },
  {
   "cell_type": "code",
   "execution_count": 13,
   "metadata": {
    "ExecuteTime": {
     "end_time": "2020-04-06T22:25:04.569473Z",
     "start_time": "2020-04-06T22:25:04.530089Z"
    },
    "collapsed": false,
    "scrolled": true
   },
   "outputs": [
    {
     "data": {
      "text/plain": [
       " Software                    3784\n",
       " Biotechnology               2463\n",
       "NaN                          1982\n",
       " Mobile                      1602\n",
       " E-Commerce                  1454\n",
       "                             ... \n",
       " Internet Infrastructure        1\n",
       " Early-Stage Technology         1\n",
       " Intellectual Property          1\n",
       " Commercial Solar               1\n",
       " Timeshares                     1\n",
       "Name: market, Length: 736, dtype: int64"
      ]
     },
     "execution_count": 13,
     "metadata": {},
     "output_type": "execute_result"
    }
   ],
   "source": [
    "df.market.value_counts(dropna=False)"
   ]
  },
  {
   "cell_type": "markdown",
   "metadata": {},
   "source": [
    "## Dropping inflated category_list for now, to engineer later"
   ]
  },
  {
   "cell_type": "code",
   "execution_count": 14,
   "metadata": {
    "ExecuteTime": {
     "end_time": "2020-04-06T22:25:04.594566Z",
     "start_time": "2020-04-06T22:25:04.573358Z"
    },
    "collapsed": true
   },
   "outputs": [],
   "source": [
    "df.drop('category_list',axis=1,inplace=True)"
   ]
  },
  {
   "cell_type": "markdown",
   "metadata": {},
   "source": [
    "## Plotting out the top 10 markets"
   ]
  },
  {
   "cell_type": "code",
   "execution_count": 15,
   "metadata": {
    "ExecuteTime": {
     "end_time": "2020-04-06T22:25:05.080492Z",
     "start_time": "2020-04-06T22:25:04.597676Z"
    },
    "collapsed": false,
    "scrolled": true
   },
   "outputs": [
    {
     "data": {
      "text/plain": [
       "<matplotlib.axes._subplots.AxesSubplot at 0x12a8bbf60>"
      ]
     },
     "execution_count": 15,
     "metadata": {},
     "output_type": "execute_result"
    },
    {
     "data": {
      "image/png": "[encoded data removed]",
      "text/plain": [
       "<Figure size 432x288 with 1 Axes>"
      ]
     },
     "metadata": {
      "needs_background": "light"
     },
     "output_type": "display_data"
    }
   ],
   "source": [
    "sns.countplot(y=\"market\",data=df, palette='Pastel1',\n",
    "              order=df.market.value_counts().iloc[:10].index)"
   ]
  },
  {
   "cell_type": "markdown",
   "metadata": {},
   "source": [
    "## Funding USD has commas and - as the most common value, these are issues."
   ]
  },
  {
   "cell_type": "code",
   "execution_count": 16,
   "metadata": {
    "ExecuteTime": {
     "end_time": "2020-04-06T22:25:05.116603Z",
     "start_time": "2020-04-06T22:25:05.083723Z"
    },
    "collapsed": false,
    "scrolled": false
   },
   "outputs": [
    {
     "data": {
      "text/plain": [
       " -                6347\n",
       " 10,00,000         699\n",
       " 1,00,000          611\n",
       " 5,00,000          606\n",
       " 20,00,000         476\n",
       "                  ... \n",
       " 2,94,74,557         1\n",
       " 9,66,00,000         1\n",
       " 49,02,818           1\n",
       " 52,00,00,000        1\n",
       " 8,83,000            1\n",
       "Name: funding_total_usd, Length: 11919, dtype: int64"
      ]
     },
     "execution_count": 16,
     "metadata": {},
     "output_type": "execute_result"
    }
   ],
   "source": [
    "df['funding_total_usd'].value_counts(dropna=False)"
   ]
  },
  {
   "cell_type": "code",
   "execution_count": 17,
   "metadata": {
    "ExecuteTime": {
     "end_time": "2020-04-06T22:25:05.223499Z",
     "start_time": "2020-04-06T22:25:05.119972Z"
    },
    "collapsed": false
   },
   "outputs": [
    {
     "data": {
      "text/plain": [
       " -            6347\n",
       " 1000000       699\n",
       " 100000        611\n",
       " 500000        606\n",
       " 2000000       476\n",
       "              ... \n",
       " 29450000        1\n",
       " 4782028         1\n",
       " 1499999         1\n",
       " 14100000        1\n",
       " 3237689         1\n",
       "Name: funding_total_usd, Length: 11919, dtype: int64"
      ]
     },
     "execution_count": 17,
     "metadata": {},
     "output_type": "execute_result"
    }
   ],
   "source": [
    "df['funding_total_usd'] = df['funding_total_usd'].replace(',','', regex=True)\n",
    "df['funding_total_usd'].value_counts(dropna=False)"
   ]
  },
  {
   "cell_type": "markdown",
   "metadata": {},
   "source": [
    "## This will be our target variable: the status of a startup, we should drop the NaN "
   ]
  },
  {
   "cell_type": "code",
   "execution_count": 18,
   "metadata": {
    "ExecuteTime": {
     "end_time": "2020-04-06T22:25:05.253333Z",
     "start_time": "2020-04-06T22:25:05.227581Z"
    },
    "collapsed": false
   },
   "outputs": [
    {
     "data": {
      "text/plain": [
       "operating    32597\n",
       "acquired      2971\n",
       "closed        1995\n",
       "NaN            918\n",
       "Name: status, dtype: int64"
      ]
     },
     "execution_count": 18,
     "metadata": {},
     "output_type": "execute_result"
    }
   ],
   "source": [
    "#this is the target variable, we can spare some dropped NAN\n",
    "df.status.value_counts(dropna=False)"
   ]
  },
  {
   "cell_type": "code",
   "execution_count": 19,
   "metadata": {
    "ExecuteTime": {
     "end_time": "2020-04-06T22:25:05.343864Z",
     "start_time": "2020-04-06T22:25:05.260910Z"
    },
    "collapsed": false,
    "scrolled": true
   },
   "outputs": [
    {
     "name": "stdout",
     "output_type": "stream",
     "text": [
      "<class 'pandas.core.frame.DataFrame'>\n",
      "Int64Index: 37563 entries, 0 to 49437\n",
      "Data columns (total 34 columns):\n",
      "market                  35762 non-null object\n",
      "funding_total_usd       37563 non-null object\n",
      "status                  37563 non-null object\n",
      "country_code            34627 non-null object\n",
      "region                  34627 non-null object\n",
      "city                    34206 non-null object\n",
      "funding_rounds          37563 non-null float64\n",
      "founded_at              37563 non-null object\n",
      "founded_month           37563 non-null object\n",
      "founded_quarter         37563 non-null object\n",
      "founded_year            37563 non-null float64\n",
      "first_funding_at        37563 non-null object\n",
      "last_funding_at         37563 non-null object\n",
      "seed                    37563 non-null float64\n",
      "venture                 37563 non-null float64\n",
      "equity_crowdfunding     37563 non-null float64\n",
      "undisclosed             37563 non-null float64\n",
      "convertible_note        37563 non-null float64\n",
      "debt_financing          37563 non-null float64\n",
      "angel                   37563 non-null float64\n",
      "grant                   37563 non-null float64\n",
      "private_equity          37563 non-null float64\n",
      "post_ipo_equity         37563 non-null float64\n",
      "post_ipo_debt           37563 non-null float64\n",
      "secondary_market        37563 non-null float64\n",
      "product_crowdfunding    37563 non-null float64\n",
      "round_A                 37563 non-null float64\n",
      "round_B                 37563 non-null float64\n",
      "round_C                 37563 non-null float64\n",
      "round_D                 37563 non-null float64\n",
      "round_E                 37563 non-null float64\n",
      "round_F                 37563 non-null float64\n",
      "round_G                 37563 non-null float64\n",
      "round_H                 37563 non-null float64\n",
      "dtypes: float64(23), object(11)\n",
      "memory usage: 10.0+ MB\n"
     ]
    }
   ],
   "source": [
    "df = df[df['status'].notna()]\n",
    "\n",
    "df.info()"
   ]
  },
  {
   "cell_type": "markdown",
   "metadata": {},
   "source": [
    "## A large amount of 0s in these columns, probably drop, but they might contain information?"
   ]
  },
  {
   "cell_type": "code",
   "execution_count": 20,
   "metadata": {
    "ExecuteTime": {
     "end_time": "2020-04-06T22:25:05.368442Z",
     "start_time": "2020-04-06T22:25:05.350417Z"
    },
    "collapsed": false,
    "scrolled": true
   },
   "outputs": [
    {
     "data": {
      "text/plain": [
       "0.0           30259\n",
       "5000000.0       423\n",
       "2000000.0       312\n",
       "3000000.0       311\n",
       "4000000.0       271\n",
       "              ...  \n",
       "52500000.0        1\n",
       "4465448.0         1\n",
       "1016945.0         1\n",
       "558288.0          1\n",
       "17776000.0        1\n",
       "Name: round_A, Length: 1610, dtype: int64"
      ]
     },
     "execution_count": 20,
     "metadata": {},
     "output_type": "execute_result"
    }
   ],
   "source": [
    "df.round_A.value_counts()"
   ]
  },
  {
   "cell_type": "code",
   "execution_count": 21,
   "metadata": {
    "ExecuteTime": {
     "end_time": "2020-04-06T22:25:05.397520Z",
     "start_time": "2020-04-06T22:25:05.379494Z"
    },
    "collapsed": false
   },
   "outputs": [
    {
     "data": {
      "text/plain": [
       "0.0          34761\n",
       "500000.0       174\n",
       "1000000.0      168\n",
       "100000.0       113\n",
       "250000.0       113\n",
       "             ...  \n",
       "282820.0         1\n",
       "2550000.0        1\n",
       "1175000.0        1\n",
       "47619.0          1\n",
       "97500.0          1\n",
       "Name: angel, Length: 903, dtype: int64"
      ]
     },
     "execution_count": 21,
     "metadata": {},
     "output_type": "execute_result"
    }
   ],
   "source": [
    "df.angel.value_counts()"
   ]
  },
  {
   "cell_type": "code",
   "execution_count": 22,
   "metadata": {
    "ExecuteTime": {
     "end_time": "2020-04-06T22:25:05.419613Z",
     "start_time": "2020-04-06T22:25:05.403867Z"
    },
    "collapsed": false,
    "scrolled": true
   },
   "outputs": [
    {
     "data": {
      "text/plain": [
       "0.0           20092\n",
       "5000000.0       346\n",
       "10000000.0      344\n",
       "2000000.0       315\n",
       "1000000.0       305\n",
       "              ...  \n",
       "48786221.0        1\n",
       "2787000.0         1\n",
       "89184501.0        1\n",
       "14294000.0        1\n",
       "9999999.0         1\n",
       "Name: venture, Length: 7264, dtype: int64"
      ]
     },
     "execution_count": 22,
     "metadata": {},
     "output_type": "execute_result"
    }
   ],
   "source": [
    "df.venture.value_counts()"
   ]
  },
  {
   "cell_type": "code",
   "execution_count": 23,
   "metadata": {
    "ExecuteTime": {
     "end_time": "2020-04-06T22:25:05.444678Z",
     "start_time": "2020-04-06T22:25:05.423366Z"
    },
    "collapsed": false
   },
   "outputs": [
    {
     "data": {
      "text/plain": [
       "0.0          37079\n",
       "100000.0        21\n",
       "50000.0         19\n",
       "1000.0          16\n",
       "10000.0         14\n",
       "             ...  \n",
       "1247816.0        1\n",
       "221480.0         1\n",
       "94311.0          1\n",
       "21000.0          1\n",
       "220000.0         1\n",
       "Name: equity_crowdfunding, Length: 224, dtype: int64"
      ]
     },
     "execution_count": 23,
     "metadata": {},
     "output_type": "execute_result"
    }
   ],
   "source": [
    "df.equity_crowdfunding.value_counts()"
   ]
  },
  {
   "cell_type": "code",
   "execution_count": 24,
   "metadata": {
    "ExecuteTime": {
     "end_time": "2020-04-06T22:25:05.468537Z",
     "start_time": "2020-04-06T22:25:05.448488Z"
    },
    "collapsed": false
   },
   "outputs": [
    {
     "data": {
      "text/plain": [
       "0.0          36944\n",
       "100000.0        16\n",
       "500000.0        15\n",
       "1000000.0       13\n",
       "300000.0        12\n",
       "             ...  \n",
       "550000.0         1\n",
       "2400000.0        1\n",
       "2000.0           1\n",
       "445035.0         1\n",
       "4714510.0        1\n",
       "Name: undisclosed, Length: 444, dtype: int64"
      ]
     },
     "execution_count": 24,
     "metadata": {},
     "output_type": "execute_result"
    }
   ],
   "source": [
    "df.undisclosed.value_counts()"
   ]
  },
  {
   "cell_type": "markdown",
   "metadata": {},
   "source": [
    "## They seem to be operating under a different definition from many, as these columns are not very correlated at all! Angel and venture are definitely different: https://techcrunch.com/2019/08/10/startups-weekly-angel-vs-vc/"
   ]
  },
  {
   "cell_type": "code",
   "execution_count": 25,
   "metadata": {
    "ExecuteTime": {
     "end_time": "2020-04-06T22:25:05.485472Z",
     "start_time": "2020-04-06T22:25:05.471595Z"
    },
    "collapsed": false
   },
   "outputs": [
    {
     "data": {
      "text/plain": [
       "-0.004020575582150348"
      ]
     },
     "execution_count": 25,
     "metadata": {},
     "output_type": "execute_result"
    }
   ],
   "source": [
    "df['seed'].corr(df['angel'])"
   ]
  },
  {
   "cell_type": "markdown",
   "metadata": {},
   "source": [
    "## Geo vars starting with country code - to be count and frequency encoded or one hot encoded and then sparse values dropped"
   ]
  },
  {
   "cell_type": "code",
   "execution_count": 26,
   "metadata": {
    "ExecuteTime": {
     "end_time": "2020-04-06T22:25:05.517901Z",
     "start_time": "2020-04-06T22:25:05.495015Z"
    },
    "collapsed": false
   },
   "outputs": [
    {
     "data": {
      "text/plain": [
       "USA    23182\n",
       "GBR     1968\n",
       "CAN     1074\n",
       "DEU      722\n",
       "FRA      669\n",
       "IND      667\n",
       "CHN      653\n",
       "ISR      591\n",
       "ESP      422\n",
       "IRL      258\n",
       "SGP      248\n",
       "AUS      243\n",
       "KOR      232\n",
       "NLD      230\n",
       "SWE      228\n",
       "ITA      223\n",
       "BRA      218\n",
       "JPN      206\n",
       "CHL      176\n",
       "RUS      176\n",
       "Name: country_code, dtype: int64"
      ]
     },
     "execution_count": 26,
     "metadata": {},
     "output_type": "execute_result"
    }
   ],
   "source": [
    "df['country_code'].value_counts().nlargest(20)"
   ]
  },
  {
   "cell_type": "markdown",
   "metadata": {},
   "source": [
    "## Dummy variable and drop the rarely occurring regions, probably highly correlated with country"
   ]
  },
  {
   "cell_type": "code",
   "execution_count": 27,
   "metadata": {
    "ExecuteTime": {
     "end_time": "2020-04-06T22:25:05.549570Z",
     "start_time": "2020-04-06T22:25:05.521593Z"
    },
    "collapsed": false
   },
   "outputs": [
    {
     "data": {
      "text/plain": [
       "SF Bay Area         5693\n",
       "New York City       2210\n",
       "Boston              1455\n",
       "London              1276\n",
       "Los Angeles         1142\n",
       "Seattle              757\n",
       "Washington, D.C.     633\n",
       "Chicago              616\n",
       "Austin               515\n",
       "San Diego            512\n",
       "Denver               509\n",
       "Tel Aviv             453\n",
       "Atlanta              424\n",
       "Paris                405\n",
       "Toronto              400\n",
       "Newark               366\n",
       "Dallas               349\n",
       "Philadelphia         304\n",
       "Berlin               297\n",
       "Salt Lake City       286\n",
       "Name: region, dtype: int64"
      ]
     },
     "execution_count": 27,
     "metadata": {},
     "output_type": "execute_result"
    }
   ],
   "source": [
    "df['region'].value_counts().nlargest(20)"
   ]
  },
  {
   "cell_type": "code",
   "execution_count": 28,
   "metadata": {
    "ExecuteTime": {
     "end_time": "2020-04-06T22:25:05.582219Z",
     "start_time": "2020-04-06T22:25:05.552885Z"
    },
    "collapsed": false,
    "scrolled": true
   },
   "outputs": [
    {
     "data": {
      "text/plain": [
       "San Francisco    2245\n",
       "New York         2000\n",
       "London           1043\n",
       "Palo Alto         493\n",
       "Austin            486\n",
       "Seattle           460\n",
       "Chicago           440\n",
       "Cambridge         433\n",
       "Mountain View     419\n",
       "Los Angeles       418\n",
       "Boston            375\n",
       "Paris             357\n",
       "San Diego         357\n",
       "Sunnyvale         301\n",
       "San Jose          300\n",
       "Berlin            288\n",
       "Toronto           284\n",
       "Beijing           275\n",
       "Atlanta           274\n",
       "Santa Clara       254\n",
       "Name: city, dtype: int64"
      ]
     },
     "execution_count": 28,
     "metadata": {},
     "output_type": "execute_result"
    }
   ],
   "source": [
    "df['city'].value_counts().nlargest(20)"
   ]
  },
  {
   "cell_type": "markdown",
   "metadata": {},
   "source": [
    "## Dropping city due to presumable high correlation"
   ]
  },
  {
   "cell_type": "code",
   "execution_count": 29,
   "metadata": {
    "ExecuteTime": {
     "end_time": "2020-04-06T22:25:05.605163Z",
     "start_time": "2020-04-06T22:25:05.586052Z"
    },
    "collapsed": true
   },
   "outputs": [],
   "source": [
    "df.drop('city',axis=1,inplace=True)"
   ]
  },
  {
   "cell_type": "markdown",
   "metadata": {},
   "source": [
    "# Datetime variables"
   ]
  },
  {
   "cell_type": "markdown",
   "metadata": {},
   "source": [
    "## Resampling datetime to year, only keeping founded_at of year month quarter, keeping first and last funding"
   ]
  },
  {
   "cell_type": "code",
   "execution_count": 30,
   "metadata": {
    "ExecuteTime": {
     "end_time": "2020-04-06T22:25:05.628138Z",
     "start_time": "2020-04-06T22:25:05.610371Z"
    },
    "collapsed": true
   },
   "outputs": [],
   "source": [
    "dt_cols = ['founded_at', 'first_funding_at', 'last_funding_at']\n",
    "\n",
    "df = df.drop(['founded_month', 'founded_quarter', 'founded_year'],axis=1)"
   ]
  },
  {
   "cell_type": "code",
   "execution_count": 31,
   "metadata": {
    "ExecuteTime": {
     "end_time": "2020-04-06T22:25:05.762815Z",
     "start_time": "2020-04-06T22:25:05.631147Z"
    },
    "collapsed": false
   },
   "outputs": [
    {
     "name": "stdout",
     "output_type": "stream",
     "text": [
      "<class 'pandas.core.frame.DataFrame'>\n",
      "Int64Index: 37563 entries, 0 to 49437\n",
      "Data columns (total 30 columns):\n",
      "market                  35762 non-null object\n",
      "funding_total_usd       37563 non-null object\n",
      "status                  37563 non-null object\n",
      "country_code            34627 non-null object\n",
      "region                  34627 non-null object\n",
      "funding_rounds          37563 non-null float64\n",
      "founded_at              37563 non-null datetime64[ns]\n",
      "first_funding_at        37557 non-null datetime64[ns]\n",
      "last_funding_at         37561 non-null datetime64[ns]\n",
      "seed                    37563 non-null float64\n",
      "venture                 37563 non-null float64\n",
      "equity_crowdfunding     37563 non-null float64\n",
      "undisclosed             37563 non-null float64\n",
      "convertible_note        37563 non-null float64\n",
      "debt_financing          37563 non-null float64\n",
      "angel                   37563 non-null float64\n",
      "grant                   37563 non-null float64\n",
      "private_equity          37563 non-null float64\n",
      "post_ipo_equity         37563 non-null float64\n",
      "post_ipo_debt           37563 non-null float64\n",
      "secondary_market        37563 non-null float64\n",
      "product_crowdfunding    37563 non-null float64\n",
      "round_A                 37563 non-null float64\n",
      "round_B                 37563 non-null float64\n",
      "round_C                 37563 non-null float64\n",
      "round_D                 37563 non-null float64\n",
      "round_E                 37563 non-null float64\n",
      "round_F                 37563 non-null float64\n",
      "round_G                 37563 non-null float64\n",
      "round_H                 37563 non-null float64\n",
      "dtypes: datetime64[ns](3), float64(22), object(5)\n",
      "memory usage: 8.9+ MB\n"
     ]
    }
   ],
   "source": [
    "df[dt_cols] = df[dt_cols].apply(pd.to_datetime, errors='coerce')\n",
    "\n",
    "df.info()"
   ]
  },
  {
   "cell_type": "markdown",
   "metadata": {},
   "source": [
    "## 1962 is a very early year...make note to remove early years when preprocessing datetimes"
   ]
  },
  {
   "cell_type": "code",
   "execution_count": 32,
   "metadata": {
    "ExecuteTime": {
     "end_time": "2020-04-06T22:25:05.784856Z",
     "start_time": "2020-04-06T22:25:05.767857Z"
    },
    "collapsed": false
   },
   "outputs": [
    {
     "data": {
      "text/plain": [
       "2012-01-01    2100\n",
       "2011-01-01    2096\n",
       "2010-01-01    1810\n",
       "2009-01-01    1561\n",
       "2013-01-01    1535\n",
       "              ... \n",
       "2004-10-31       1\n",
       "2005-07-19       1\n",
       "2012-10-04       1\n",
       "1962-01-01       1\n",
       "2003-12-10       1\n",
       "Name: founded_at, Length: 3299, dtype: int64"
      ]
     },
     "execution_count": 32,
     "metadata": {},
     "output_type": "execute_result"
    }
   ],
   "source": [
    "df.founded_at.value_counts()"
   ]
  },
  {
   "cell_type": "code",
   "execution_count": 33,
   "metadata": {
    "ExecuteTime": {
     "end_time": "2020-04-06T22:25:05.808368Z",
     "start_time": "2020-04-06T22:25:05.791128Z"
    },
    "collapsed": false
   },
   "outputs": [
    {
     "data": {
      "text/plain": [
       "2012-01-01    376\n",
       "2013-01-01    359\n",
       "2008-01-01    347\n",
       "2011-01-01    336\n",
       "2007-01-01    294\n",
       "             ... \n",
       "2005-05-14      1\n",
       "2008-01-24      1\n",
       "2006-08-06      1\n",
       "2009-08-20      1\n",
       "2005-05-24      1\n",
       "Name: first_funding_at, Length: 3685, dtype: int64"
      ]
     },
     "execution_count": 33,
     "metadata": {},
     "output_type": "execute_result"
    }
   ],
   "source": [
    "df.first_funding_at.value_counts()"
   ]
  },
  {
   "cell_type": "code",
   "execution_count": 34,
   "metadata": {
    "ExecuteTime": {
     "end_time": "2020-04-06T22:25:05.831109Z",
     "start_time": "2020-04-06T22:25:05.811877Z"
    },
    "collapsed": false
   },
   "outputs": [
    {
     "data": {
      "text/plain": [
       "2013-01-01    291\n",
       "2012-01-01    262\n",
       "2014-01-01    252\n",
       "2008-01-01    237\n",
       "2011-01-01    227\n",
       "             ... \n",
       "1995-07-01      1\n",
       "1995-11-30      1\n",
       "2004-04-05      1\n",
       "2001-03-13      1\n",
       "1999-03-30      1\n",
       "Name: last_funding_at, Length: 3394, dtype: int64"
      ]
     },
     "execution_count": 34,
     "metadata": {},
     "output_type": "execute_result"
    }
   ],
   "source": [
    "df.last_funding_at.value_counts()"
   ]
  },
  {
   "cell_type": "markdown",
   "metadata": {},
   "source": [
    "## Extracting just the year for easier encoding"
   ]
  },
  {
   "cell_type": "code",
   "execution_count": 35,
   "metadata": {
    "ExecuteTime": {
     "end_time": "2020-04-06T22:25:05.866150Z",
     "start_time": "2020-04-06T22:25:05.834885Z"
    },
    "collapsed": true
   },
   "outputs": [],
   "source": [
    "df['founded_at'] = df.founded_at.dt.year\n",
    "df.first_funding_at = df.first_funding_at.dt.year\n",
    "df.last_funding_at = df.last_funding_at.dt.year"
   ]
  },
  {
   "cell_type": "code",
   "execution_count": 36,
   "metadata": {
    "ExecuteTime": {
     "end_time": "2020-04-06T22:25:05.887212Z",
     "start_time": "2020-04-06T22:25:05.868957Z"
    },
    "collapsed": false
   },
   "outputs": [
    {
     "data": {
      "text/plain": [
       "1902    2\n",
       "1903    1\n",
       "1905    1\n",
       "1906    5\n",
       "1907    1\n",
       "1908    1\n",
       "1910    2\n",
       "1911    2\n",
       "1912    6\n",
       "1913    2\n",
       "Name: founded_at, dtype: int64"
      ]
     },
     "execution_count": 36,
     "metadata": {},
     "output_type": "execute_result"
    }
   ],
   "source": [
    "df.founded_at.value_counts().sort_index()[:10]"
   ]
  },
  {
   "cell_type": "markdown",
   "metadata": {},
   "source": [
    "## Clearly there are some too early years here"
   ]
  },
  {
   "cell_type": "code",
   "execution_count": 37,
   "metadata": {
    "ExecuteTime": {
     "end_time": "2020-04-06T22:25:05.903996Z",
     "start_time": "2020-04-06T22:25:05.891994Z"
    },
    "collapsed": false
   },
   "outputs": [
    {
     "data": {
      "text/plain": [
       "37563"
      ]
     },
     "execution_count": 37,
     "metadata": {},
     "output_type": "execute_result"
    }
   ],
   "source": [
    "len(df)"
   ]
  },
  {
   "cell_type": "code",
   "execution_count": 38,
   "metadata": {
    "ExecuteTime": {
     "end_time": "2020-04-06T22:25:05.984174Z",
     "start_time": "2020-04-06T22:25:05.911676Z"
    },
    "collapsed": true
   },
   "outputs": [],
   "source": [
    "df2 = df[df['founded_at'] > 1980]  "
   ]
  },
  {
   "cell_type": "code",
   "execution_count": 39,
   "metadata": {
    "ExecuteTime": {
     "end_time": "2020-04-06T22:25:06.012877Z",
     "start_time": "2020-04-06T22:25:05.993458Z"
    },
    "collapsed": false
   },
   "outputs": [
    {
     "data": {
      "text/plain": [
       "1992     111\n",
       "1993     122\n",
       "1994     154\n",
       "1995     213\n",
       "1996     297\n",
       "1997     353\n",
       "1998     426\n",
       "1999     740\n",
       "2000     879\n",
       "2001     727\n",
       "2002     775\n",
       "2003     940\n",
       "2004    1133\n",
       "2005    1393\n",
       "2006    1770\n",
       "2007    2293\n",
       "2008    2305\n",
       "2009    2906\n",
       "2010    3696\n",
       "2011    4773\n",
       "2012    5038\n",
       "2013    3957\n",
       "2014    1460\n",
       "Name: founded_at, dtype: int64"
      ]
     },
     "execution_count": 39,
     "metadata": {},
     "output_type": "execute_result"
    }
   ],
   "source": [
    "df2.founded_at.value_counts().sort_index()[11:]"
   ]
  },
  {
   "cell_type": "markdown",
   "metadata": {},
   "source": [
    "## Picking 1999 as start date as that's when the numbers begin to jump"
   ]
  },
  {
   "cell_type": "code",
   "execution_count": 40,
   "metadata": {
    "ExecuteTime": {
     "end_time": "2020-04-06T22:25:06.037602Z",
     "start_time": "2020-04-06T22:25:06.016336Z"
    },
    "collapsed": true
   },
   "outputs": [],
   "source": [
    "df = df[df['founded_at'] > 1998] "
   ]
  },
  {
   "cell_type": "code",
   "execution_count": 41,
   "metadata": {
    "ExecuteTime": {
     "end_time": "2020-04-06T22:25:06.059430Z",
     "start_time": "2020-04-06T22:25:06.042801Z"
    },
    "collapsed": false
   },
   "outputs": [
    {
     "data": {
      "text/plain": [
       "1999     740\n",
       "2000     879\n",
       "2001     727\n",
       "2002     775\n",
       "2003     940\n",
       "2004    1133\n",
       "2005    1393\n",
       "2006    1770\n",
       "2007    2293\n",
       "2008    2305\n",
       "2009    2906\n",
       "2010    3696\n",
       "2011    4773\n",
       "2012    5038\n",
       "2013    3957\n",
       "2014    1460\n",
       "Name: founded_at, dtype: int64"
      ]
     },
     "execution_count": 41,
     "metadata": {},
     "output_type": "execute_result"
    }
   ],
   "source": [
    "df.founded_at.value_counts().sort_index()"
   ]
  },
  {
   "cell_type": "code",
   "execution_count": 42,
   "metadata": {
    "ExecuteTime": {
     "end_time": "2020-04-06T22:25:06.083162Z",
     "start_time": "2020-04-06T22:25:06.063196Z"
    },
    "collapsed": false
   },
   "outputs": [
    {
     "data": {
      "text/plain": [
       "0        0.0\n",
       "2        0.0\n",
       "3        0.0\n",
       "4        0.0\n",
       "7        0.0\n",
       "        ... \n",
       "49428    2.0\n",
       "49432    0.0\n",
       "49433    0.0\n",
       "49435    3.0\n",
       "49437    5.0\n",
       "Name: funding_diff, Length: 34785, dtype: float64"
      ]
     },
     "execution_count": 42,
     "metadata": {},
     "output_type": "execute_result"
    }
   ],
   "source": [
    "df['funding_diff'] = (df['last_funding_at'] - df['first_funding_at'])\n",
    "\n",
    "df['funding_diff']"
   ]
  },
  {
   "cell_type": "code",
   "execution_count": 43,
   "metadata": {
    "ExecuteTime": {
     "end_time": "2020-04-06T22:25:06.103252Z",
     "start_time": "2020-04-06T22:25:06.088648Z"
    },
    "collapsed": false,
    "scrolled": true
   },
   "outputs": [
    {
     "data": {
      "text/plain": [
       "0         0.0\n",
       "2         0.0\n",
       "3         0.0\n",
       "4         0.0\n",
       "7         1.0\n",
       "         ... \n",
       "49428     3.0\n",
       "49432     6.0\n",
       "49433     1.0\n",
       "49435     2.0\n",
       "49437    14.0\n",
       "Name: founding_funding, Length: 34785, dtype: float64"
      ]
     },
     "execution_count": 43,
     "metadata": {},
     "output_type": "execute_result"
    }
   ],
   "source": [
    "df['founding_funding'] = (df['last_funding_at'] - df['founded_at'])\n",
    "\n",
    "df['founding_funding']"
   ]
  },
  {
   "cell_type": "code",
   "execution_count": 44,
   "metadata": {
    "ExecuteTime": {
     "end_time": "2020-04-06T22:25:06.120366Z",
     "start_time": "2020-04-06T22:25:06.108892Z"
    },
    "collapsed": true
   },
   "outputs": [],
   "source": [
    "df['founding_funding'] = df['founding_funding'].where(df['founding_funding'] > 0, 0)"
   ]
  },
  {
   "cell_type": "markdown",
   "metadata": {},
   "source": [
    "# Is the year founded column replaced by this?"
   ]
  },
  {
   "cell_type": "code",
   "execution_count": 45,
   "metadata": {
    "ExecuteTime": {
     "end_time": "2020-04-06T22:25:06.143501Z",
     "start_time": "2020-04-06T22:25:06.124303Z"
    },
    "collapsed": false
   },
   "outputs": [
    {
     "data": {
      "text/plain": [
       "2     5038\n",
       "3     4773\n",
       "1     3957\n",
       "4     3696\n",
       "5     2906\n",
       "6     2305\n",
       "7     2293\n",
       "8     1770\n",
       "0     1460\n",
       "9     1393\n",
       "10    1133\n",
       "11     940\n",
       "14     879\n",
       "12     775\n",
       "15     740\n",
       "13     727\n",
       "Name: years_operating, dtype: int64"
      ]
     },
     "execution_count": 45,
     "metadata": {},
     "output_type": "execute_result"
    }
   ],
   "source": [
    "df['years_operating'] = (2014 - df['founded_at'])\n",
    "\n",
    "df['years_operating'].value_counts()"
   ]
  },
  {
   "cell_type": "code",
   "execution_count": 46,
   "metadata": {
    "ExecuteTime": {
     "end_time": "2020-04-06T22:25:06.393438Z",
     "start_time": "2020-04-06T22:25:06.146826Z"
    },
    "collapsed": false
   },
   "outputs": [
    {
     "data": {
      "text/plain": [
       "Index(['market', 'funding_total_usd', 'status', 'country_code', 'region',\n",
       "       'funding_rounds', 'seed', 'venture', 'equity_crowdfunding',\n",
       "       'undisclosed', 'convertible_note', 'debt_financing', 'angel', 'grant',\n",
       "       'private_equity', 'post_ipo_equity', 'post_ipo_debt',\n",
       "       'secondary_market', 'product_crowdfunding', 'round_A', 'round_B',\n",
       "       'round_C', 'round_D', 'round_E', 'round_F', 'round_G', 'round_H',\n",
       "       'funding_diff', 'founding_funding', 'years_operating',\n",
       "       'founded_at_2000', 'founded_at_2001', 'founded_at_2002',\n",
       "       'founded_at_2003', 'founded_at_2004', 'founded_at_2005',\n",
       "       'founded_at_2006', 'founded_at_2007', 'founded_at_2008',\n",
       "       'founded_at_2009', 'founded_at_2010', 'founded_at_2011',\n",
       "       'founded_at_2012', 'founded_at_2013', 'founded_at_2014',\n",
       "       'first_funding_at_1974.0', 'first_funding_at_1990.0',\n",
       "       'first_funding_at_1994.0', 'first_funding_at_1995.0',\n",
       "       'first_funding_at_1996.0', 'first_funding_at_1997.0',\n",
       "       'first_funding_at_1998.0', 'first_funding_at_1999.0',\n",
       "       'first_funding_at_2000.0', 'first_funding_at_2001.0',\n",
       "       'first_funding_at_2002.0', 'first_funding_at_2003.0',\n",
       "       'first_funding_at_2004.0', 'first_funding_at_2005.0',\n",
       "       'first_funding_at_2006.0', 'first_funding_at_2007.0',\n",
       "       'first_funding_at_2008.0', 'first_funding_at_2009.0',\n",
       "       'first_funding_at_2010.0', 'first_funding_at_2011.0',\n",
       "       'first_funding_at_2012.0', 'first_funding_at_2013.0',\n",
       "       'first_funding_at_2014.0', 'first_funding_at_nan',\n",
       "       'last_funding_at_1974.0', 'last_funding_at_1990.0',\n",
       "       'last_funding_at_1994.0', 'last_funding_at_1996.0',\n",
       "       'last_funding_at_1998.0', 'last_funding_at_1999.0',\n",
       "       'last_funding_at_2000.0', 'last_funding_at_2001.0',\n",
       "       'last_funding_at_2002.0', 'last_funding_at_2003.0',\n",
       "       'last_funding_at_2004.0', 'last_funding_at_2005.0',\n",
       "       'last_funding_at_2006.0', 'last_funding_at_2007.0',\n",
       "       'last_funding_at_2008.0', 'last_funding_at_2009.0',\n",
       "       'last_funding_at_2010.0', 'last_funding_at_2011.0',\n",
       "       'last_funding_at_2012.0', 'last_funding_at_2013.0',\n",
       "       'last_funding_at_2014.0', 'last_funding_at_2015.0',\n",
       "       'last_funding_at_nan'],\n",
       "      dtype='object')"
      ]
     },
     "execution_count": 46,
     "metadata": {},
     "output_type": "execute_result"
    }
   ],
   "source": [
    "date_cols = ['founded_at', 'first_funding_at', 'last_funding_at']\n",
    "df = pd.concat([df, pd.get_dummies(df[date_cols].astype(str), drop_first=True)], axis=1)\n",
    "df = df.drop(date_cols,axis=1)\n",
    "df.columns"
   ]
  },
  {
   "cell_type": "markdown",
   "metadata": {},
   "source": [
    "## To do - look for and selectively remove outliers"
   ]
  },
  {
   "cell_type": "markdown",
   "metadata": {},
   "source": [
    "#  Visualization"
   ]
  },
  {
   "cell_type": "markdown",
   "metadata": {},
   "source": [
    "## Conclusions:\n",
    "- Funding rounds are highly correlated with each other, amount of rounds with venture interest\n",
    "- Seed with project crowd funding\n",
    "- Post ipo equity brings post ipo debt\n",
    "- Secondary market is in Round G? Whatever that means.\n",
    "- Venture with all the rounds"
   ]
  },
  {
   "cell_type": "markdown",
   "metadata": {},
   "source": [
    "## Encoding market and country"
   ]
  },
  {
   "cell_type": "code",
   "execution_count": 47,
   "metadata": {
    "ExecuteTime": {
     "end_time": "2020-04-06T22:25:06.403383Z",
     "start_time": "2020-04-06T22:25:06.396610Z"
    },
    "collapsed": false
   },
   "outputs": [
    {
     "data": {
      "text/plain": [
       "92"
      ]
     },
     "execution_count": 47,
     "metadata": {},
     "output_type": "execute_result"
    }
   ],
   "source": [
    "len(df.columns)"
   ]
  },
  {
   "cell_type": "code",
   "execution_count": 48,
   "metadata": {
    "ExecuteTime": {
     "end_time": "2020-04-06T22:25:06.887570Z",
     "start_time": "2020-04-06T22:25:06.410699Z"
    },
    "collapsed": false,
    "scrolled": true
   },
   "outputs": [
    {
     "data": {
      "text/plain": [
       "Index(['market', 'funding_total_usd', 'status', 'country_code', 'region',\n",
       "       'funding_rounds', 'seed', 'venture', 'equity_crowdfunding',\n",
       "       'undisclosed',\n",
       "       ...\n",
       "       ' Wireless ', ' Women ', ' World Domination ', ' Writers ',\n",
       "       ' Young Adults ', ' iOS ', ' iPad ', ' iPhone ', ' iPod Touch ',\n",
       "       ' mHealth '],\n",
       "      dtype='object', length=820)"
      ]
     },
     "execution_count": 48,
     "metadata": {},
     "output_type": "execute_result"
    }
   ],
   "source": [
    "df = pd.concat([df, pd.get_dummies(df['market'], drop_first=True)], axis=1)\n",
    "\n",
    "df.columns"
   ]
  },
  {
   "cell_type": "code",
   "execution_count": 49,
   "metadata": {
    "ExecuteTime": {
     "end_time": "2020-04-06T22:25:07.104725Z",
     "start_time": "2020-04-06T22:25:06.891718Z"
    },
    "collapsed": true
   },
   "outputs": [],
   "source": [
    "df.drop('market',axis=1,inplace=True)"
   ]
  },
  {
   "cell_type": "code",
   "execution_count": 50,
   "metadata": {
    "ExecuteTime": {
     "end_time": "2020-04-06T22:25:07.118524Z",
     "start_time": "2020-04-06T22:25:07.110387Z"
    },
    "collapsed": false
   },
   "outputs": [
    {
     "data": {
      "text/plain": [
       "819"
      ]
     },
     "execution_count": 50,
     "metadata": {},
     "output_type": "execute_result"
    }
   ],
   "source": [
    "len(df.columns)"
   ]
  },
  {
   "cell_type": "code",
   "execution_count": 51,
   "metadata": {
    "ExecuteTime": {
     "end_time": "2020-04-06T22:25:07.524148Z",
     "start_time": "2020-04-06T22:25:07.121962Z"
    },
    "collapsed": false
   },
   "outputs": [
    {
     "data": {
      "text/plain": [
       "926"
      ]
     },
     "execution_count": 51,
     "metadata": {},
     "output_type": "execute_result"
    }
   ],
   "source": [
    "df = pd.concat([df, pd.get_dummies(df['country_code'], drop_first=True)], axis=1)\n",
    "df.drop('country_code',axis=1,inplace=True)\n",
    "\n",
    "len(df.columns)"
   ]
  },
  {
   "cell_type": "markdown",
   "metadata": {},
   "source": [
    "## Encoding and dropping base variable of region"
   ]
  },
  {
   "cell_type": "code",
   "execution_count": 52,
   "metadata": {
    "ExecuteTime": {
     "end_time": "2020-04-06T22:25:08.847272Z",
     "start_time": "2020-04-06T22:25:07.528683Z"
    },
    "collapsed": false
   },
   "outputs": [
    {
     "data": {
      "text/plain": [
       "1896"
      ]
     },
     "execution_count": 52,
     "metadata": {},
     "output_type": "execute_result"
    }
   ],
   "source": [
    "df = pd.concat([df, pd.get_dummies(df['region'], drop_first=True)], axis=1)\n",
    "df.drop('region',axis=1,inplace=True)\n",
    "\n",
    "len(df.columns)"
   ]
  },
  {
   "cell_type": "code",
   "execution_count": 53,
   "metadata": {
    "ExecuteTime": {
     "end_time": "2020-04-06T22:25:10.079720Z",
     "start_time": "2020-04-06T22:25:08.851503Z"
    },
    "collapsed": false
   },
   "outputs": [
    {
     "data": {
      "text/plain": [
       "funding_total_usd    0.000000\n",
       "HUN - Other          0.000000\n",
       "HI - Other           0.000000\n",
       "Guwahati             0.000000\n",
       "Guatemala City       0.000000\n",
       "                       ...   \n",
       " Realtors            0.000000\n",
       " Real Time           0.000000\n",
       " Real Estate         0.000000\n",
       "Évry                 0.000000\n",
       "funding_diff         0.014374\n",
       "Length: 1896, dtype: float64"
      ]
     },
     "execution_count": 53,
     "metadata": {},
     "output_type": "execute_result"
    }
   ],
   "source": [
    "perct_missing_values = df.isnull().sum()*100 / len(df)\n",
    "perct_missing_values.sort_values()"
   ]
  },
  {
   "cell_type": "markdown",
   "metadata": {},
   "source": [
    "## Dropping over 99% 0s - is this good practice? Do the 0s contain info?"
   ]
  },
  {
   "cell_type": "code",
   "execution_count": 54,
   "metadata": {
    "ExecuteTime": {
     "end_time": "2020-04-06T22:25:12.092941Z",
     "start_time": "2020-04-06T22:25:10.083550Z"
    },
    "collapsed": false
   },
   "outputs": [
    {
     "data": {
      "text/plain": [
       "97"
      ]
     },
     "execution_count": 54,
     "metadata": {},
     "output_type": "execute_result"
    }
   ],
   "source": [
    "df = df.loc[:, df.eq(0).mean().le(.99)]\n",
    "\n",
    "len(df.columns)"
   ]
  },
  {
   "cell_type": "code",
   "execution_count": 55,
   "metadata": {
    "ExecuteTime": {
     "end_time": "2020-04-06T22:25:12.191343Z",
     "start_time": "2020-04-06T22:25:12.098971Z"
    },
    "collapsed": false
   },
   "outputs": [
    {
     "data": {
      "text/plain": [
       "funding_total_usd        0.000000\n",
       " Mobile                  0.000000\n",
       " Manufacturing           0.000000\n",
       " Health and Wellness     0.000000\n",
       " Health Care             0.000000\n",
       "                           ...   \n",
       "founded_at_2007          0.000000\n",
       "founded_at_2006          0.000000\n",
       "founded_at_2004          0.000000\n",
       "Washington, D.C.         0.000000\n",
       "funding_diff             0.014374\n",
       "Length: 97, dtype: float64"
      ]
     },
     "execution_count": 55,
     "metadata": {},
     "output_type": "execute_result"
    }
   ],
   "source": [
    "perct_missing_values = df.isnull().sum()*100 / len(df)\n",
    "perct_missing_values.sort_values()"
   ]
  },
  {
   "cell_type": "markdown",
   "metadata": {},
   "source": [
    "## Dropping last NaN as there's very little"
   ]
  },
  {
   "cell_type": "code",
   "execution_count": 56,
   "metadata": {
    "ExecuteTime": {
     "end_time": "2020-04-06T22:25:12.381926Z",
     "start_time": "2020-04-06T22:25:12.194658Z"
    },
    "collapsed": false
   },
   "outputs": [
    {
     "name": "stdout",
     "output_type": "stream",
     "text": [
      "<class 'pandas.core.frame.DataFrame'>\n",
      "Int64Index: 34780 entries, 0 to 49437\n",
      "Data columns (total 97 columns):\n",
      "funding_total_usd          34780 non-null object\n",
      "status                     34780 non-null object\n",
      "funding_rounds             34780 non-null float64\n",
      "seed                       34780 non-null float64\n",
      "venture                    34780 non-null float64\n",
      "equity_crowdfunding        34780 non-null float64\n",
      "undisclosed                34780 non-null float64\n",
      "convertible_note           34780 non-null float64\n",
      "debt_financing             34780 non-null float64\n",
      "angel                      34780 non-null float64\n",
      "grant                      34780 non-null float64\n",
      "private_equity             34780 non-null float64\n",
      "round_A                    34780 non-null float64\n",
      "round_B                    34780 non-null float64\n",
      "round_C                    34780 non-null float64\n",
      "round_D                    34780 non-null float64\n",
      "round_E                    34780 non-null float64\n",
      "funding_diff               34780 non-null float64\n",
      "founding_funding           34780 non-null float64\n",
      "years_operating            34780 non-null int64\n",
      "founded_at_2000            34780 non-null uint8\n",
      "founded_at_2001            34780 non-null uint8\n",
      "founded_at_2002            34780 non-null uint8\n",
      "founded_at_2003            34780 non-null uint8\n",
      "founded_at_2004            34780 non-null uint8\n",
      "founded_at_2005            34780 non-null uint8\n",
      "founded_at_2006            34780 non-null uint8\n",
      "founded_at_2007            34780 non-null uint8\n",
      "founded_at_2008            34780 non-null uint8\n",
      "founded_at_2009            34780 non-null uint8\n",
      "founded_at_2010            34780 non-null uint8\n",
      "founded_at_2011            34780 non-null uint8\n",
      "founded_at_2012            34780 non-null uint8\n",
      "founded_at_2013            34780 non-null uint8\n",
      "founded_at_2014            34780 non-null uint8\n",
      "first_funding_at_2005.0    34780 non-null uint8\n",
      "first_funding_at_2006.0    34780 non-null uint8\n",
      "first_funding_at_2007.0    34780 non-null uint8\n",
      "first_funding_at_2008.0    34780 non-null uint8\n",
      "first_funding_at_2009.0    34780 non-null uint8\n",
      "first_funding_at_2010.0    34780 non-null uint8\n",
      "first_funding_at_2011.0    34780 non-null uint8\n",
      "first_funding_at_2012.0    34780 non-null uint8\n",
      "first_funding_at_2013.0    34780 non-null uint8\n",
      "first_funding_at_2014.0    34780 non-null uint8\n",
      "last_funding_at_2005.0     34780 non-null uint8\n",
      "last_funding_at_2006.0     34780 non-null uint8\n",
      "last_funding_at_2007.0     34780 non-null uint8\n",
      "last_funding_at_2008.0     34780 non-null uint8\n",
      "last_funding_at_2009.0     34780 non-null uint8\n",
      "last_funding_at_2010.0     34780 non-null uint8\n",
      "last_funding_at_2011.0     34780 non-null uint8\n",
      "last_funding_at_2012.0     34780 non-null uint8\n",
      "last_funding_at_2013.0     34780 non-null uint8\n",
      "last_funding_at_2014.0     34780 non-null uint8\n",
      " Advertising               34780 non-null uint8\n",
      " Analytics                 34780 non-null uint8\n",
      " Biotechnology             34780 non-null uint8\n",
      " Clean Technology          34780 non-null uint8\n",
      " Curated Web               34780 non-null uint8\n",
      " E-Commerce                34780 non-null uint8\n",
      " Education                 34780 non-null uint8\n",
      " Enterprise Software       34780 non-null uint8\n",
      " Finance                   34780 non-null uint8\n",
      " Games                     34780 non-null uint8\n",
      " Hardware + Software       34780 non-null uint8\n",
      " Health Care               34780 non-null uint8\n",
      " Health and Wellness       34780 non-null uint8\n",
      " Manufacturing             34780 non-null uint8\n",
      " Mobile                    34780 non-null uint8\n",
      " Security                  34780 non-null uint8\n",
      " Social Media              34780 non-null uint8\n",
      " Software                  34780 non-null uint8\n",
      "CAN                        34780 non-null uint8\n",
      "CHN                        34780 non-null uint8\n",
      "DEU                        34780 non-null uint8\n",
      "ESP                        34780 non-null uint8\n",
      "FRA                        34780 non-null uint8\n",
      "GBR                        34780 non-null uint8\n",
      "IND                        34780 non-null uint8\n",
      "ISR                        34780 non-null uint8\n",
      "USA                        34780 non-null uint8\n",
      "Atlanta                    34780 non-null uint8\n",
      "Austin                     34780 non-null uint8\n",
      "Boston                     34780 non-null uint8\n",
      "Chicago                    34780 non-null uint8\n",
      "Denver                     34780 non-null uint8\n",
      "London                     34780 non-null uint8\n",
      "Los Angeles                34780 non-null uint8\n",
      "New York City              34780 non-null uint8\n",
      "Paris                      34780 non-null uint8\n",
      "SF Bay Area                34780 non-null uint8\n",
      "San Diego                  34780 non-null uint8\n",
      "Seattle                    34780 non-null uint8\n",
      "Tel Aviv                   34780 non-null uint8\n",
      "Toronto                    34780 non-null uint8\n",
      "Washington, D.C.           34780 non-null uint8\n",
      "dtypes: float64(17), int64(1), object(2), uint8(77)\n",
      "memory usage: 8.1+ MB\n"
     ]
    }
   ],
   "source": [
    "df = df.dropna()\n",
    "\n",
    "df.info()"
   ]
  },
  {
   "cell_type": "markdown",
   "metadata": {},
   "source": [
    "## Total funding: Gotta impute those - first before train test split!!! - imputing as 0 on funding_total_usd, or should I drop?"
   ]
  },
  {
   "cell_type": "code",
   "execution_count": 57,
   "metadata": {
    "ExecuteTime": {
     "end_time": "2020-04-06T22:25:12.447734Z",
     "start_time": "2020-04-06T22:25:12.395473Z"
    },
    "collapsed": false
   },
   "outputs": [
    {
     "data": {
      "text/plain": [
       " -           5709\n",
       " 1000000      641\n",
       " 100000       583\n",
       " 500000       578\n",
       " 40000        466\n",
       "             ... \n",
       " 862902         1\n",
       " 6396054        1\n",
       " 416386         1\n",
       " 2673000        1\n",
       " 3237689        1\n",
       "Name: funding_total_usd, Length: 10821, dtype: int64"
      ]
     },
     "execution_count": 57,
     "metadata": {},
     "output_type": "execute_result"
    }
   ],
   "source": [
    "df['funding_total_usd'].value_counts()"
   ]
  },
  {
   "cell_type": "markdown",
   "metadata": {},
   "source": [
    "## Most likely - is 0"
   ]
  },
  {
   "cell_type": "code",
   "execution_count": 58,
   "metadata": {
    "ExecuteTime": {
     "end_time": "2020-04-06T22:25:12.497383Z",
     "start_time": "2020-04-06T22:25:12.451747Z"
    },
    "collapsed": false
   },
   "outputs": [
    {
     "data": {
      "text/plain": [
       "0            5709\n",
       " 1000000      641\n",
       " 100000       583\n",
       " 500000       578\n",
       " 40000        466\n",
       "             ... \n",
       " 1183643        1\n",
       " 862902         1\n",
       " 6396054        1\n",
       " 416386         1\n",
       " 208134         1\n",
       "Name: funding_total_usd, Length: 10821, dtype: int64"
      ]
     },
     "execution_count": 58,
     "metadata": {},
     "output_type": "execute_result"
    }
   ],
   "source": [
    "\n",
    "df['funding_total_usd'].replace(' -   ',0, inplace=True)\n",
    "\n",
    "df['funding_total_usd'].value_counts(dropna=False)"
   ]
  },
  {
   "cell_type": "code",
   "execution_count": 59,
   "metadata": {
    "ExecuteTime": {
     "end_time": "2020-04-06T22:25:12.573790Z",
     "start_time": "2020-04-06T22:25:12.501393Z"
    },
    "collapsed": false
   },
   "outputs": [
    {
     "data": {
      "text/plain": [
       "NaN         5709\n",
       "1000000      641\n",
       "100000       583\n",
       "500000       578\n",
       "40000        466\n",
       "            ... \n",
       "8393798        1\n",
       "68794          1\n",
       "38900000       1\n",
       "619328         1\n",
       "12670000       1\n",
       "Name: funding_total_usd, Length: 10821, dtype: int64"
      ]
     },
     "execution_count": 59,
     "metadata": {},
     "output_type": "execute_result"
    }
   ],
   "source": [
    "df['funding_total_usd']= df['funding_total_usd'].str.strip()\n",
    "\n",
    "df.funding_total_usd.value_counts(dropna=False)"
   ]
  },
  {
   "cell_type": "code",
   "execution_count": 60,
   "metadata": {
    "ExecuteTime": {
     "end_time": "2020-04-06T22:25:12.641412Z",
     "start_time": "2020-04-06T22:25:12.579033Z"
    },
    "collapsed": false
   },
   "outputs": [
    {
     "data": {
      "text/plain": [
       "0           5709\n",
       "1000000      641\n",
       "100000       583\n",
       "500000       578\n",
       "40000        466\n",
       "            ... \n",
       "68794          1\n",
       "38900000       1\n",
       "619328         1\n",
       "129454         1\n",
       "12670000       1\n",
       "Name: funding_total_usd, Length: 10821, dtype: int64"
      ]
     },
     "execution_count": 60,
     "metadata": {},
     "output_type": "execute_result"
    }
   ],
   "source": [
    "df['funding_total_usd']= df['funding_total_usd'].fillna(0)\n",
    "\n",
    "df.funding_total_usd.value_counts(dropna=False)"
   ]
  },
  {
   "cell_type": "code",
   "execution_count": 61,
   "metadata": {
    "ExecuteTime": {
     "end_time": "2020-04-06T22:25:12.669520Z",
     "start_time": "2020-04-06T22:25:12.645721Z"
    },
    "collapsed": true
   },
   "outputs": [],
   "source": [
    "df['funding_total_usd'] = df['funding_total_usd'].astype(int)"
   ]
  },
  {
   "cell_type": "code",
   "execution_count": 62,
   "metadata": {
    "ExecuteTime": {
     "end_time": "2020-04-06T22:25:12.691493Z",
     "start_time": "2020-04-06T22:25:12.672160Z"
    },
    "collapsed": true
   },
   "outputs": [],
   "source": [
    "df['per_round'] = df['funding_total_usd'] / df['funding_rounds']"
   ]
  },
  {
   "cell_type": "markdown",
   "metadata": {},
   "source": [
    "## A bunch of thematic columns, why not"
   ]
  },
  {
   "cell_type": "markdown",
   "metadata": {},
   "source": [
    "## Could make more! Also strip the whitespace from columns again."
   ]
  },
  {
   "cell_type": "code",
   "execution_count": 63,
   "metadata": {
    "ExecuteTime": {
     "end_time": "2020-04-06T22:25:12.733310Z",
     "start_time": "2020-04-06T22:25:12.694540Z"
    },
    "collapsed": true
   },
   "outputs": [],
   "source": [
    "# df['East_Coast'] = df['Boston'] + df[\"New York City\"]\n",
    "# df['All_Software'] = df[' Enterprise Software '] + df[' Hardware + Software '] + df[' Software ']\n",
    "# df['Mobile_Games'] = df[' Mobile '] + df[' Games ']\n",
    "# df['Online_Business'] = df[' Advertising '] + df[' E-Commerce ']\n",
    "df['funding_types'] = df['seed'] + df['venture'] + df['debt_financing'] + df['angel'] + df['private_equity']\n",
    "df['funding_minus_start'] = df['funding_total_usd'] - df['founding_funding']\n",
    "#These two are early funding rounds\n",
    "df['funding_minus_startA'] = df['funding_total_usd'] - df['round_A']\n",
    "df['funding_minus_start_seed'] = df['funding_total_usd'] - df['seed']\n",
    "df['funding_plus_start'] = df['funding_total_usd'] + df['founding_funding']\n",
    "df['funding_plus_startA'] = df['funding_total_usd'] + df['round_A']\n",
    "df['funding_plus_start_seed'] = df['funding_total_usd'] + df['seed']"
   ]
  },
  {
   "cell_type": "markdown",
   "metadata": {},
   "source": [
    "## Encoding target variable"
   ]
  },
  {
   "cell_type": "code",
   "execution_count": 64,
   "metadata": {
    "ExecuteTime": {
     "end_time": "2020-04-06T22:25:12.837394Z",
     "start_time": "2020-04-06T22:25:12.740970Z"
    },
    "collapsed": true
   },
   "outputs": [],
   "source": [
    "df = df.replace({'status':{'closed':0,'acquired':2,'operating':1}})"
   ]
  },
  {
   "cell_type": "markdown",
   "metadata": {},
   "source": [
    "## One last check of correlation"
   ]
  },
  {
   "cell_type": "code",
   "execution_count": 65,
   "metadata": {
    "ExecuteTime": {
     "end_time": "2020-04-06T22:25:12.852307Z",
     "start_time": "2020-04-06T22:25:12.842517Z"
    },
    "collapsed": true
   },
   "outputs": [],
   "source": [
    "def sns_corr(df):\n",
    "    '''Adapted from the sns documentation'''\n",
    "    # Compute the correlation matrix\n",
    "    corr = df.corr()\n",
    "\n",
    "    # Generate a mask for the upper triangle\n",
    "    mask = np.triu(np.ones_like(corr, dtype=np.bool))\n",
    "\n",
    "    # Set up the matplotlib figure\n",
    "    f, ax = plt.subplots(figsize=(11, 9))\n",
    "\n",
    "    # Generate a custom diverging colormap\n",
    "    cmap = sns.cubehelix_palette(start=2.8, rot=.1, as_cmap=True)\n",
    "    # sns.diverging_palette(220, 20, as_cmap=True)\n",
    "\n",
    "    # Draw the heatmap with the mask and correct aspect ratio\n",
    "    sns.heatmap(corr, mask=mask, cmap=cmap, vmax=.3, center=0,\n",
    "            square=True, linewidths=.5, cbar_kws={\"shrink\": .5})"
   ]
  },
  {
   "cell_type": "markdown",
   "metadata": {},
   "source": [
    "## TO DO: Need to examine this further"
   ]
  },
  {
   "cell_type": "code",
   "execution_count": 66,
   "metadata": {
    "ExecuteTime": {
     "end_time": "2020-04-06T22:25:15.951837Z",
     "start_time": "2020-04-06T22:25:12.856219Z"
    },
    "collapsed": false,
    "scrolled": true
   },
   "outputs": [
    {
     "data": {
      "image/png": "[encoded data removed]",
      "text/plain": [
       "<Figure size 792x648 with 2 Axes>"
      ]
     },
     "metadata": {
      "needs_background": "light"
     },
     "output_type": "display_data"
    }
   ],
   "source": [
    "sns_corr(df)"
   ]
  },
  {
   "cell_type": "markdown",
   "metadata": {},
   "source": [
    "# TO DO: Feature Selection pt. 1"
   ]
  },
  {
   "cell_type": "code",
   "execution_count": null,
   "metadata": {
    "collapsed": false
   },
   "outputs": [],
   "source": []
  },
  {
   "cell_type": "code",
   "execution_count": null,
   "metadata": {
    "collapsed": true
   },
   "outputs": [],
   "source": []
  },
  {
   "cell_type": "code",
   "execution_count": null,
   "metadata": {
    "collapsed": true
   },
   "outputs": [],
   "source": []
  },
  {
   "cell_type": "code",
   "execution_count": null,
   "metadata": {
    "collapsed": true
   },
   "outputs": [],
   "source": []
  },
  {
   "cell_type": "code",
   "execution_count": null,
   "metadata": {
    "collapsed": true
   },
   "outputs": [],
   "source": []
  },
  {
   "cell_type": "code",
   "execution_count": 67,
   "metadata": {
    "ExecuteTime": {
     "end_time": "2020-04-06T20:57:10.068158Z",
     "start_time": "2020-04-06T20:57:10.053152Z"
    },
    "collapsed": true
   },
   "outputs": [],
   "source": [
    "X = df.drop('status',axis=1)\n",
    "y = df['status']"
   ]
  },
  {
   "cell_type": "code",
   "execution_count": 68,
   "metadata": {
    "ExecuteTime": {
     "end_time": "2020-04-06T20:57:10.456465Z",
     "start_time": "2020-04-06T20:57:10.448439Z"
    },
    "collapsed": false
   },
   "outputs": [
    {
     "data": {
      "text/plain": [
       "0        2\n",
       "2        1\n",
       "3        1\n",
       "4        1\n",
       "7        1\n",
       "        ..\n",
       "49428    1\n",
       "49432    1\n",
       "49433    1\n",
       "49435    1\n",
       "49437    1\n",
       "Name: status, Length: 34780, dtype: int64"
      ]
     },
     "execution_count": 68,
     "metadata": {},
     "output_type": "execute_result"
    }
   ],
   "source": [
    "y"
   ]
  },
  {
   "cell_type": "markdown",
   "metadata": {},
   "source": [
    "# Synthetic data/noise generation / dimensional manipulations"
   ]
  },
  {
   "cell_type": "code",
   "execution_count": 69,
   "metadata": {
    "ExecuteTime": {
     "end_time": "2020-04-06T20:57:12.239754Z",
     "start_time": "2020-04-06T20:57:12.235436Z"
    },
    "collapsed": true
   },
   "outputs": [],
   "source": [
    "# rand_x = df2.drop('status',axis=1).applymap(lambda x: x + np.random.normal())"
   ]
  },
  {
   "cell_type": "code",
   "execution_count": 70,
   "metadata": {
    "ExecuteTime": {
     "end_time": "2020-04-06T20:57:12.424335Z",
     "start_time": "2020-04-06T20:57:12.418567Z"
    },
    "collapsed": true
   },
   "outputs": [],
   "source": [
    "# rand_x['status'] = np.random.permutation(df2['status'].values)"
   ]
  },
  {
   "cell_type": "code",
   "execution_count": 71,
   "metadata": {
    "ExecuteTime": {
     "end_time": "2020-04-06T20:57:12.617616Z",
     "start_time": "2020-04-06T20:57:12.614651Z"
    },
    "collapsed": true
   },
   "outputs": [],
   "source": [
    "# rand_x['status'].value_counts()"
   ]
  },
  {
   "cell_type": "code",
   "execution_count": 72,
   "metadata": {
    "ExecuteTime": {
     "end_time": "2020-04-06T20:57:12.809335Z",
     "start_time": "2020-04-06T20:57:12.805636Z"
    },
    "collapsed": true,
    "scrolled": true
   },
   "outputs": [],
   "source": [
    "# rand_x[rand_x < 0] = 0"
   ]
  },
  {
   "cell_type": "code",
   "execution_count": 73,
   "metadata": {
    "ExecuteTime": {
     "end_time": "2020-04-06T20:57:12.997570Z",
     "start_time": "2020-04-06T20:57:12.994435Z"
    },
    "collapsed": true
   },
   "outputs": [],
   "source": [
    "# X = rand_x\n",
    "# y = rand_x['status']\n",
    "\n",
    "# from sklearn.model_selection import train_test_split\n",
    "# X_train, X_test, y_train, y_test = train_test_split(X, y, random_state=42, stratify=y)"
   ]
  },
  {
   "cell_type": "code",
   "execution_count": 74,
   "metadata": {
    "ExecuteTime": {
     "end_time": "2020-04-06T20:57:13.175574Z",
     "start_time": "2020-04-06T20:57:13.172694Z"
    },
    "collapsed": true
   },
   "outputs": [],
   "source": [
    "# from sklearn.svm import SVC\n",
    "\n",
    "# model = SVC()\n",
    "# model.fit(X_train, y_train)\n",
    "# y_pred = model.predict(X_test)"
   ]
  },
  {
   "cell_type": "code",
   "execution_count": 75,
   "metadata": {
    "ExecuteTime": {
     "end_time": "2020-04-06T20:57:13.405242Z",
     "start_time": "2020-04-06T20:57:13.402103Z"
    },
    "collapsed": true
   },
   "outputs": [],
   "source": [
    "# from sklearn.metrics import f1_score\n",
    "# f1_score(y_test, y_pred, average='weighted')"
   ]
  },
  {
   "cell_type": "code",
   "execution_count": 76,
   "metadata": {
    "ExecuteTime": {
     "end_time": "2020-04-06T20:57:13.698955Z",
     "start_time": "2020-04-06T20:57:13.696010Z"
    },
    "collapsed": true
   },
   "outputs": [],
   "source": [
    "# from sklearn.metrics import accuracy_score\n",
    "\n",
    "# accuracy_score(y_test,y_pred)"
   ]
  },
  {
   "cell_type": "code",
   "execution_count": 77,
   "metadata": {
    "ExecuteTime": {
     "end_time": "2020-04-06T20:57:13.966705Z",
     "start_time": "2020-04-06T20:57:13.963851Z"
    },
    "collapsed": true
   },
   "outputs": [],
   "source": [
    "# import xgboost as xgb\n",
    "\n",
    "# clf = xgb.XGBClassifier(max_depth=5, objective='multi:softmax', n_estimators=100, \n",
    "#                         num_classes=3)\n",
    "\n",
    "# clf.fit(X_train, y_train)  \n",
    "\n",
    "# y_pred = clf.predict(X_test)"
   ]
  },
  {
   "cell_type": "code",
   "execution_count": 78,
   "metadata": {
    "ExecuteTime": {
     "end_time": "2020-04-06T20:57:14.150313Z",
     "start_time": "2020-04-06T20:57:14.147261Z"
    },
    "collapsed": true,
    "scrolled": true
   },
   "outputs": [],
   "source": [
    "# from sklearn.metrics import f1_score\n",
    "# f1_score(y_test, y_pred, average='weighted')"
   ]
  },
  {
   "cell_type": "code",
   "execution_count": 79,
   "metadata": {
    "ExecuteTime": {
     "end_time": "2020-04-06T20:57:14.568789Z",
     "start_time": "2020-04-06T20:57:14.564355Z"
    },
    "collapsed": true
   },
   "outputs": [],
   "source": [
    "# import pandas_montecarlo\n",
    "# mc = df['status'].montecarlo(sims=10, bust=-0.1, goal=1)\n",
    "\n",
    "# mc.plot(title=\"SPY Returns Monte Carlo Simulations\")  # optional: , figsize=(x, y)\n",
    "# # Show test stats\n",
    "\n",
    "# print(mc.stats)"
   ]
  },
  {
   "cell_type": "code",
   "execution_count": 80,
   "metadata": {
    "ExecuteTime": {
     "end_time": "2020-04-06T20:57:14.779203Z",
     "start_time": "2020-04-06T20:57:14.775462Z"
    },
    "collapsed": true
   },
   "outputs": [],
   "source": [
    "# #Show bust / max drawdown stats\n",
    "\n",
    "# print(mc.maxdd)\n"
   ]
  },
  {
   "cell_type": "code",
   "execution_count": 81,
   "metadata": {
    "ExecuteTime": {
     "end_time": "2020-04-06T20:57:15.019273Z",
     "start_time": "2020-04-06T20:57:15.015010Z"
    },
    "collapsed": true
   },
   "outputs": [],
   "source": [
    "# print(mc.data.head())"
   ]
  },
  {
   "cell_type": "markdown",
   "metadata": {},
   "source": [
    "# Modeling "
   ]
  },
  {
   "cell_type": "markdown",
   "metadata": {},
   "source": [
    "## Metrics for tuning"
   ]
  },
  {
   "cell_type": "code",
   "execution_count": 82,
   "metadata": {
    "ExecuteTime": {
     "end_time": "2020-04-06T20:57:17.141018Z",
     "start_time": "2020-04-06T20:57:17.137029Z"
    },
    "collapsed": true
   },
   "outputs": [],
   "source": [
    "from sklearn.metrics import make_scorer\n",
    "from sklearn.metrics import f1_score\n",
    "f1 = make_scorer(f1_score , average='weighted')"
   ]
  },
  {
   "cell_type": "markdown",
   "metadata": {},
   "source": [
    "## Train test split"
   ]
  },
  {
   "cell_type": "code",
   "execution_count": 83,
   "metadata": {
    "ExecuteTime": {
     "end_time": "2020-04-06T20:57:22.455695Z",
     "start_time": "2020-04-06T20:57:22.397171Z"
    },
    "collapsed": true
   },
   "outputs": [],
   "source": [
    "from sklearn.model_selection import train_test_split\n",
    "X_train, X_test, y_train, y_test = train_test_split(X, y, random_state=42, stratify=y)"
   ]
  },
  {
   "cell_type": "markdown",
   "metadata": {},
   "source": [
    "# Checking for variance"
   ]
  },
  {
   "cell_type": "code",
   "execution_count": 84,
   "metadata": {
    "ExecuteTime": {
     "end_time": "2020-04-06T20:57:24.902433Z",
     "start_time": "2020-04-06T20:57:24.806514Z"
    },
    "collapsed": false
   },
   "outputs": [
    {
     "name": "stdout",
     "output_type": "stream",
     "text": [
      "[]\n"
     ]
    }
   ],
   "source": [
    "from sklearn.feature_selection import VarianceThreshold\n",
    "#Finding features with 99% of the same value\n",
    "no_var = VarianceThreshold(threshold=0.01)\n",
    "no_var.fit(X_train)\n",
    "print([x for x in X_train.columns if x not in X_train.columns[no_var.get_support()]])"
   ]
  },
  {
   "cell_type": "markdown",
   "metadata": {},
   "source": [
    "## Minmax scaling X split"
   ]
  },
  {
   "cell_type": "code",
   "execution_count": 85,
   "metadata": {
    "ExecuteTime": {
     "end_time": "2020-04-06T20:57:39.180089Z",
     "start_time": "2020-04-06T20:57:39.101343Z"
    },
    "collapsed": true
   },
   "outputs": [],
   "source": [
    "from sklearn.preprocessing import MinMaxScaler\n",
    "scaler = MinMaxScaler()\n",
    "X_train = scaler.fit_transform(X_train)\n",
    "X_test = scaler.transform(X_test)\n"
   ]
  },
  {
   "cell_type": "markdown",
   "metadata": {},
   "source": [
    "## First model - decision tree with default parameters"
   ]
  },
  {
   "cell_type": "markdown",
   "metadata": {},
   "source": [
    "## TO DO: Add cross validation stratified"
   ]
  },
  {
   "cell_type": "code",
   "execution_count": 86,
   "metadata": {
    "ExecuteTime": {
     "end_time": "2020-04-06T20:57:41.159792Z",
     "start_time": "2020-04-06T20:57:40.343193Z"
    },
    "collapsed": true
   },
   "outputs": [],
   "source": [
    "from sklearn.tree import DecisionTreeClassifier\n",
    "from sklearn import tree\n",
    "clf = DecisionTreeClassifier(random_state=0)\n",
    "clf.fit(X_train, y_train)\n",
    "y_pred = clf.predict(X_test)\n",
    "f1_score(y_test, y_pred, average='weighted')"
   ]
  },
  {
   "cell_type": "code",
   "execution_count": 87,
   "metadata": {
    "ExecuteTime": {
     "end_time": "2020-04-06T20:57:41.168547Z",
     "start_time": "2020-04-06T20:57:41.163130Z"
    },
    "collapsed": true
   },
   "outputs": [],
   "source": [
    "# makes too big tree\n",
    "# from graphviz import Source\n",
    "# Source( tree.export_graphviz(clf, out_file=None, feature_names=X.columns))"
   ]
  },
  {
   "cell_type": "markdown",
   "metadata": {},
   "source": [
    "## Metrics: \n",
    "- Weighted f1\n",
    "- Precision recall curve\n",
    "- Classification overalll report\n",
    "- Brier loss?"
   ]
  },
  {
   "cell_type": "markdown",
   "metadata": {},
   "source": [
    "- ## .8 baseline"
   ]
  },
  {
   "cell_type": "code",
   "execution_count": 88,
   "metadata": {
    "ExecuteTime": {
     "end_time": "2020-04-06T20:58:48.573136Z",
     "start_time": "2020-04-06T20:58:48.558427Z"
    },
    "collapsed": false,
    "scrolled": true
   },
   "outputs": [
    {
     "name": "stderr",
     "output_type": "stream",
     "text": [
      "/Users/michael/anaconda3/envs/learn-env/lib/python3.6/site-packages/sklearn/utils/deprecation.py:144: FutureWarning: The sklearn.metrics.classification module is  deprecated in version 0.22 and will be removed in version 0.24. The corresponding classes / functions should instead be imported from sklearn.metrics. Anything that cannot be imported from sklearn.metrics is now part of the private API.\n",
      "  warnings.warn(message, FutureWarning)\n"
     ]
    },
    {
     "data": {
      "text/plain": [
       "0.807533175896802"
      ]
     },
     "execution_count": 88,
     "metadata": {},
     "output_type": "execute_result"
    }
   ],
   "source": [
    "from yellowbrick.classifier import PrecisionRecallCurve\n",
    "from yellowbrick.classifier import ClassificationReport\n",
    "from yellowbrick.target import ClassBalance"
   ]
  },
  {
   "cell_type": "markdown",
   "metadata": {},
   "source": [
    "## TO DO: Function for visualization"
   ]
  },
  {
   "cell_type": "code",
   "execution_count": 89,
   "metadata": {
    "ExecuteTime": {
     "end_time": "2020-04-06T20:58:08.333462Z",
     "start_time": "2020-04-06T20:58:07.853393Z"
    },
    "collapsed": false
   },
   "outputs": [
    {
     "name": "stderr",
     "output_type": "stream",
     "text": [
      "/Users/michael/anaconda3/envs/learn-env/lib/python3.6/site-packages/sklearn/base.py:197: FutureWarning: From version 0.24, get_params will raise an AttributeError if a parameter cannot be retrieved as an instance attribute. Previously it would return None.\n",
      "  FutureWarning)\n"
     ]
    },
    {
     "data": {
      "image/png": "[encoded data removed]",
      "text/plain": [
       "<Figure size 576x396 with 2 Axes>"
      ]
     },
     "metadata": {},
     "output_type": "display_data"
    },
    {
     "data": {
      "text/plain": [
       "<matplotlib.axes._subplots.AxesSubplot at 0x129a2e5c0>"
      ]
     },
     "execution_count": 89,
     "metadata": {},
     "output_type": "execute_result"
    }
   ],
   "source": [
    "\n",
    "visualizer = ClassificationReport(clf, classes=clf.classes_, support=True)\n",
    "\n",
    "visualizer.fit(X_train, y_train)\n",
    "visualizer.score(X_test, y_test)       \n",
    "visualizer.show()   "
   ]
  },
  {
   "cell_type": "code",
   "execution_count": 90,
   "metadata": {
    "ExecuteTime": {
     "end_time": "2020-04-06T20:58:54.300906Z",
     "start_time": "2020-04-06T20:58:51.405579Z"
    },
    "collapsed": false
   },
   "outputs": [
    {
     "name": "stderr",
     "output_type": "stream",
     "text": [
      "/Users/michael/anaconda3/envs/learn-env/lib/python3.6/site-packages/sklearn/base.py:197: FutureWarning: From version 0.24, get_params will raise an AttributeError if a parameter cannot be retrieved as an instance attribute. Previously it would return None.\n",
      "  FutureWarning)\n"
     ]
    },
    {
     "data": {
      "image/png": "[encoded data removed]",
      "text/plain": [
       "<Figure size 576x396 with 1 Axes>"
      ]
     },
     "metadata": {},
     "output_type": "display_data"
    },
    {
     "data": {
      "text/plain": [
       "<matplotlib.axes._subplots.AxesSubplot at 0x1299ecd68>"
      ]
     },
     "execution_count": 90,
     "metadata": {},
     "output_type": "execute_result"
    }
   ],
   "source": [
    "viz = PrecisionRecallCurve(\n",
    "    clf, per_class=True, iso_f1_curves=True,\n",
    "    fill_area=False, micro=False, classes=clf.classes_\n",
    ")\n",
    "viz.fit(X_train, y_train)\n",
    "viz.score(X_test, y_test)\n",
    "viz.show()"
   ]
  },
  {
   "cell_type": "markdown",
   "metadata": {},
   "source": [
    "## This shows the very imbalanced classes leading to imbalanced results - 1 is predominant while 0 and 2 occupy a small set of y "
   ]
  },
  {
   "cell_type": "code",
   "execution_count": 91,
   "metadata": {
    "ExecuteTime": {
     "end_time": "2020-04-06T20:58:54.591678Z",
     "start_time": "2020-04-06T20:58:54.304091Z"
    },
    "collapsed": false
   },
   "outputs": [
    {
     "data": {
      "image/png": "[encoded data removed]",
      "text/plain": [
       "<Figure size 576x396 with 1 Axes>"
      ]
     },
     "metadata": {},
     "output_type": "display_data"
    },
    {
     "data": {
      "text/plain": [
       "<matplotlib.axes._subplots.AxesSubplot at 0x12999f240>"
      ]
     },
     "execution_count": 91,
     "metadata": {},
     "output_type": "execute_result"
    }
   ],
   "source": [
    "\n",
    "\n",
    "visualizer = ClassBalance(labels=clf.classes_)\n",
    "\n",
    "visualizer.fit(y_train, y_test)\n",
    "visualizer.show() "
   ]
  },
  {
   "cell_type": "markdown",
   "metadata": {},
   "source": [
    "## ? Trees with balanced class weights perform slightly worse"
   ]
  },
  {
   "cell_type": "code",
   "execution_count": 95,
   "metadata": {
    "collapsed": false
   },
   "outputs": [],
   "source": [
    "clf = DecisionTreeClassifier(random_state=0, class_weight='balanced')\n",
    "clf.fit(X_train, y_train)\n",
    "y_pred = clf.predict(X_test)\n",
    "f1_score(y_test, y_pred, average='weighted')"
   ]
  },
  {
   "cell_type": "code",
   "execution_count": 96,
   "metadata": {
    "ExecuteTime": {
     "end_time": "2020-04-06T20:58:48.573136Z",
     "start_time": "2020-04-06T20:58:48.558427Z"
    },
    "collapsed": false,
    "scrolled": true
   },
   "outputs": [
    {
     "data": {
      "text/plain": [
       "0.7943697181172961"
      ]
     },
     "execution_count": 96,
     "metadata": {},
     "output_type": "execute_result"
    }
   ],
   "source": [
    "\n",
    "f1_score(y_test, y_pred, average='weighted')\n"
   ]
  },
  {
   "cell_type": "code",
   "execution_count": 97,
   "metadata": {
    "ExecuteTime": {
     "end_time": "2020-04-06T20:58:08.333462Z",
     "start_time": "2020-04-06T20:58:07.853393Z"
    },
    "collapsed": false
   },
   "outputs": [
    {
     "name": "stderr",
     "output_type": "stream",
     "text": [
      "/Users/michael/anaconda3/envs/learn-env/lib/python3.6/site-packages/sklearn/base.py:197: FutureWarning: From version 0.24, get_params will raise an AttributeError if a parameter cannot be retrieved as an instance attribute. Previously it would return None.\n",
      "  FutureWarning)\n"
     ]
    },
    {
     "data": {
      "image/png": "[encoded data removed]",
      "text/plain": [
       "<Figure size 576x396 with 2 Axes>"
      ]
     },
     "metadata": {},
     "output_type": "display_data"
    },
    {
     "data": {
      "text/plain": [
       "<matplotlib.axes._subplots.AxesSubplot at 0x1299c1208>"
      ]
     },
     "execution_count": 97,
     "metadata": {},
     "output_type": "execute_result"
    }
   ],
   "source": [
    "visualizer = ClassificationReport(clf, classes=clf.classes_, support=True)\n",
    "\n",
    "visualizer.fit(X_train, y_train)\n",
    "visualizer.score(X_test, y_test)       \n",
    "visualizer.show()   "
   ]
  },
  {
   "cell_type": "code",
   "execution_count": 98,
   "metadata": {
    "ExecuteTime": {
     "end_time": "2020-04-06T20:58:54.300906Z",
     "start_time": "2020-04-06T20:58:51.405579Z"
    },
    "collapsed": false
   },
   "outputs": [
    {
     "name": "stderr",
     "output_type": "stream",
     "text": [
      "/Users/michael/anaconda3/envs/learn-env/lib/python3.6/site-packages/sklearn/base.py:197: FutureWarning: From version 0.24, get_params will raise an AttributeError if a parameter cannot be retrieved as an instance attribute. Previously it would return None.\n",
      "  FutureWarning)\n"
     ]
    },
    {
     "data": {
      "image/png": "[encoded data removed]",
      "text/plain": [
       "<Figure size 576x396 with 1 Axes>"
      ]
     },
     "metadata": {},
     "output_type": "display_data"
    },
    {
     "data": {
      "text/plain": [
       "<matplotlib.axes._subplots.AxesSubplot at 0x129d0f358>"
      ]
     },
     "execution_count": 98,
     "metadata": {},
     "output_type": "execute_result"
    }
   ],
   "source": [
    "viz = PrecisionRecallCurve(\n",
    "    clf, per_class=True, iso_f1_curves=True,\n",
    "    fill_area=False, micro=False, classes=clf.classes_\n",
    ")\n",
    "viz.fit(X_train, y_train)\n",
    "viz.score(X_test, y_test)\n",
    "viz.show()"
   ]
  },
  {
   "cell_type": "markdown",
   "metadata": {},
   "source": [
    "## TO DO: Grid search severe class weighting"
   ]
  },
  {
   "cell_type": "markdown",
   "metadata": {},
   "source": [
    "## TO DO: Modeling into function"
   ]
  },
  {
   "cell_type": "markdown",
   "metadata": {},
   "source": [
    "## Bagging and Balanced Bagging Classifier dry run, outperforms balanced trees"
   ]
  },
  {
   "cell_type": "code",
   "execution_count": 102,
   "metadata": {
    "collapsed": false
   },
   "outputs": [
    {
     "data": {
      "text/plain": [
       "0.8252079366389902"
      ]
     },
     "execution_count": 102,
     "metadata": {},
     "output_type": "execute_result"
    }
   ],
   "source": [
    "from sklearn.ensemble import BaggingClassifier\n",
    "bagging = BaggingClassifier(DecisionTreeClassifier(random_state=0))\n",
    "bagging.fit(X_train, y_train)\n",
    "y_pred = bagging.predict(X_test)\n",
    "f1_score(y_test, y_pred, average='weighted')"
   ]
  },
  {
   "cell_type": "markdown",
   "metadata": {},
   "source": [
    "## Starting to think there's an issue with f1 as a metric"
   ]
  },
  {
   "cell_type": "code",
   "execution_count": 106,
   "metadata": {
    "collapsed": false
   },
   "outputs": [
    {
     "name": "stderr",
     "output_type": "stream",
     "text": [
      "/Users/michael/anaconda3/envs/learn-env/lib/python3.6/site-packages/sklearn/utils/deprecation.py:144: FutureWarning: The sklearn.ensemble.bagging module is  deprecated in version 0.22 and will be removed in version 0.24. The corresponding classes / functions should instead be imported from sklearn.ensemble. Anything that cannot be imported from sklearn.ensemble is now part of the private API.\n",
      "  warnings.warn(message, FutureWarning)\n",
      "/Users/michael/anaconda3/envs/learn-env/lib/python3.6/site-packages/sklearn/utils/deprecation.py:144: FutureWarning: The sklearn.ensemble.base module is  deprecated in version 0.22 and will be removed in version 0.24. The corresponding classes / functions should instead be imported from sklearn.ensemble. Anything that cannot be imported from sklearn.ensemble is now part of the private API.\n",
      "  warnings.warn(message, FutureWarning)\n",
      "/Users/michael/anaconda3/envs/learn-env/lib/python3.6/site-packages/sklearn/utils/deprecation.py:144: FutureWarning: The sklearn.ensemble.forest module is  deprecated in version 0.22 and will be removed in version 0.24. The corresponding classes / functions should instead be imported from sklearn.ensemble. Anything that cannot be imported from sklearn.ensemble is now part of the private API.\n",
      "  warnings.warn(message, FutureWarning)\n",
      "/Users/michael/anaconda3/envs/learn-env/lib/python3.6/site-packages/sklearn/externals/joblib/__init__.py:15: FutureWarning: sklearn.externals.joblib is deprecated in 0.21 and will be removed in 0.23. Please import this functionality directly from joblib, which can be installed with: pip install joblib. If this warning is raised when loading pickled models, you may need to re-serialize those models with scikit-learn 0.21+.\n",
      "  warnings.warn(msg, category=FutureWarning)\n",
      "/Users/michael/anaconda3/envs/learn-env/lib/python3.6/site-packages/sklearn/utils/deprecation.py:87: FutureWarning: Function safe_indexing is deprecated; safe_indexing is deprecated in version 0.22 and will be removed in version 0.24.\n",
      "  warnings.warn(msg, category=FutureWarning)\n",
      "/Users/michael/anaconda3/envs/learn-env/lib/python3.6/site-packages/sklearn/utils/deprecation.py:87: FutureWarning: Function safe_indexing is deprecated; safe_indexing is deprecated in version 0.22 and will be removed in version 0.24.\n",
      "  warnings.warn(msg, category=FutureWarning)\n",
      "/Users/michael/anaconda3/envs/learn-env/lib/python3.6/site-packages/sklearn/utils/deprecation.py:87: FutureWarning: Function safe_indexing is deprecated; safe_indexing is deprecated in version 0.22 and will be removed in version 0.24.\n",
      "  warnings.warn(msg, category=FutureWarning)\n",
      "/Users/michael/anaconda3/envs/learn-env/lib/python3.6/site-packages/sklearn/utils/deprecation.py:87: FutureWarning: Function safe_indexing is deprecated; safe_indexing is deprecated in version 0.22 and will be removed in version 0.24.\n",
      "  warnings.warn(msg, category=FutureWarning)\n",
      "/Users/michael/anaconda3/envs/learn-env/lib/python3.6/site-packages/sklearn/utils/deprecation.py:87: FutureWarning: Function safe_indexing is deprecated; safe_indexing is deprecated in version 0.22 and will be removed in version 0.24.\n",
      "  warnings.warn(msg, category=FutureWarning)\n",
      "/Users/michael/anaconda3/envs/learn-env/lib/python3.6/site-packages/sklearn/utils/deprecation.py:87: FutureWarning: Function safe_indexing is deprecated; safe_indexing is deprecated in version 0.22 and will be removed in version 0.24.\n",
      "  warnings.warn(msg, category=FutureWarning)\n",
      "/Users/michael/anaconda3/envs/learn-env/lib/python3.6/site-packages/sklearn/utils/deprecation.py:87: FutureWarning: Function safe_indexing is deprecated; safe_indexing is deprecated in version 0.22 and will be removed in version 0.24.\n",
      "  warnings.warn(msg, category=FutureWarning)\n",
      "/Users/michael/anaconda3/envs/learn-env/lib/python3.6/site-packages/sklearn/utils/deprecation.py:87: FutureWarning: Function safe_indexing is deprecated; safe_indexing is deprecated in version 0.22 and will be removed in version 0.24.\n",
      "  warnings.warn(msg, category=FutureWarning)\n",
      "/Users/michael/anaconda3/envs/learn-env/lib/python3.6/site-packages/sklearn/utils/deprecation.py:87: FutureWarning: Function safe_indexing is deprecated; safe_indexing is deprecated in version 0.22 and will be removed in version 0.24.\n",
      "  warnings.warn(msg, category=FutureWarning)\n",
      "/Users/michael/anaconda3/envs/learn-env/lib/python3.6/site-packages/sklearn/utils/deprecation.py:87: FutureWarning: Function safe_indexing is deprecated; safe_indexing is deprecated in version 0.22 and will be removed in version 0.24.\n",
      "  warnings.warn(msg, category=FutureWarning)\n"
     ]
    },
    {
     "data": {
      "text/plain": [
       "0.7271470560620116"
      ]
     },
     "execution_count": 106,
     "metadata": {},
     "output_type": "execute_result"
    }
   ],
   "source": [
    "from imblearn.ensemble import BalancedBaggingClassifier\n",
    "balanced = BalancedBaggingClassifier(base_estimator=DecisionTreeClassifier(random_state=0),\n",
    "                                sampling_strategy='auto',\n",
    "                                 replacement=False,\n",
    "                                random_state=0)\n",
    "balanced.fit(X_train, y_train)\n",
    "y_pred = balanced.predict(X_test)\n",
    "f1_score(y_test, y_pred, average='weighted')"
   ]
  },
  {
   "cell_type": "markdown",
   "metadata": {},
   "source": [
    "## Random Forests- similar performance to trees"
   ]
  },
  {
   "cell_type": "code",
   "execution_count": 107,
   "metadata": {
    "collapsed": false
   },
   "outputs": [
    {
     "data": {
      "text/plain": [
       "0.822174805801245"
      ]
     },
     "execution_count": 107,
     "metadata": {},
     "output_type": "execute_result"
    }
   ],
   "source": [
    "from sklearn.ensemble import RandomForestClassifier\n",
    "rf = RandomForestClassifier(random_state=0)\n",
    "rf.fit(X_train, y_train)\n",
    "y_pred = rf.predict(X_test)\n",
    "f1_score(y_test, y_pred, average='weighted')\n",
    "\n"
   ]
  },
  {
   "cell_type": "markdown",
   "metadata": {},
   "source": [
    "## Balanced Random Forests- again, balancing brings down f1"
   ]
  },
  {
   "cell_type": "code",
   "execution_count": 108,
   "metadata": {
    "collapsed": false
   },
   "outputs": [
    {
     "data": {
      "text/plain": [
       "0.8148096987658463"
      ]
     },
     "execution_count": 108,
     "metadata": {},
     "output_type": "execute_result"
    }
   ],
   "source": [
    "brf = RandomForestClassifier(random_state=0,\n",
    "class_weight='balanced')\n",
    "brf.fit(X_train, y_train)\n",
    "y_pred = brf.predict(X_test)\n",
    "f1_score(y_test, y_pred, average='weighted')"
   ]
  },
  {
   "cell_type": "markdown",
   "metadata": {},
   "source": [
    "## TO DO: Random undersampling and bootstrap forests"
   ]
  },
  {
   "cell_type": "markdown",
   "metadata": {},
   "source": [
    "## Poor performance on easy ensemble first run, validate and random state if possible"
   ]
  },
  {
   "cell_type": "code",
   "execution_count": 109,
   "metadata": {
    "collapsed": false
   },
   "outputs": [
    {
     "name": "stderr",
     "output_type": "stream",
     "text": [
      "/Users/michael/anaconda3/envs/learn-env/lib/python3.6/site-packages/sklearn/utils/deprecation.py:87: FutureWarning: Function safe_indexing is deprecated; safe_indexing is deprecated in version 0.22 and will be removed in version 0.24.\n",
      "  warnings.warn(msg, category=FutureWarning)\n",
      "/Users/michael/anaconda3/envs/learn-env/lib/python3.6/site-packages/sklearn/utils/deprecation.py:87: FutureWarning: Function safe_indexing is deprecated; safe_indexing is deprecated in version 0.22 and will be removed in version 0.24.\n",
      "  warnings.warn(msg, category=FutureWarning)\n",
      "/Users/michael/anaconda3/envs/learn-env/lib/python3.6/site-packages/sklearn/utils/deprecation.py:87: FutureWarning: Function safe_indexing is deprecated; safe_indexing is deprecated in version 0.22 and will be removed in version 0.24.\n",
      "  warnings.warn(msg, category=FutureWarning)\n",
      "/Users/michael/anaconda3/envs/learn-env/lib/python3.6/site-packages/sklearn/utils/deprecation.py:87: FutureWarning: Function safe_indexing is deprecated; safe_indexing is deprecated in version 0.22 and will be removed in version 0.24.\n",
      "  warnings.warn(msg, category=FutureWarning)\n",
      "/Users/michael/anaconda3/envs/learn-env/lib/python3.6/site-packages/sklearn/utils/deprecation.py:87: FutureWarning: Function safe_indexing is deprecated; safe_indexing is deprecated in version 0.22 and will be removed in version 0.24.\n",
      "  warnings.warn(msg, category=FutureWarning)\n",
      "/Users/michael/anaconda3/envs/learn-env/lib/python3.6/site-packages/sklearn/utils/deprecation.py:87: FutureWarning: Function safe_indexing is deprecated; safe_indexing is deprecated in version 0.22 and will be removed in version 0.24.\n",
      "  warnings.warn(msg, category=FutureWarning)\n",
      "/Users/michael/anaconda3/envs/learn-env/lib/python3.6/site-packages/sklearn/utils/deprecation.py:87: FutureWarning: Function safe_indexing is deprecated; safe_indexing is deprecated in version 0.22 and will be removed in version 0.24.\n",
      "  warnings.warn(msg, category=FutureWarning)\n",
      "/Users/michael/anaconda3/envs/learn-env/lib/python3.6/site-packages/sklearn/utils/deprecation.py:87: FutureWarning: Function safe_indexing is deprecated; safe_indexing is deprecated in version 0.22 and will be removed in version 0.24.\n",
      "  warnings.warn(msg, category=FutureWarning)\n",
      "/Users/michael/anaconda3/envs/learn-env/lib/python3.6/site-packages/sklearn/utils/deprecation.py:87: FutureWarning: Function safe_indexing is deprecated; safe_indexing is deprecated in version 0.22 and will be removed in version 0.24.\n",
      "  warnings.warn(msg, category=FutureWarning)\n",
      "/Users/michael/anaconda3/envs/learn-env/lib/python3.6/site-packages/sklearn/utils/deprecation.py:87: FutureWarning: Function safe_indexing is deprecated; safe_indexing is deprecated in version 0.22 and will be removed in version 0.24.\n",
      "  warnings.warn(msg, category=FutureWarning)\n"
     ]
    },
    {
     "data": {
      "text/plain": [
       "0.7051718133077268"
      ]
     },
     "execution_count": 109,
     "metadata": {},
     "output_type": "execute_result"
    }
   ],
   "source": [
    "from imblearn.ensemble import EasyEnsembleClassifier\n",
    "eec = EasyEnsembleClassifier()\n",
    "eec.fit(X_train, y_train)\n",
    "y_pred = eec.predict(X_test)\n",
    "f1_score(y_test, y_pred, average='weighted')"
   ]
  },
  {
   "cell_type": "markdown",
   "metadata": {},
   "source": [
    "## Gradients"
   ]
  },
  {
   "cell_type": "code",
   "execution_count": null,
   "metadata": {
    "collapsed": true
   },
   "outputs": [],
   "source": []
  },
  {
   "cell_type": "markdown",
   "metadata": {},
   "source": [
    "# PCA"
   ]
  },
  {
   "cell_type": "code",
   "execution_count": 92,
   "metadata": {
    "ExecuteTime": {
     "end_time": "2020-04-06T20:58:58.037053Z",
     "start_time": "2020-04-06T20:58:58.028751Z"
    },
    "collapsed": false
   },
   "outputs": [
    {
     "data": {
      "text/plain": [
       "(26085, 104)"
      ]
     },
     "execution_count": 92,
     "metadata": {},
     "output_type": "execute_result"
    }
   ],
   "source": [
    "X_train.shape"
   ]
  },
  {
   "cell_type": "markdown",
   "metadata": {},
   "source": [
    "## Training PCA and a decision tree with a pipeline grid search"
   ]
  },
  {
   "cell_type": "code",
   "execution_count": 99,
   "metadata": {
    "ExecuteTime": {
     "end_time": "2020-04-06T21:03:10.889544Z",
     "start_time": "2020-04-06T20:59:12.843504Z"
    },
    "collapsed": false,
    "scrolled": true
   },
   "outputs": [
    {
     "name": "stdout",
     "output_type": "stream",
     "text": [
      "Best parameter (CV score=0.654):\n",
      "{'dtree__class_weight': 'balanced', 'dtree__max_depth': 5, 'dtree__max_features': None, 'dtree__min_samples_leaf': 10, 'dtree__min_samples_split': 2, 'pca__n_components': 15}\n"
     ]
    }
   ],
   "source": [
    "from sklearn.decomposition import PCA\n",
    "from sklearn.pipeline import Pipeline\n",
    "from sklearn.model_selection import GridSearchCV\n",
    "\n",
    "pca = PCA()\n",
    "classifier = DecisionTreeClassifier(random_state=0)\n",
    "pipe = Pipeline(steps=[('pca', pca), ('dtree', classifier)])\n",
    "\n",
    "param_grid = {\n",
    "    'pca__n_components': [5, 15, 30],\n",
    "    'dtree__max_depth': [1,2,5],\n",
    "    'dtree__min_samples_split': [1,2,5],\n",
    "    'dtree__min_samples_leaf': [1,4,10],\n",
    "    'dtree__max_features': [None,50,25],\n",
    "    'dtree__class_weight': ['balanced']\n",
    "    #None\n",
    "    \n",
    "}\n",
    "search = GridSearchCV(pipe, param_grid, n_jobs=-1, scoring=f1, cv=10)\n",
    "search.fit(X_train, y_train)\n",
    "print(\"Best parameter (CV score=%0.3f):\" % search.best_score_)\n",
    "print(search.best_params_)"
   ]
  },
  {
   "cell_type": "code",
   "execution_count": null,
   "metadata": {
    "ExecuteTime": {
     "end_time": "2020-04-06T21:03:36.988871Z",
     "start_time": "2020-04-06T21:03:35.505442Z"
    },
    "collapsed": true
   },
   "outputs": [],
   "source": [
    "# Plot the PCA spectrum\n",
    "pca.fit(X_train)\n",
    "\n",
    "fig, (ax0, ax1) = plt.subplots(nrows=2, sharex=True, figsize=(6, 6))\n",
    "ax0.plot(np.arange(1, pca.n_components_ + 1),\n",
    "         pca.explained_variance_ratio_, '+', linewidth=2)\n",
    "ax0.set_ylabel('PCA explained variance ratio')\n",
    "\n",
    "ax0.axvline(search.best_estimator_.named_steps['pca'].n_components,\n",
    "            linestyle=':', label='n_components chosen')\n",
    "ax0.legend(prop=dict(size=12))\n",
    "\n",
    "results = pd.DataFrame(search.cv_results_)\n",
    "components_col = 'param_pca__n_components'\n",
    "best_clfs = results.groupby(components_col).apply(\n",
    "    lambda g: g.nlargest(1, 'mean_test_score'))\n",
    "\n",
    "best_clfs.plot(x=components_col, y='mean_test_score', yerr='std_test_score',\n",
    "               legend=False, ax=ax1)\n",
    "ax1.set_ylabel('Classification accuracy (val)')\n",
    "ax1.set_xlabel('n_components')\n",
    "\n",
    "plt.xlim(-1, 70)\n",
    "\n",
    "plt.tight_layout()\n",
    "plt.show()"
   ]
  },
  {
   "cell_type": "code",
   "execution_count": null,
   "metadata": {
    "ExecuteTime": {
     "end_time": "2020-04-06T21:03:37.020107Z",
     "start_time": "2020-04-06T21:03:36.997083Z"
    },
    "collapsed": true,
    "scrolled": false
   },
   "outputs": [],
   "source": [
    "explained_variance = pca.explained_variance_ratio_\n",
    "\n",
    "explained_variance.round(2)"
   ]
  },
  {
   "cell_type": "code",
   "execution_count": null,
   "metadata": {
    "ExecuteTime": {
     "end_time": "2020-04-06T21:03:37.028113Z",
     "start_time": "2020-04-06T21:03:37.023709Z"
    },
    "collapsed": true
   },
   "outputs": [],
   "source": [
    "pca_tuned = PCA(n_components=30)"
   ]
  },
  {
   "cell_type": "code",
   "execution_count": null,
   "metadata": {
    "ExecuteTime": {
     "end_time": "2020-04-06T21:03:37.976060Z",
     "start_time": "2020-04-06T21:03:37.514516Z"
    },
    "collapsed": true
   },
   "outputs": [],
   "source": [
    "X_train_pca = pca_tuned.fit_transform(X_train)\n",
    "X_test_pca = pca_tuned.transform(X_test)"
   ]
  },
  {
   "cell_type": "code",
   "execution_count": null,
   "metadata": {
    "ExecuteTime": {
     "end_time": "2020-04-06T21:03:38.298457Z",
     "start_time": "2020-04-06T21:03:38.290188Z"
    },
    "collapsed": true
   },
   "outputs": [],
   "source": [
    "explained_variance = pca_tuned.explained_variance_ratio_\n",
    "\n",
    "explained_variance"
   ]
  },
  {
   "cell_type": "code",
   "execution_count": null,
   "metadata": {
    "ExecuteTime": {
     "end_time": "2020-04-06T21:03:38.892504Z",
     "start_time": "2020-04-06T21:03:38.884280Z"
    },
    "collapsed": true
   },
   "outputs": [],
   "source": [
    "X_train_pca.shape"
   ]
  },
  {
   "cell_type": "code",
   "execution_count": null,
   "metadata": {
    "ExecuteTime": {
     "end_time": "2020-04-06T21:03:41.040474Z",
     "start_time": "2020-04-06T21:03:39.454774Z"
    },
    "collapsed": true
   },
   "outputs": [],
   "source": [
    "dtree_param = {'class_weight': None, 'min_samples_leaf': 10, 'min_samples_split': 2, 'random_state':0}\n",
    "# {'class_weight': None, 'min_samples_leaf': 10, 'min_samples_split': 5, 'random_state':0}\n",
    "clf = DecisionTreeClassifier(**dtree_param)\n",
    "clf.fit(X_train_pca, y_train)\n",
    "y_pred = clf.predict(X_test_pca)"
   ]
  },
  {
   "cell_type": "markdown",
   "metadata": {},
   "source": [
    "## Maintains similar results with smaller feature space while benefiting from hyperparam tuning"
   ]
  },
  {
   "cell_type": "code",
   "execution_count": null,
   "metadata": {
    "ExecuteTime": {
     "end_time": "2020-04-06T21:03:41.061166Z",
     "start_time": "2020-04-06T21:03:41.044491Z"
    },
    "collapsed": true
   },
   "outputs": [],
   "source": [
    "f1_score(y_test, y_pred, average='weighted')"
   ]
  },
  {
   "cell_type": "markdown",
   "metadata": {},
   "source": [
    "## Even without weighting of trees or resampling performance on the minority class increases"
   ]
  },
  {
   "cell_type": "code",
   "execution_count": null,
   "metadata": {
    "ExecuteTime": {
     "end_time": "2020-04-06T21:03:42.868627Z",
     "start_time": "2020-04-06T21:03:42.355172Z"
    },
    "collapsed": true
   },
   "outputs": [],
   "source": [
    "from yellowbrick.classifier import ClassificationReport\n",
    "visualizer = ClassificationReport(clf, classes=clf.classes_, support=True)\n",
    "\n",
    "visualizer.fit(X_train_pca, y_train)\n",
    "visualizer.score(X_test_pca, y_test)       \n",
    "visualizer.show()   "
   ]
  },
  {
   "cell_type": "code",
   "execution_count": null,
   "metadata": {
    "ExecuteTime": {
     "end_time": "2020-04-06T21:03:47.624870Z",
     "start_time": "2020-04-06T21:03:43.055904Z"
    },
    "collapsed": true,
    "scrolled": true
   },
   "outputs": [],
   "source": [
    "viz = PrecisionRecallCurve(\n",
    "    clf, per_class=True, iso_f1_curves=True,\n",
    "    fill_area=False, micro=False, classes=clf.classes_\n",
    ")\n",
    "viz.fit(X_train_pca, y_train)\n",
    "viz.score(X_test_pca, y_test)\n",
    "viz.show()"
   ]
  },
  {
   "cell_type": "markdown",
   "metadata": {},
   "source": [
    "## TO DO: Turn the above into a function ^ of plots and Polynomial features"
   ]
  },
  {
   "cell_type": "code",
   "execution_count": null,
   "metadata": {
    "ExecuteTime": {
     "end_time": "2020-04-06T21:03:48.025525Z",
     "start_time": "2020-04-06T21:03:47.629325Z"
    },
    "collapsed": true
   },
   "outputs": [],
   "source": [
    "from sklearn.preprocessing import PolynomialFeatures\n",
    "poly = PolynomialFeatures(degree=2, include_bias=False)\n",
    "X_train_poly = poly.fit_transform(X_train_pca)\n",
    "X_test_poly = poly.transform(X_test_pca)"
   ]
  },
  {
   "cell_type": "code",
   "execution_count": null,
   "metadata": {
    "ExecuteTime": {
     "end_time": "2020-04-06T21:03:48.038526Z",
     "start_time": "2020-04-06T21:03:48.030922Z"
    },
    "collapsed": true
   },
   "outputs": [],
   "source": [
    "X_train_poly.shape"
   ]
  },
  {
   "cell_type": "code",
   "execution_count": null,
   "metadata": {
    "ExecuteTime": {
     "start_time": "2020-04-06T21:03:48.610Z"
    },
    "collapsed": true
   },
   "outputs": [],
   "source": [
    "classifier = DecisionTreeClassifier(random_state=0)\n",
    "pipe = Pipeline([('dtree', classifier)])\n",
    "\n",
    "param_grid = {\n",
    "#     'dtree__max_depth': [1,2,5],\n",
    "    'dtree__min_samples_split': [1,2,5],\n",
    "    'dtree__min_samples_leaf': [1,4,10],\n",
    "#     'dtree__max_features': [None,50,25],\n",
    "}\n",
    "search = GridSearchCV(pipe, param_grid, n_jobs=-1, scoring=f1, cv=10)\n",
    "search.fit(X_train_poly, y_train)\n",
    "print(\"Best parameter (CV score=%0.3f):\" % search.best_score_)\n",
    "print(search.best_params_)"
   ]
  },
  {
   "cell_type": "code",
   "execution_count": null,
   "metadata": {
    "ExecuteTime": {
     "start_time": "2020-04-06T21:03:52.632Z"
    },
    "collapsed": true
   },
   "outputs": [],
   "source": [
    "dtree_param = {'class_weight': None, 'min_samples_leaf': 10, 'min_samples_split': 2, 'random_state':0}\n",
    "# {'class_weight': None, 'min_samples_leaf': 10, 'min_samples_split': 5, 'random_state':0}\n",
    "clf = DecisionTreeClassifier(**dtree_param)\n",
    "clf.fit(X_train_poly, y_train)\n",
    "y_pred = clf.predict(X_test_poly)"
   ]
  },
  {
   "cell_type": "code",
   "execution_count": null,
   "metadata": {
    "collapsed": true
   },
   "outputs": [],
   "source": []
  },
  {
   "cell_type": "markdown",
   "metadata": {},
   "source": [
    "## polynomial features do not seem to boost performance"
   ]
  },
  {
   "cell_type": "code",
   "execution_count": null,
   "metadata": {
    "ExecuteTime": {
     "start_time": "2020-04-06T21:03:54.332Z"
    },
    "collapsed": true
   },
   "outputs": [],
   "source": [
    "f1_score(y_test, y_pred, average='weighted')"
   ]
  },
  {
   "cell_type": "code",
   "execution_count": null,
   "metadata": {
    "ExecuteTime": {
     "start_time": "2020-04-06T21:03:54.672Z"
    },
    "collapsed": true
   },
   "outputs": [],
   "source": [
    "from yellowbrick.classifier import ClassificationReport\n",
    "visualizer = ClassificationReport(clf, classes=clf.classes_, support=True)\n",
    "\n",
    "visualizer.fit(X_train_poly, y_train)\n",
    "visualizer.score(X_test_poly, y_test)       \n",
    "visualizer.show()   "
   ]
  },
  {
   "cell_type": "code",
   "execution_count": null,
   "metadata": {
    "ExecuteTime": {
     "start_time": "2020-04-06T21:03:54.987Z"
    },
    "collapsed": true,
    "scrolled": true
   },
   "outputs": [],
   "source": [
    "viz = PrecisionRecallCurve(\n",
    "    clf, per_class=True, iso_f1_curves=True,\n",
    "    fill_area=False, micro=False, classes=clf.classes_\n",
    ")\n",
    "viz.fit(X_train_poly, y_train)\n",
    "viz.score(X_test_poly, y_test)\n",
    "viz.show()"
   ]
  },
  {
   "cell_type": "markdown",
   "metadata": {},
   "source": [
    "## PCA seems the way to go, at n=30 components"
   ]
  },
  {
   "cell_type": "code",
   "execution_count": null,
   "metadata": {
    "collapsed": true
   },
   "outputs": [],
   "source": []
  },
  {
   "cell_type": "code",
   "execution_count": null,
   "metadata": {
    "collapsed": true
   },
   "outputs": [],
   "source": []
  },
  {
   "cell_type": "markdown",
   "metadata": {},
   "source": [
    "- #  SMOTE pipeline, add PCA, other samplers, FORGOT TO SMOTE AFTER SEARCH OOPS"
   ]
  },
  {
   "cell_type": "code",
   "execution_count": null,
   "metadata": {
    "ExecuteTime": {
     "start_time": "2020-04-06T21:03:56.438Z"
    },
    "collapsed": true
   },
   "outputs": [],
   "source": [
    "from imblearn.pipeline import Pipeline\n",
    "from imblearn.over_sampling import SMOTE\n",
    "model = Pipeline([\n",
    "        ('sampling', SMOTE()),\n",
    "        ('dtree', DecisionTreeClassifier(random_state=0),\n",
    "        ('pca', PCA()))\n",
    "    ])\n",
    "\n",
    "params_grid = {\n",
    "    'pca__n_components': [5, 15, 30],\n",
    "    'dtree__max_depth': [1,2,5],\n",
    "    'dtree__min_samples_split': [1,2,5],\n",
    "    'dtree__min_samples_leaf': [1,4,10],\n",
    "    'dtree__max_features': [None,50,25],\n",
    "    'dtree__class_weight': ['balanced', None]\n",
    "    \n",
    "}\n",
    "\n",
    "grid = GridSearchCV(model, params_grid, n_jobs=-1, scoring=[f1, 'roc_auc'] )\n",
    "grid.fit(X_train, y_train)\n",
    "print(f\"Best params: {search.best_params_}\")"
   ]
  },
  {
   "cell_type": "code",
   "execution_count": null,
   "metadata": {
    "ExecuteTime": {
     "start_time": "2020-04-06T21:03:56.740Z"
    },
    "collapsed": true,
    "scrolled": true
   },
   "outputs": [],
   "source": [
    "X_train.shape"
   ]
  },
  {
   "cell_type": "code",
   "execution_count": null,
   "metadata": {
    "ExecuteTime": {
     "start_time": "2020-04-06T21:03:57.023Z"
    },
    "collapsed": true
   },
   "outputs": [],
   "source": [
    "pca_smote = PCA(n_components=30)"
   ]
  },
  {
   "cell_type": "code",
   "execution_count": null,
   "metadata": {
    "ExecuteTime": {
     "start_time": "2020-04-06T21:03:58.099Z"
    },
    "collapsed": true
   },
   "outputs": [],
   "source": [
    "X_train_pcs = pca_smote.fit_transform(X_train)\n",
    "X_test_pcs = pca_smote.transform(X_test)"
   ]
  },
  {
   "cell_type": "code",
   "execution_count": null,
   "metadata": {
    "ExecuteTime": {
     "start_time": "2020-04-06T21:03:58.378Z"
    },
    "collapsed": true
   },
   "outputs": [],
   "source": [
    "explained_variance = pca_smote.explained_variance_ratio_\n",
    "\n",
    "explained_variance"
   ]
  },
  {
   "cell_type": "code",
   "execution_count": null,
   "metadata": {
    "ExecuteTime": {
     "start_time": "2020-04-06T21:03:58.687Z"
    },
    "collapsed": true
   },
   "outputs": [],
   "source": [
    "X_train_pcs.shape"
   ]
  },
  {
   "cell_type": "code",
   "execution_count": null,
   "metadata": {
    "ExecuteTime": {
     "start_time": "2020-04-06T21:03:58.974Z"
    },
    "collapsed": true
   },
   "outputs": [],
   "source": [
    "dtree_param = {'class_weight': None, 'min_samples_leaf': 10, 'min_samples_split': 5, 'random_state':0}\n",
    "clf = DecisionTreeClassifier(**dtree_param)\n",
    "clf.fit(X_train_pcs, y_train)\n",
    "y_pred = clf.predict(X_test_pcs)"
   ]
  },
  {
   "cell_type": "markdown",
   "metadata": {},
   "source": [
    "## Not much improvement on performance with the addition of SMOTE on PCA"
   ]
  },
  {
   "cell_type": "code",
   "execution_count": null,
   "metadata": {
    "ExecuteTime": {
     "start_time": "2020-04-06T21:03:59.463Z"
    },
    "collapsed": true
   },
   "outputs": [],
   "source": [
    "f1_score(y_test, y_pred, average='weighted')"
   ]
  },
  {
   "cell_type": "code",
   "execution_count": null,
   "metadata": {
    "collapsed": true
   },
   "outputs": [],
   "source": []
  },
  {
   "cell_type": "code",
   "execution_count": null,
   "metadata": {
    "ExecuteTime": {
     "start_time": "2020-04-06T21:04:00.129Z"
    },
    "collapsed": true,
    "scrolled": true
   },
   "outputs": [],
   "source": [
    "from yellowbrick.classifier import ClassificationReport\n",
    "visualizer = ClassificationReport(clf, classes=clf.classes_, support=True)\n",
    "\n",
    "visualizer.fit(X_train_pcs, y_train)\n",
    "visualizer.score(X_test_pcs, y_test)       \n",
    "visualizer.show()   "
   ]
  },
  {
   "cell_type": "code",
   "execution_count": null,
   "metadata": {
    "ExecuteTime": {
     "start_time": "2020-04-06T21:04:00.475Z"
    },
    "collapsed": true,
    "scrolled": true
   },
   "outputs": [],
   "source": [
    "viz = PrecisionRecallCurve(\n",
    "    clf, per_class=True, iso_f1_curves=True,\n",
    "    fill_area=False, micro=False, classes=clf.classes_\n",
    ")\n",
    "viz.fit(X_train_pcs, y_train)\n",
    "viz.score(X_test, y_test)\n",
    "viz.show()"
   ]
  },
  {
   "cell_type": "code",
   "execution_count": null,
   "metadata": {
    "ExecuteTime": {
     "start_time": "2020-04-06T21:04:00.802Z"
    },
    "collapsed": true
   },
   "outputs": [],
   "source": [
    "from yellowbrick.target import ClassBalance\n",
    "\n",
    "visualizer = ClassBalance(labels=clf.classes_)\n",
    "\n",
    "visualizer.fit(y_train_pcs, y_test)\n",
    "visualizer.show() "
   ]
  },
  {
   "cell_type": "code",
   "execution_count": null,
   "metadata": {
    "collapsed": true
   },
   "outputs": [],
   "source": []
  },
  {
   "cell_type": "markdown",
   "metadata": {},
   "source": [
    "## SMOTE"
   ]
  },
  {
   "cell_type": "code",
   "execution_count": 93,
   "metadata": {
    "ExecuteTime": {
     "start_time": "2020-04-06T21:04:01.601Z"
    },
    "collapsed": false,
    "scrolled": true
   },
   "outputs": [
    {
     "name": "stderr",
     "output_type": "stream",
     "text": [
      "/Users/michael/anaconda3/envs/learn-env/lib/python3.6/site-packages/sklearn/externals/six.py:31: FutureWarning: The module is deprecated in version 0.21 and will be removed in version 0.23 since we've dropped support for Python 2.7. Please rely on the official version of six (https://pypi.org/project/six/).\n",
      "  \"(https://pypi.org/project/six/).\", FutureWarning)\n",
      "/Users/michael/anaconda3/envs/learn-env/lib/python3.6/site-packages/sklearn/utils/deprecation.py:144: FutureWarning: The sklearn.neighbors.base module is  deprecated in version 0.22 and will be removed in version 0.24. The corresponding classes / functions should instead be imported from sklearn.neighbors. Anything that cannot be imported from sklearn.neighbors is now part of the private API.\n",
      "  warnings.warn(message, FutureWarning)\n",
      "/Users/michael/anaconda3/envs/learn-env/lib/python3.6/site-packages/sklearn/utils/deprecation.py:87: FutureWarning: Function safe_indexing is deprecated; safe_indexing is deprecated in version 0.22 and will be removed in version 0.24.\n",
      "  warnings.warn(msg, category=FutureWarning)\n"
     ]
    },
    {
     "name": "stdout",
     "output_type": "stream",
     "text": [
      "Original class distribution: \n",
      "\n",
      "1    30308\n",
      "2     2546\n",
      "0     1926\n",
      "Name: status, dtype: int64\n"
     ]
    },
    {
     "name": "stderr",
     "output_type": "stream",
     "text": [
      "/Users/michael/anaconda3/envs/learn-env/lib/python3.6/site-packages/sklearn/utils/deprecation.py:87: FutureWarning: Function safe_indexing is deprecated; safe_indexing is deprecated in version 0.22 and will be removed in version 0.24.\n",
      "  warnings.warn(msg, category=FutureWarning)\n"
     ]
    },
    {
     "name": "stdout",
     "output_type": "stream",
     "text": [
      "-----------------------------------------\n",
      "Synthetic sample class distribution: \n",
      "\n",
      "2    22731\n",
      "1    22731\n",
      "0    22731\n",
      "dtype: int64\n"
     ]
    }
   ],
   "source": [
    "from imblearn.pipeline import Pipeline\n",
    "from imblearn.over_sampling import SMOTE\n",
    "\n",
    "print('Original class distribution: \\n')\n",
    "print(y.value_counts())\n",
    "smote = SMOTE()\n",
    "X_train_resampled, y_train_resampled = smote.fit_sample(X_train, y_train) \n",
    "# Preview synthetic sample class distribution\n",
    "print('-----------------------------------------')\n",
    "print('Synthetic sample class distribution: \\n')\n",
    "print(pd.Series(y_train_resampled).value_counts()) "
   ]
  },
  {
   "cell_type": "code",
   "execution_count": null,
   "metadata": {
    "ExecuteTime": {
     "start_time": "2020-04-06T21:04:01.952Z"
    },
    "collapsed": true
   },
   "outputs": [],
   "source": [
    "from sklearn.tree import DecisionTreeClassifier\n",
    "clf = DecisionTreeClassifier(random_state=0)\n",
    "clf.fit(X_train_resampled, y_train_resampled)\n",
    "y_pred = clf.predict(X_test)"
   ]
  },
  {
   "cell_type": "markdown",
   "metadata": {},
   "source": [
    "## Oddly goes down after date encoding and SMOTE - good place for a classification report"
   ]
  },
  {
   "cell_type": "code",
   "execution_count": null,
   "metadata": {
    "ExecuteTime": {
     "start_time": "2020-04-06T21:04:02.453Z"
    },
    "collapsed": true
   },
   "outputs": [],
   "source": [
    "from sklearn.metrics import f1_score\n",
    "f1_score(y_test, y_pred, average='weighted')"
   ]
  },
  {
   "cell_type": "code",
   "execution_count": null,
   "metadata": {
    "ExecuteTime": {
     "start_time": "2020-04-06T21:04:02.809Z"
    },
    "collapsed": true
   },
   "outputs": [],
   "source": [
    "from sklearn.metrics import accuracy_score\n",
    "\n",
    "accuracy_score(y_test,y_pred)"
   ]
  },
  {
   "cell_type": "markdown",
   "metadata": {},
   "source": [
    "## Better performance on minority classes"
   ]
  },
  {
   "cell_type": "code",
   "execution_count": null,
   "metadata": {
    "ExecuteTime": {
     "end_time": "2020-04-06T14:55:50.094997Z",
     "start_time": "2020-04-06T14:55:49.734609Z"
    },
    "collapsed": true,
    "scrolled": true
   },
   "outputs": [],
   "source": [
    "from yellowbrick.classifier import ClassificationReport\n",
    "visualizer = ClassificationReport(clf, classes=clf.classes_, support=True)\n",
    "\n",
    "visualizer.fit(X_train_resampled, y_train_resampled)\n",
    "visualizer.score(X_test, y_test)       \n",
    "visualizer.show()   "
   ]
  },
  {
   "cell_type": "code",
   "execution_count": null,
   "metadata": {
    "ExecuteTime": {
     "end_time": "2020-04-06T14:56:02.771622Z",
     "start_time": "2020-04-06T14:55:50.645256Z"
    },
    "collapsed": true,
    "scrolled": true
   },
   "outputs": [],
   "source": [
    "viz = PrecisionRecallCurve(clf)\n",
    "viz.fit(X_train_resampled, y_train_resampled)\n",
    "viz.score(X_test, y_test)\n",
    "viz.show()"
   ]
  },
  {
   "cell_type": "code",
   "execution_count": null,
   "metadata": {
    "ExecuteTime": {
     "end_time": "2020-04-05T23:03:19.153787Z",
     "start_time": "2020-04-05T23:03:09.430398Z"
    },
    "collapsed": true,
    "scrolled": true
   },
   "outputs": [],
   "source": [
    "viz = PrecisionRecallCurve(\n",
    "    clf, per_class=True, iso_f1_curves=True,\n",
    "    fill_area=False, micro=False, classes=clf.classes_\n",
    ")\n",
    "viz.fit(X_train_resampled, y_train_resampled)\n",
    "viz.score(X_test, y_test)\n",
    "viz.show()"
   ]
  },
  {
   "cell_type": "code",
   "execution_count": null,
   "metadata": {
    "ExecuteTime": {
     "end_time": "2020-04-05T23:03:19.434669Z",
     "start_time": "2020-04-05T23:03:19.157614Z"
    },
    "collapsed": true
   },
   "outputs": [],
   "source": [
    "from yellowbrick.target import ClassBalance\n",
    "\n",
    "visualizer = ClassBalance(labels=clf.classes_)\n",
    "\n",
    "visualizer.fit(y_train_resampled, y_test)\n",
    "visualizer.show() "
   ]
  },
  {
   "cell_type": "markdown",
   "metadata": {},
   "source": [
    "# Hyperparamater tuning off SMOTE"
   ]
  },
  {
   "cell_type": "code",
   "execution_count": null,
   "metadata": {
    "ExecuteTime": {
     "end_time": "2020-04-05T23:04:24.790448Z",
     "start_time": "2020-04-05T23:03:26.307075Z"
    },
    "collapsed": true
   },
   "outputs": [],
   "source": [
    "classifier = DecisionTreeClassifier(random_state=0)\n",
    "pipe = Pipeline(steps=[('dtree', classifier)])\n",
    "\n",
    "param_grid = {\n",
    "\n",
    "    'dtree__max_depth': [1,2,5],\n",
    "    'dtree__min_samples_split': [1,2,5],\n",
    "    'dtree__min_samples_leaf': [1,4,10],\n",
    "    'dtree__max_features': [None,50,25],\n",
    "    'dtree__class_weight': ['balanced', None]\n",
    "    \n",
    "}\n",
    "search = GridSearchCV(pipe, param_grid, n_jobs=-1, scoring=f1)\n",
    "search.fit(X_train, y_train)\n",
    "print(\"Best parameter (CV score=%0.3f):\" % search.best_score_)\n"
   ]
  },
  {
   "cell_type": "code",
   "execution_count": null,
   "metadata": {
    "ExecuteTime": {
     "end_time": "2020-04-05T23:07:11.984164Z",
     "start_time": "2020-04-05T23:07:11.882843Z"
    },
    "collapsed": true
   },
   "outputs": [],
   "source": [
    "smote_d_param = {'class_weight': None, 'max_depth': 1, 'max_features': None, 'min_samples_leaf': 1, 'min_samples_split': 2}\n",
    "#to account for all classes: {'class_weight': 'balanced', 'max_depth': 5, 'max_features': 50, 'min_samples_leaf': 4, 'min_samples_split': 2}\n",
    "clf = DecisionTreeClassifier(random_state=0, **smote_d_param)\n",
    "clf.fit(X_train, y_train)\n",
    "y_pred = clf.predict(X_test)\n"
   ]
  },
  {
   "cell_type": "code",
   "execution_count": null,
   "metadata": {
    "ExecuteTime": {
     "end_time": "2020-04-05T23:07:13.663629Z",
     "start_time": "2020-04-05T23:07:13.649175Z"
    },
    "collapsed": true
   },
   "outputs": [],
   "source": [
    "from sklearn.metrics import f1_score\n",
    "f1_score(y_test, y_pred, average='weighted')"
   ]
  },
  {
   "cell_type": "markdown",
   "metadata": {},
   "source": [
    "## Focuses on one class after tuning - 'balanced' as a default parameter would lead to more balanced results"
   ]
  },
  {
   "cell_type": "code",
   "execution_count": null,
   "metadata": {
    "ExecuteTime": {
     "end_time": "2020-04-05T23:08:09.956000Z",
     "start_time": "2020-04-05T23:08:09.616484Z"
    },
    "collapsed": true,
    "scrolled": true
   },
   "outputs": [],
   "source": [
    "from yellowbrick.classifier import ClassificationReport\n",
    "visualizer = ClassificationReport(clf, classes=clf.classes_, support=True)\n",
    "\n",
    "visualizer.fit(X_train, y_train)\n",
    "visualizer.score(X_test, y_test)       \n",
    "visualizer.show()   "
   ]
  },
  {
   "cell_type": "code",
   "execution_count": null,
   "metadata": {
    "ExecuteTime": {
     "end_time": "2020-04-05T23:08:16.943427Z",
     "start_time": "2020-04-05T23:08:16.504249Z"
    },
    "collapsed": true,
    "scrolled": true
   },
   "outputs": [],
   "source": [
    "from yellowbrick.classifier import PrecisionRecallCurve\n",
    "viz = PrecisionRecallCurve(clf)\n",
    "viz.fit(X_train, y_train)\n",
    "viz.score(X_test, y_test)\n",
    "viz.show()"
   ]
  },
  {
   "cell_type": "code",
   "execution_count": null,
   "metadata": {
    "ExecuteTime": {
     "end_time": "2020-04-05T23:08:18.055937Z",
     "start_time": "2020-04-05T23:08:16.946650Z"
    },
    "collapsed": true,
    "scrolled": true
   },
   "outputs": [],
   "source": [
    "viz = PrecisionRecallCurve(\n",
    "    clf, per_class=True, iso_f1_curves=True,\n",
    "    fill_area=False, micro=False, classes=clf.classes_\n",
    ")\n",
    "viz.fit(X_train, y_train)\n",
    "viz.score(X_test, y_test)\n",
    "viz.show()"
   ]
  },
  {
   "cell_type": "markdown",
   "metadata": {},
   "source": [
    "# Over and undersampling - SMOTENN: took 5 min 21s to run, try on PCA first"
   ]
  },
  {
   "cell_type": "code",
   "execution_count": null,
   "metadata": {
    "ExecuteTime": {
     "end_time": "2020-04-05T23:15:00.013865Z",
     "start_time": "2020-04-05T23:09:38.878929Z"
    },
    "collapsed": true,
    "scrolled": true
   },
   "outputs": [],
   "source": [
    "from imblearn.combine import SMOTEENN\n",
    "smote_enn = SMOTEENN(random_state=0)\n",
    "X_se, y_se = smote_enn.fit_resample(X_train, y_train)"
   ]
  },
  {
   "cell_type": "code",
   "execution_count": null,
   "metadata": {
    "ExecuteTime": {
     "end_time": "2020-04-05T23:19:04.520724Z",
     "start_time": "2020-04-05T23:19:01.906302Z"
    },
    "collapsed": true
   },
   "outputs": [],
   "source": [
    "from sklearn.tree import DecisionTreeClassifier\n",
    "clf = DecisionTreeClassifier(random_state=0)\n",
    "clf.fit(X_se, y_se)\n",
    "y_pred = clf.predict(X_test)"
   ]
  },
  {
   "cell_type": "code",
   "execution_count": null,
   "metadata": {
    "ExecuteTime": {
     "end_time": "2020-04-05T23:19:06.073787Z",
     "start_time": "2020-04-05T23:19:06.058600Z"
    },
    "collapsed": true
   },
   "outputs": [],
   "source": [
    "from sklearn.metrics import f1_score\n",
    "f1_score(y_test, y_pred, average='weighted')"
   ]
  },
  {
   "cell_type": "markdown",
   "metadata": {},
   "source": [
    "## Even worse performance on f1 weighted"
   ]
  },
  {
   "cell_type": "markdown",
   "metadata": {},
   "source": [
    "## But rather balanced assesment of classes"
   ]
  },
  {
   "cell_type": "code",
   "execution_count": null,
   "metadata": {
    "ExecuteTime": {
     "end_time": "2020-04-05T23:20:06.095489Z",
     "start_time": "2020-04-05T23:20:05.735180Z"
    },
    "collapsed": true,
    "scrolled": true
   },
   "outputs": [],
   "source": [
    "from yellowbrick.classifier import ClassificationReport\n",
    "visualizer = ClassificationReport(clf, classes=clf.classes_, support=True)\n",
    "\n",
    "visualizer.fit(X_se, y_se)\n",
    "visualizer.score(X_test, y_test)       \n",
    "visualizer.show()   "
   ]
  },
  {
   "cell_type": "code",
   "execution_count": null,
   "metadata": {
    "ExecuteTime": {
     "end_time": "2020-04-05T23:20:23.588643Z",
     "start_time": "2020-04-05T23:20:14.742910Z"
    },
    "collapsed": true,
    "scrolled": true
   },
   "outputs": [],
   "source": [
    "from yellowbrick.classifier import PrecisionRecallCurve\n",
    "viz = PrecisionRecallCurve(clf)\n",
    "viz.fit(X_se, y_se)\n",
    "viz.score(X_test, y_test)\n",
    "viz.show()"
   ]
  },
  {
   "cell_type": "code",
   "execution_count": null,
   "metadata": {
    "ExecuteTime": {
     "end_time": "2020-04-05T23:20:32.049515Z",
     "start_time": "2020-04-05T23:20:23.592817Z"
    },
    "collapsed": true,
    "scrolled": true
   },
   "outputs": [],
   "source": [
    "viz = PrecisionRecallCurve(\n",
    "    clf, per_class=True, iso_f1_curves=True,\n",
    "    fill_area=False, micro=False, classes=clf.classes_\n",
    ")\n",
    "viz.fit(X_se, y_se)\n",
    "viz.score(X_test, y_test)\n",
    "viz.show()"
   ]
  },
  {
   "cell_type": "code",
   "execution_count": null,
   "metadata": {
    "ExecuteTime": {
     "end_time": "2020-04-05T23:20:37.411522Z",
     "start_time": "2020-04-05T23:20:37.168767Z"
    },
    "collapsed": true
   },
   "outputs": [],
   "source": [
    "from yellowbrick.target import ClassBalance\n",
    "\n",
    "visualizer = ClassBalance(labels=clf.classes_)\n",
    "\n",
    "visualizer.fit(y_se, y_test)\n",
    "visualizer.show() "
   ]
  },
  {
   "cell_type": "markdown",
   "metadata": {},
   "source": [
    "# Hyperparamater tuning off SMOTENN"
   ]
  },
  {
   "cell_type": "code",
   "execution_count": null,
   "metadata": {
    "ExecuteTime": {
     "end_time": "2020-04-05T23:25:08.858481Z",
     "start_time": "2020-04-05T23:23:20.250434Z"
    },
    "collapsed": true
   },
   "outputs": [],
   "source": [
    "classifier = DecisionTreeClassifier(random_state=0)\n",
    "pipe = Pipeline(steps=[('dtree', classifier)])\n",
    "\n",
    "param_grid = {\n",
    "\n",
    "    'dtree__max_depth': [1,2,5],\n",
    "    'dtree__min_samples_split': [1,2,5],\n",
    "    'dtree__min_samples_leaf': [1,4,10],\n",
    "    'dtree__max_features': [None,50,25],\n",
    "    'dtree__class_weight': ['balanced', None]\n",
    "    \n",
    "}\n",
    "search = GridSearchCV(pipe, param_grid, n_jobs=-1, scoring=f1)\n",
    "search.fit(X_se, y_se)\n",
    "print(\"Best parameter (CV score=%0.3f):\" % search.best_score_)\n",
    "print(search.best_params_)"
   ]
  },
  {
   "cell_type": "markdown",
   "metadata": {},
   "source": [
    "## Grid search gives rather bad results on f1 weighted"
   ]
  },
  {
   "cell_type": "code",
   "execution_count": null,
   "metadata": {
    "ExecuteTime": {
     "end_time": "2020-04-05T23:25:48.729608Z",
     "start_time": "2020-04-05T23:25:48.207305Z"
    },
    "collapsed": true
   },
   "outputs": [],
   "source": [
    "smote_d_param = {'class_weight': 'balanced', 'max_depth': 5, 'max_features': 50, 'min_samples_leaf': 1, 'min_samples_split': 2}\n",
    "#to account for all classes: {'class_weight': 'balanced', 'max_depth': 5, 'max_features': 50, 'min_samples_leaf': 4, 'min_samples_split': 2}\n",
    "clf = DecisionTreeClassifier(random_state=0, **smote_d_param)\n",
    "clf.fit(X_se, y_se)\n",
    "y_pred = clf.predict(X_test)\n"
   ]
  },
  {
   "cell_type": "code",
   "execution_count": null,
   "metadata": {
    "ExecuteTime": {
     "end_time": "2020-04-05T23:25:50.310693Z",
     "start_time": "2020-04-05T23:25:50.288774Z"
    },
    "collapsed": true
   },
   "outputs": [],
   "source": [
    "from sklearn.metrics import f1_score\n",
    "f1_score(y_test, y_pred, average='weighted')"
   ]
  },
  {
   "cell_type": "markdown",
   "metadata": {},
   "source": [
    "## Strong recall across all classes and maybe the best balanced classifier in some ways, but not the best f1 weighted"
   ]
  },
  {
   "cell_type": "code",
   "execution_count": null,
   "metadata": {
    "ExecuteTime": {
     "end_time": "2020-04-05T23:26:39.049420Z",
     "start_time": "2020-04-05T23:26:38.636775Z"
    },
    "collapsed": true,
    "scrolled": true
   },
   "outputs": [],
   "source": [
    "from yellowbrick.classifier import ClassificationReport\n",
    "visualizer = ClassificationReport(clf, classes=clf.classes_, support=True)\n",
    "\n",
    "visualizer.fit(X_se, y_se)\n",
    "visualizer.score(X_test, y_test)       \n",
    "visualizer.show()   "
   ]
  },
  {
   "cell_type": "code",
   "execution_count": null,
   "metadata": {
    "ExecuteTime": {
     "end_time": "2020-04-05T23:27:36.103683Z",
     "start_time": "2020-04-05T23:27:34.319398Z"
    },
    "collapsed": true,
    "scrolled": true
   },
   "outputs": [],
   "source": [
    "from yellowbrick.classifier import PrecisionRecallCurve\n",
    "viz = PrecisionRecallCurve(clf)\n",
    "viz.fit(X_se, y_se)\n",
    "viz.score(X_test, y_test)\n",
    "viz.show()"
   ]
  },
  {
   "cell_type": "code",
   "execution_count": null,
   "metadata": {
    "ExecuteTime": {
     "end_time": "2020-04-05T23:27:43.711568Z",
     "start_time": "2020-04-05T23:27:41.646779Z"
    },
    "collapsed": true,
    "scrolled": true
   },
   "outputs": [],
   "source": [
    "viz = PrecisionRecallCurve(\n",
    "    clf, per_class=True, iso_f1_curves=True,\n",
    "    fill_area=False, micro=False, classes=clf.classes_\n",
    ")\n",
    "viz.fit(X_se, y_se)\n",
    "viz.score(X_test, y_test)\n",
    "viz.show()"
   ]
  },
  {
   "cell_type": "markdown",
   "metadata": {},
   "source": [
    "## SMOTomek sampling- 4 min 11s"
   ]
  },
  {
   "cell_type": "code",
   "execution_count": null,
   "metadata": {
    "ExecuteTime": {
     "end_time": "2020-04-05T23:34:43.376409Z",
     "start_time": "2020-04-05T23:30:32.205658Z"
    },
    "collapsed": true,
    "scrolled": true
   },
   "outputs": [],
   "source": [
    "from imblearn.combine import SMOTETomek\n",
    "smote_tomek = SMOTETomek(random_state=0)\n",
    "X_st, y_st = smote_tomek.fit_resample(X_train, y_train)"
   ]
  },
  {
   "cell_type": "code",
   "execution_count": null,
   "metadata": {
    "ExecuteTime": {
     "end_time": "2020-04-05T23:41:29.995812Z",
     "start_time": "2020-04-05T23:41:26.365031Z"
    },
    "collapsed": true
   },
   "outputs": [],
   "source": [
    "from sklearn.tree import DecisionTreeClassifier\n",
    "clf = DecisionTreeClassifier(random_state=0)\n",
    "clf.fit(X_st, y_st)\n",
    "y_pred = clf.predict(X_test)"
   ]
  },
  {
   "cell_type": "markdown",
   "metadata": {},
   "source": [
    "## slightly better performance than smottenn"
   ]
  },
  {
   "cell_type": "code",
   "execution_count": null,
   "metadata": {
    "ExecuteTime": {
     "end_time": "2020-04-05T23:41:31.286262Z",
     "start_time": "2020-04-05T23:41:31.270444Z"
    },
    "collapsed": true
   },
   "outputs": [],
   "source": [
    "from sklearn.metrics import f1_score\n",
    "f1_score(y_test, y_pred, average='weighted')"
   ]
  },
  {
   "cell_type": "markdown",
   "metadata": {},
   "source": [
    "## And just about the usual assessment of classes"
   ]
  },
  {
   "cell_type": "code",
   "execution_count": null,
   "metadata": {
    "ExecuteTime": {
     "end_time": "2020-04-05T23:42:11.517919Z",
     "start_time": "2020-04-05T23:42:11.073123Z"
    },
    "collapsed": true,
    "scrolled": true
   },
   "outputs": [],
   "source": [
    "from yellowbrick.classifier import ClassificationReport\n",
    "visualizer = ClassificationReport(clf, classes=clf.classes_, support=True)\n",
    "\n",
    "visualizer.fit(X_st, y_st)\n",
    "visualizer.score(X_test, y_test)       \n",
    "visualizer.show()   "
   ]
  },
  {
   "cell_type": "code",
   "execution_count": null,
   "metadata": {
    "ExecuteTime": {
     "end_time": "2020-04-05T23:42:50.885206Z",
     "start_time": "2020-04-05T23:42:39.498024Z"
    },
    "collapsed": true,
    "scrolled": true
   },
   "outputs": [],
   "source": [
    "viz = PrecisionRecallCurve(\n",
    "    clf, per_class=True, iso_f1_curves=True,\n",
    "    fill_area=False, micro=False, classes=clf.classes_\n",
    ")\n",
    "viz.fit(X_st, y_st)\n",
    "viz.score(X_test, y_test)\n",
    "viz.show()"
   ]
  },
  {
   "cell_type": "code",
   "execution_count": null,
   "metadata": {
    "ExecuteTime": {
     "end_time": "2020-04-05T23:42:51.263360Z",
     "start_time": "2020-04-05T23:42:50.892798Z"
    },
    "collapsed": true
   },
   "outputs": [],
   "source": [
    "from yellowbrick.target import ClassBalance\n",
    "\n",
    "visualizer = ClassBalance(labels=clf.classes_)\n",
    "\n",
    "visualizer.fit(y_st, y_test)\n",
    "visualizer.show() "
   ]
  },
  {
   "cell_type": "markdown",
   "metadata": {},
   "source": [
    "# Hyperparamater tuning off Smotek"
   ]
  },
  {
   "cell_type": "code",
   "execution_count": null,
   "metadata": {
    "ExecuteTime": {
     "end_time": "2020-04-05T23:45:37.716320Z",
     "start_time": "2020-04-05T23:43:16.257510Z"
    },
    "collapsed": true
   },
   "outputs": [],
   "source": [
    "classifier = DecisionTreeClassifier(random_state=0)\n",
    "pipe = Pipeline(steps=[('dtree', classifier)])\n",
    "\n",
    "param_grid = {\n",
    "\n",
    "    'dtree__max_depth': [1,2,5],\n",
    "    'dtree__min_samples_split': [1,2,5],\n",
    "    'dtree__min_samples_leaf': [1,4,10],\n",
    "    'dtree__max_features': [None,50,25],\n",
    "    'dtree__class_weight': ['balanced', None]\n",
    "    \n",
    "}\n",
    "search = GridSearchCV(pipe, param_grid, n_jobs=-1, scoring=f1)\n",
    "search.fit(X_st, y_st)\n",
    "print(\"Best parameter (CV score=%0.3f):\" % search.best_score_)\n",
    "print(search.best_params_)"
   ]
  },
  {
   "cell_type": "markdown",
   "metadata": {},
   "source": [
    "## Grid search gives rather bad results on f1 weighted again"
   ]
  },
  {
   "cell_type": "code",
   "execution_count": null,
   "metadata": {
    "ExecuteTime": {
     "end_time": "2020-04-05T23:46:10.465788Z",
     "start_time": "2020-04-05T23:46:09.833305Z"
    },
    "collapsed": true
   },
   "outputs": [],
   "source": [
    "smote_d_param = {'class_weight': None, 'max_depth': 5, 'max_features': 50, 'min_samples_leaf': 1, 'min_samples_split': 2}\n",
    "#to account for all classes: {'class_weight': 'balanced', 'max_depth': 5, 'max_features': 50, 'min_samples_leaf': 4, 'min_samples_split': 2}\n",
    "clf = DecisionTreeClassifier(random_state=0, **smote_d_param)\n",
    "clf.fit(X_st, y_st)\n",
    "y_pred = clf.predict(X_test)\n"
   ]
  },
  {
   "cell_type": "code",
   "execution_count": null,
   "metadata": {
    "ExecuteTime": {
     "end_time": "2020-04-05T23:46:11.229975Z",
     "start_time": "2020-04-05T23:46:11.218469Z"
    },
    "collapsed": true
   },
   "outputs": [],
   "source": [
    "from sklearn.metrics import f1_score\n",
    "f1_score(y_test, y_pred, average='weighted')"
   ]
  },
  {
   "cell_type": "markdown",
   "metadata": {},
   "source": [
    "## Strong recall across all classes and maybe the best balanced classifier in some ways, but not the best f1 weighted"
   ]
  },
  {
   "cell_type": "code",
   "execution_count": null,
   "metadata": {
    "ExecuteTime": {
     "end_time": "2020-04-05T23:26:39.049420Z",
     "start_time": "2020-04-05T23:26:38.636775Z"
    },
    "collapsed": true,
    "scrolled": true
   },
   "outputs": [],
   "source": [
    "from yellowbrick.classifier import ClassificationReport\n",
    "visualizer = ClassificationReport(clf, classes=clf.classes_, support=True)\n",
    "\n",
    "visualizer.fit(X_se, y_se)\n",
    "visualizer.score(X_test, y_test)       \n",
    "visualizer.show()   "
   ]
  },
  {
   "cell_type": "code",
   "execution_count": null,
   "metadata": {
    "ExecuteTime": {
     "end_time": "2020-04-05T23:27:36.103683Z",
     "start_time": "2020-04-05T23:27:34.319398Z"
    },
    "collapsed": true,
    "scrolled": true
   },
   "outputs": [],
   "source": [
    "from yellowbrick.classifier import PrecisionRecallCurve\n",
    "viz = PrecisionRecallCurve(clf)\n",
    "viz.fit(X_se, y_se)\n",
    "viz.score(X_test, y_test)\n",
    "viz.show()"
   ]
  },
  {
   "cell_type": "code",
   "execution_count": null,
   "metadata": {
    "ExecuteTime": {
     "end_time": "2020-04-05T23:27:43.711568Z",
     "start_time": "2020-04-05T23:27:41.646779Z"
    },
    "collapsed": true,
    "scrolled": true
   },
   "outputs": [],
   "source": [
    "viz = PrecisionRecallCurve(\n",
    "    clf, per_class=True, iso_f1_curves=True,\n",
    "    fill_area=False, micro=False, classes=clf.classes_\n",
    ")\n",
    "viz.fit(X_se, y_se)\n",
    "viz.score(X_test, y_test)\n",
    "viz.show()"
   ]
  },
  {
   "cell_type": "code",
   "execution_count": null,
   "metadata": {
    "collapsed": true
   },
   "outputs": [],
   "source": []
  },
  {
   "cell_type": "code",
   "execution_count": null,
   "metadata": {
    "collapsed": true
   },
   "outputs": [],
   "source": []
  },
  {
   "cell_type": "code",
   "execution_count": null,
   "metadata": {
    "collapsed": true
   },
   "outputs": [],
   "source": []
  },
  {
   "cell_type": "markdown",
   "metadata": {},
   "source": [
    "## Lastly, the paper for SMOTE suggests Random Undersampling"
   ]
  },
  {
   "cell_type": "code",
   "execution_count": null,
   "metadata": {
    "ExecuteTime": {
     "end_time": "2020-04-05T23:38:58.724764Z",
     "start_time": "2020-04-05T23:38:56.991413Z"
    },
    "collapsed": true
   },
   "outputs": [],
   "source": [
    "from imblearn.under_sampling import RandomUnderSampler\n",
    "from imblearn.pipeline import Pipeline\n",
    "# define pipeline\n",
    "over = SMOTE(sampling_strategy={2:22731,1:22731,0:22731})\n",
    "under = RandomUnderSampler(sampling_strategy= {2:22731,1:22731,0:22731})\n",
    "steps = [('o', over), ('u', under)]\n",
    "pipeline = Pipeline(steps=steps)\n",
    "# transform the dataset\n",
    "X_ran, y_ran = pipeline.fit_resample(X_train, y_train)"
   ]
  },
  {
   "cell_type": "code",
   "execution_count": null,
   "metadata": {
    "ExecuteTime": {
     "end_time": "2020-04-05T23:39:38.605431Z",
     "start_time": "2020-04-05T23:39:38.260995Z"
    },
    "collapsed": true,
    "scrolled": false
   },
   "outputs": [],
   "source": [
    "from yellowbrick.target import ClassBalance\n",
    "\n",
    "visualizer = ClassBalance(labels=clf.classes_)\n",
    "\n",
    "visualizer.fit(y_ran, y_test)\n",
    "visualizer.show() "
   ]
  },
  {
   "cell_type": "code",
   "execution_count": null,
   "metadata": {
    "ExecuteTime": {
     "end_time": "2020-04-05T23:51:48.792779Z",
     "start_time": "2020-04-05T23:51:45.070508Z"
    },
    "collapsed": true
   },
   "outputs": [],
   "source": [
    "from sklearn.tree import DecisionTreeClassifier\n",
    "clf = DecisionTreeClassifier(random_state=0)\n",
    "clf.fit(X_ran, y_ran)\n",
    "y_pred = clf.predict(X_test)"
   ]
  },
  {
   "cell_type": "markdown",
   "metadata": {},
   "source": [
    "## slightly better performance than smottenn"
   ]
  },
  {
   "cell_type": "code",
   "execution_count": null,
   "metadata": {
    "ExecuteTime": {
     "end_time": "2020-04-05T23:51:49.664450Z",
     "start_time": "2020-04-05T23:51:49.649184Z"
    },
    "collapsed": true
   },
   "outputs": [],
   "source": [
    "from sklearn.metrics import f1_score\n",
    "f1_score(y_test, y_pred, average='weighted')"
   ]
  },
  {
   "cell_type": "markdown",
   "metadata": {},
   "source": [
    "## usual assessment of classes for sampling"
   ]
  },
  {
   "cell_type": "code",
   "execution_count": null,
   "metadata": {
    "ExecuteTime": {
     "end_time": "2020-04-05T23:51:59.539373Z",
     "start_time": "2020-04-05T23:51:59.083940Z"
    },
    "collapsed": true,
    "scrolled": true
   },
   "outputs": [],
   "source": [
    "from yellowbrick.classifier import ClassificationReport\n",
    "visualizer = ClassificationReport(clf, classes=clf.classes_, support=True)\n",
    "\n",
    "visualizer.fit(X_ran, y_ran)\n",
    "visualizer.score(X_test, y_test)       \n",
    "visualizer.show()   "
   ]
  },
  {
   "cell_type": "code",
   "execution_count": null,
   "metadata": {
    "ExecuteTime": {
     "end_time": "2020-04-05T23:52:38.175720Z",
     "start_time": "2020-04-05T23:52:25.571161Z"
    },
    "collapsed": true,
    "scrolled": true
   },
   "outputs": [],
   "source": [
    "viz = PrecisionRecallCurve(\n",
    "    clf, per_class=True, iso_f1_curves=True,\n",
    "    fill_area=False, micro=False, classes=clf.classes_\n",
    ")\n",
    "viz.fit(X_ran, y_ran)\n",
    "viz.score(X_test, y_test)\n",
    "viz.show()"
   ]
  },
  {
   "cell_type": "markdown",
   "metadata": {},
   "source": [
    "# Hyperparamater tuning off Smotek"
   ]
  },
  {
   "cell_type": "code",
   "execution_count": null,
   "metadata": {
    "ExecuteTime": {
     "end_time": "2020-04-05T23:54:57.591795Z",
     "start_time": "2020-04-05T23:52:38.180060Z"
    },
    "collapsed": true
   },
   "outputs": [],
   "source": [
    "classifier = DecisionTreeClassifier(random_state=0)\n",
    "pipe = Pipeline(steps=[('dtree', classifier)])\n",
    "\n",
    "param_grid = {\n",
    "\n",
    "    'dtree__max_depth': [1,2,5],\n",
    "    'dtree__min_samples_split': [1,2,5],\n",
    "    'dtree__min_samples_leaf': [1,4,10],\n",
    "    'dtree__max_features': [None,50,25],\n",
    "    'dtree__class_weight': ['balanced', None]\n",
    "    \n",
    "}\n",
    "search = GridSearchCV(pipe, param_grid, n_jobs=-1, scoring=f1)\n",
    "search.fit(X_ran, y_ran)\n",
    "print(\"Best parameter (CV score=%0.3f):\" % search.best_score_)\n",
    "print(search.best_params_)"
   ]
  },
  {
   "cell_type": "markdown",
   "metadata": {},
   "source": [
    "## Grid search gives rather bad results on f1 weighted again"
   ]
  },
  {
   "cell_type": "code",
   "execution_count": null,
   "metadata": {
    "ExecuteTime": {
     "end_time": "2020-04-05T23:55:54.104199Z",
     "start_time": "2020-04-05T23:55:52.824924Z"
    },
    "collapsed": true
   },
   "outputs": [],
   "source": [
    "smote_d_param = {'class_weight': 'balanced', 'max_depth': 5, 'max_features': None, 'min_samples_leaf': 1, 'min_samples_split': 2}\n",
    "#to account for all classes: {'class_weight': 'balanced', 'max_depth': 5, 'max_features': 50, 'min_samples_leaf': 4, 'min_samples_split': 2}\n",
    "clf = DecisionTreeClassifier(random_state=0, **smote_d_param)\n",
    "clf.fit(X_ran, y_ran)\n",
    "y_pred = clf.predict(X_test)\n"
   ]
  },
  {
   "cell_type": "markdown",
   "metadata": {},
   "source": [
    "## About the same as balanced tends to be"
   ]
  },
  {
   "cell_type": "code",
   "execution_count": null,
   "metadata": {
    "ExecuteTime": {
     "end_time": "2020-04-05T23:55:54.902276Z",
     "start_time": "2020-04-05T23:55:54.884637Z"
    },
    "collapsed": true
   },
   "outputs": [],
   "source": [
    "from sklearn.metrics import f1_score\n",
    "f1_score(y_test, y_pred, average='weighted')"
   ]
  },
  {
   "cell_type": "markdown",
   "metadata": {},
   "source": [
    "## Strong recall across all classes again"
   ]
  },
  {
   "cell_type": "code",
   "execution_count": null,
   "metadata": {
    "ExecuteTime": {
     "end_time": "2020-04-05T23:56:20.795610Z",
     "start_time": "2020-04-05T23:56:20.337899Z"
    },
    "collapsed": true,
    "scrolled": true
   },
   "outputs": [],
   "source": [
    "visualizer = ClassificationReport(clf, classes=clf.classes_, support=True)\n",
    "\n",
    "visualizer.fit(X_ran, y_ran)\n",
    "visualizer.score(X_test, y_test)       \n",
    "visualizer.show()   "
   ]
  },
  {
   "cell_type": "code",
   "execution_count": null,
   "metadata": {
    "ExecuteTime": {
     "end_time": "2020-04-05T23:56:54.590991Z",
     "start_time": "2020-04-05T23:56:49.241764Z"
    },
    "collapsed": true,
    "scrolled": true
   },
   "outputs": [],
   "source": [
    "viz = PrecisionRecallCurve(\n",
    "    clf, per_class=True, iso_f1_curves=True,\n",
    "    fill_area=False, micro=False, classes=clf.classes_\n",
    ")\n",
    "viz.fit(X_ran, y_ran)\n",
    "viz.score(X_test, y_test)\n",
    "viz.show()"
   ]
  },
  {
   "cell_type": "markdown",
   "metadata": {},
   "source": [
    "# TO DO: Pipeline all the PCA, sampling and modeling and tuning and metrics and viz together"
   ]
  },
  {
   "cell_type": "code",
   "execution_count": null,
   "metadata": {
    "collapsed": true
   },
   "outputs": [],
   "source": []
  },
  {
   "cell_type": "code",
   "execution_count": null,
   "metadata": {
    "collapsed": true
   },
   "outputs": [],
   "source": []
  },
  {
   "cell_type": "code",
   "execution_count": null,
   "metadata": {
    "collapsed": true
   },
   "outputs": [],
   "source": []
  },
  {
   "cell_type": "code",
   "execution_count": null,
   "metadata": {
    "collapsed": true
   },
   "outputs": [],
   "source": []
  },
  {
   "cell_type": "code",
   "execution_count": null,
   "metadata": {
    "collapsed": true
   },
   "outputs": [],
   "source": []
  },
  {
   "cell_type": "markdown",
   "metadata": {},
   "source": [
    "# Feature selection - using most important features of lightgbm - should this be done before or after SMOTE? Also, implement simpler methods first, this is cheesy"
   ]
  },
  {
   "cell_type": "code",
   "execution_count": null,
   "metadata": {
    "collapsed": true
   },
   "outputs": [],
   "source": [
    "# from sklearn.feature_selection import SelectFromModel\n",
    "# from lightgbm import LGBMClassifier\n",
    "\n",
    "# lgbc=LGBMClassifier(n_estimators=500, learning_rate=0.05, num_leaves=32, colsample_bytree=0.2,\n",
    "#             reg_alpha=3, reg_lambda=1, min_split_gain=0.01, min_child_weight=40)\n",
    "\n",
    "# embeded_lgb_selector = SelectFromModel(lgbc, max_features=9)\n",
    "# embeded_lgb_selector.fit(X_train_resampled, y_train_resampled)\n",
    "\n",
    "# embeded_lgb_support = embeded_lgb_selector.get_support()\n",
    "# embeded_lgb_feature = X.loc[:,embeded_lgb_support].columns.tolist()\n",
    "# print(str(len(embeded_lgb_feature)), 'selected features')"
   ]
  },
  {
   "cell_type": "code",
   "execution_count": null,
   "metadata": {
    "collapsed": true
   },
   "outputs": [],
   "source": [
    "# embeded_lgb_feature"
   ]
  },
  {
   "cell_type": "markdown",
   "metadata": {},
   "source": [
    "## New X and train test split with SMOTE reduced feature set"
   ]
  },
  {
   "cell_type": "code",
   "execution_count": null,
   "metadata": {
    "collapsed": true
   },
   "outputs": [],
   "source": [
    "# X = X[embeded_lgb_feature]"
   ]
  },
  {
   "cell_type": "code",
   "execution_count": null,
   "metadata": {
    "collapsed": true
   },
   "outputs": [],
   "source": [
    "# X_train, X_test, y_train, y_test = train_test_split(X, y, test_size=0.33, random_state=42)"
   ]
  },
  {
   "cell_type": "code",
   "execution_count": null,
   "metadata": {
    "collapsed": true
   },
   "outputs": [],
   "source": [
    "# from sklearn.preprocessing import MinMaxScaler\n",
    "# scaler = MinMaxScaler()\n",
    "# X_train = scaler.fit_transform(X_train)\n",
    "# X_test = scaler.transform(X_test)"
   ]
  },
  {
   "cell_type": "markdown",
   "metadata": {},
   "source": [
    "## Trees perform better thanks to trees"
   ]
  },
  {
   "cell_type": "code",
   "execution_count": null,
   "metadata": {
    "collapsed": true
   },
   "outputs": [],
   "source": [
    "# from sklearn.tree import DecisionTreeClassifier\n",
    "# clf = DecisionTreeClassifier(random_state=0)\n",
    "# clf.fit(X_train, y_train)\n",
    "# y_pred = clf.predict(X_test)"
   ]
  },
  {
   "cell_type": "code",
   "execution_count": null,
   "metadata": {
    "collapsed": true
   },
   "outputs": [],
   "source": [
    "# from sklearn.metrics import f1_score\n",
    "# f1_score(y_test, y_pred, average='weighted')"
   ]
  },
  {
   "cell_type": "markdown",
   "metadata": {},
   "source": [
    "# Clustering as feeders - need to rewrite most of this to:\n",
    "- Better params for feeder function \n",
    "- Elbow method abstraction\n",
    "## Most importantly, add 'km_cluster' to existing dataframe"
   ]
  },
  {
   "cell_type": "code",
   "execution_count": null,
   "metadata": {
    "ExecuteTime": {
     "end_time": "2020-04-05T19:49:11.305592Z",
     "start_time": "2020-04-05T19:48:47.299677Z"
    },
    "collapsed": true
   },
   "outputs": [],
   "source": [
    "from sklearn.cluster import KMeans\n",
    "wcss = []\n",
    "for i in range(1, 11):\n",
    "    kmeans = KMeans(n_clusters=i, init='k-means++', max_iter=300, n_init=10, random_state=0)\n",
    "    kmeans.fit(X_train)\n",
    "    wcss.append(kmeans.inertia_)\n",
    "plt.plot(range(1, 11), wcss)\n",
    "plt.title('Elbow Method')\n",
    "plt.xlabel('Number of clusters')\n",
    "plt.ylabel('WCSS')\n",
    "plt.show()"
   ]
  },
  {
   "cell_type": "markdown",
   "metadata": {},
   "source": [
    "## Credit to:\n",
    "- https://github.com/mudassirkhan19/cluster-classification/blob/master/Kmeans_classification.ipynb"
   ]
  },
  {
   "cell_type": "code",
   "execution_count": null,
   "metadata": {
    "ExecuteTime": {
     "end_time": "2020-04-05T19:53:15.507244Z",
     "start_time": "2020-04-05T19:53:15.245230Z"
    },
    "collapsed": true
   },
   "outputs": [],
   "source": [
    "\n",
    "class clust():\n",
    "    def _load_data(self, sklearn_load_ds ):\n",
    "        self.X_train, self.X_test, self.y_train, self.y_test = train_test_split(X, y, test_size=0.3, random_state=42)\n",
    "        \n",
    "    def __init__(self, sklearn_load_ds):\n",
    "        self._load_data(sklearn_load_ds)\n",
    "    \n",
    "# =xgb.XGBClassifier(max_depth=5, objective='multi:softmax', n_estimators=100, \n",
    "#                         num_classes=3)):\n",
    "    def classify(self, model):\n",
    "        model.fit(self.X_train, self.y_train)\n",
    "        y_pred = model.predict(self.X_test)\n",
    "        print('f1: {}'.format(f1_score(self.y_test, y_pred, average='weighted')))\n",
    "\n",
    "\n",
    "    def Kmeans(self, output='add'):\n",
    "        n_clusters = 3\n",
    "        len(np.unique(self.y_train))\n",
    "        clf = KMeans(n_clusters = n_clusters, random_state=42)\n",
    "        clf.fit(self.X_train)\n",
    "        y_labels_train = clf.labels_\n",
    "        y_labels_test = clf.predict(self.X_test)\n",
    "        if output == 'add':\n",
    "            self.X_train['km_clust'] = y_labels_train\n",
    "            self.X_test['km_clust'] = y_labels_test\n",
    "        elif output == 'replace':\n",
    "            self.X_train = y_labels_train[:, np.newaxis]\n",
    "            self.X_test = y_labels_test[:, np.newaxis]\n",
    "        else:\n",
    "            raise ValueError('output should be either add or replace')\n",
    "        return self"
   ]
  },
  {
   "cell_type": "markdown",
   "metadata": {},
   "source": [
    "## Slight jump in f1"
   ]
  },
  {
   "cell_type": "code",
   "execution_count": null,
   "metadata": {
    "ExecuteTime": {
     "end_time": "2020-04-05T19:53:26.643120Z",
     "start_time": "2020-04-05T19:53:24.479804Z"
    },
    "collapsed": true,
    "scrolled": true
   },
   "outputs": [],
   "source": [
    "clust(df).Kmeans(output='add').classify(model=DecisionTreeClassifier(random_state=0))"
   ]
  },
  {
   "cell_type": "markdown",
   "metadata": {},
   "source": [
    "## Not much on results, trying HDBSCAN and then DBSCAN and t-SNE"
   ]
  },
  {
   "cell_type": "markdown",
   "metadata": {},
   "source": [
    "## Hdbscan's params should be examined and tuned to see if it gives results - right now it's giving invalid indices/out of range"
   ]
  },
  {
   "cell_type": "code",
   "execution_count": null,
   "metadata": {
    "ExecuteTime": {
     "end_time": "2020-04-05T19:57:49.236616Z",
     "start_time": "2020-04-05T19:53:52.648873Z"
    },
    "collapsed": true
   },
   "outputs": [],
   "source": [
    "# import hdbscan\n",
    "# clusterer = hdbscan.HDBSCAN(min_cluster_size=15, prediction_data=True).fit(X_train)"
   ]
  },
  {
   "cell_type": "code",
   "execution_count": null,
   "metadata": {
    "ExecuteTime": {
     "end_time": "2020-04-05T19:58:36.227186Z",
     "start_time": "2020-04-05T19:57:49.244812Z"
    },
    "collapsed": true
   },
   "outputs": [],
   "source": [
    "# test_labels, strengths = hdbscan.approximate_predict(clusterer, X_test)"
   ]
  },
  {
   "cell_type": "code",
   "execution_count": null,
   "metadata": {
    "ExecuteTime": {
     "end_time": "2020-04-05T19:58:36.249866Z",
     "start_time": "2020-04-05T19:58:36.230645Z"
    },
    "collapsed": true
   },
   "outputs": [],
   "source": [
    "# len(clusterer.labels_)"
   ]
  },
  {
   "cell_type": "code",
   "execution_count": null,
   "metadata": {
    "ExecuteTime": {
     "end_time": "2020-04-05T19:58:36.341422Z",
     "start_time": "2020-04-05T19:58:36.255234Z"
    },
    "collapsed": true
   },
   "outputs": [],
   "source": [
    "# X_train['cluster'] = clusterer.labels_\n",
    "# X_test['cluster'] = test_labels"
   ]
  },
  {
   "cell_type": "code",
   "execution_count": null,
   "metadata": {
    "ExecuteTime": {
     "end_time": "2020-04-05T19:58:36.346126Z",
     "start_time": "2020-04-05T19:53:57.663Z"
    },
    "collapsed": true
   },
   "outputs": [],
   "source": [
    "# X_train.columns"
   ]
  },
  {
   "cell_type": "code",
   "execution_count": null,
   "metadata": {
    "ExecuteTime": {
     "end_time": "2020-04-05T19:58:36.348453Z",
     "start_time": "2020-04-05T19:53:58.199Z"
    },
    "collapsed": true
   },
   "outputs": [],
   "source": [
    "# X_test.columns"
   ]
  },
  {
   "cell_type": "code",
   "execution_count": null,
   "metadata": {
    "ExecuteTime": {
     "end_time": "2020-04-05T19:58:36.351590Z",
     "start_time": "2020-04-05T19:54:00.677Z"
    },
    "collapsed": true
   },
   "outputs": [],
   "source": [
    "# from sklearn.tree import DecisionTreeClassifier\n",
    "# clf = DecisionTreeClassifier(random_state=0)\n",
    "# clf.fit(X_train, y_train)\n",
    "# y_pred = clf.predict(X_test)"
   ]
  },
  {
   "cell_type": "code",
   "execution_count": null,
   "metadata": {
    "ExecuteTime": {
     "end_time": "2020-04-05T19:58:36.354361Z",
     "start_time": "2020-04-05T19:54:01.174Z"
    },
    "collapsed": true
   },
   "outputs": [],
   "source": [
    "# f1_score(y_test, y_pred, average='weighted')"
   ]
  },
  {
   "cell_type": "markdown",
   "metadata": {},
   "source": [
    "# Probably good to visualize these"
   ]
  },
  {
   "cell_type": "code",
   "execution_count": null,
   "metadata": {
    "ExecuteTime": {
     "end_time": "2020-04-05T20:07:25.862603Z",
     "start_time": "2020-04-05T20:07:25.741339Z"
    },
    "collapsed": true
   },
   "outputs": [],
   "source": [
    "# color_palette = sns.color_palette('Paired', 12)\n",
    "# cluster_colors = [color_palette[x] if x >= 0\n",
    "#                   else (0.5, 0.5, 0.5)\n",
    "#                   for x in clusterer.labels_]\n",
    "# cluster_member_colors = [sns.desaturate(x, p) for x, p in\n",
    "#                          zip(cluster_colors, clusterer.probabilities_)]\n",
    "# plt.scatter(*projection.T, s=50, linewidth=0, c=cluster_member_colors, alpha=0.25)"
   ]
  },
  {
   "cell_type": "code",
   "execution_count": null,
   "metadata": {
    "collapsed": true
   },
   "outputs": [],
   "source": []
  },
  {
   "cell_type": "markdown",
   "metadata": {},
   "source": [
    "# Genetic algorithms and bayesian methods for optimization/feature selection or reduction"
   ]
  },
  {
   "cell_type": "markdown",
   "metadata": {},
   "source": [
    "https://towardsdatascience.com/feature-reduction-using-genetic-algorithm-with-python-403a5f4ef0c1"
   ]
  },
  {
   "cell_type": "code",
   "execution_count": null,
   "metadata": {
    "collapsed": true
   },
   "outputs": [],
   "source": [
    "# import numpy\n",
    "# import sklearn.svm\n",
    "\n",
    "\n",
    "# def reduce_features(solution, features):\n",
    "#     '''Gets the reduced features'''\n",
    "#     # gets the indices of solution = 1, or to keep in the model\n",
    "#     selected_elements_indices = numpy.where(solution == 1)[0]\n",
    "    \n",
    "#     #the reduced features derived from the features, only at the selected indices of solution = 1 \n",
    "#     reduced_features = features[:, selected_elements_indices]\n",
    "#     return reduced_features\n",
    "\n",
    "\n",
    "# def classification_accuracy(labels, predictions):\n",
    "    \n",
    "#     #correct where labels are predictions, accuracy is the % of correct ones\n",
    "#     correct = numpy.where(labels == predictions)[0]\n",
    "#     accuracy = correct.shape[0]/labels.shape[0]\n",
    "#     return accuracy\n",
    "\n",
    "\n",
    "# def cal_pop_fitness(pop, features, labels, train_indices, test_indices):\n",
    "#     '''Calculates population fitness\n",
    "#     First, accuracies = 0 multidimensional array of population shape \n",
    "#     Idx = 0, starting index counter \n",
    "#     Goes through population of solutions \n",
    "#     Reduced features = calls reduce_features, getting the indices that have solution 1 by passing in the current solution,\n",
    "#     and giving the features to compare indices to\n",
    "#     classifier is invoked and fitted \n",
    "#     predictions are gathered and accuracy calculated (this could become a paramater of what to base accuracy on,\n",
    "#     I would want weighted f1)\n",
    "#     Go through population of solutions fully\n",
    "#     Return accuracies \n",
    "#     Called in \n",
    "#     #for each generation\n",
    "# for generation in range(num_generations):\n",
    "#     print(\"Generation : \", generation)\n",
    "#     # Measuring the fitness of each chromosome in the population.\n",
    "#     fitness = GA.cal_pop_fitness(new_population, data_inputs, data_outputs, train_indices, test_indices)\n",
    "\n",
    "#     '''\n",
    "#     accuracies = numpy.zeros(pop.shape[0])\n",
    "#     idx = 0\n",
    "\n",
    "#     for curr_solution in pop:\n",
    "#         reduced_features = reduce_features(curr_solution, features)\n",
    "#         train_data = reduced_features[train_indices, :]\n",
    "#         test_data = reduced_features[test_indices, :]\n",
    "\n",
    "#         train_labels = labels[train_indices]\n",
    "#         test_labels = labels[test_indices]\n",
    "\n",
    "#         SV_classifier = sklearn.svm.SVC(gamma='scale')\n",
    "#         SV_classifier.fit(X=train_data, y=train_labels)\n",
    "\n",
    "#         predictions = SV_classifier.predict(test_data)\n",
    "#         accuracies[idx] = classification_accuracy(test_labels, predictions)\n",
    "#         idx = idx + 1\n",
    "#     return accuracies\n",
    "\n",
    "# def select_mating_pool(pop, fitness, num_parents):\n",
    "#     # Selecting the best individuals in the current generation as parents for producing the offspring of the next generation.\n",
    "#     parents = numpy.empty((num_parents, pop.shape[1]))\n",
    "#     for parent_num in range(num_parents):\n",
    "#         max_fitness_idx = numpy.where(fitness == numpy.max(fitness))\n",
    "#         max_fitness_idx = max_fitness_idx[0][0]\n",
    "#         parents[parent_num, :] = pop[max_fitness_idx, :]\n",
    "#         fitness[max_fitness_idx] = -99999999999\n",
    "#     return parents\n",
    "\n",
    "\n",
    "# def crossover(parents, offspring_size):\n",
    "#     offspring = numpy.empty(offspring_size)\n",
    "#     # The point at which crossover takes place between two parents. Usually, it is at the center.\n",
    "#     crossover_point = numpy.uint8(offspring_size[1]/2)\n",
    "\n",
    "#     for k in range(offspring_size[0]):\n",
    "#         # Index of the first parent to mate.\n",
    "#         parent1_idx = k%parents.shape[0]\n",
    "#         # Index of the second parent to mate.\n",
    "#         parent2_idx = (k+1)%parents.shape[0]\n",
    "#         # The new offspring will have its first half of its genes taken from the first parent.\n",
    "#         offspring[k, 0:crossover_point] = parents[parent1_idx, 0:crossover_point]\n",
    "#         # The new offspring will have its second half of its genes taken from the second parent.\n",
    "#         offspring[k, crossover_point:] = parents[parent2_idx, crossover_point:]\n",
    "#     return offspring\n",
    "\n",
    "\n",
    "# def mutation(offspring_crossover, num_mutations=2):\n",
    "#     mutation_idx = numpy.random.randint(low=0, high=offspring_crossover.shape[1], size=num_mutations)\n",
    "#     # Mutation changes a single gene in each offspring randomly.\n",
    "#     for idx in range(offspring_crossover.shape[0]):\n",
    "#         # The random value to be added to the gene.\n",
    "#         offspring_crossover[idx, mutation_idx] = 1 - offspring_crossover[idx, mutation_idx]\n",
    "#     return offspring_crossover"
   ]
  },
  {
   "cell_type": "code",
   "execution_count": null,
   "metadata": {
    "collapsed": true
   },
   "outputs": [],
   "source": [
    "# num_samples = data_inputs.shape[0]\n",
    "# num_feature_elements = data_inputs.shape[1]\n",
    "# train_indices = numpy.arange(1, num_samples, 4)\n",
    "# test_indices = numpy.arange(0, num_samples, 4)\n",
    "# print(\"Number of training samples: \", train_indices.shape[0])\n",
    "# print(\"Number of test samples: \", test_indices.shape[0])\n",
    "\n",
    "# \"\"\"\n",
    "# Genetic algorithm parameters:\n",
    "#     Population size\n",
    "#     Mating pool size\n",
    "#     Number of mutations\n",
    "# \"\"\"\n",
    "\n",
    "# sol_per_pop = 8 # Population size.\n",
    "# num_parents_mating = 4 # Number of parents inside the mating pool.\n",
    "# num_mutations = 3 # Number of elements to mutate.\n",
    "# # Defining the population shape.\n",
    "# pop_shape = (sol_per_pop, num_feature_elements)\n",
    " \n",
    "# # Creating the initial population.\n",
    "# new_population = numpy.random.randint(low=0, high=2, size=pop_shape)\n",
    "# print(new_population.shape)\n",
    " \n",
    "# #holds the best solutions after each generation\n",
    "# best_outputs = []\n",
    "\n",
    "# num_generations = 100"
   ]
  },
  {
   "cell_type": "code",
   "execution_count": null,
   "metadata": {
    "collapsed": true
   },
   "outputs": [],
   "source": [
    "# #for each generation\n",
    "# for generation in range(num_generations):\n",
    "#     print(\"Generation : \", generation)\n",
    "#     # Measuring the fitness of each chromosome in the population.\n",
    "#     fitness = GA.cal_pop_fitness(new_population, data_inputs, data_outputs, train_indices, test_indices)\n",
    "\n",
    "#     #add the best (max numpy) to the best_outputs array\n",
    "#     best_outputs.append(numpy.max(fitness))\n",
    "#     # The best result in the current iteration.\n",
    "#     print(\"Best result : \", best_outputs[-1])\n",
    "\n",
    "#     # Selecting the best parents in the population for mating.\n",
    "#     parents = GA.select_mating_pool(new_population, fitness, num_parents_mating)\n",
    "\n",
    "#     # Generating next generation using crossover.\n",
    "#     offspring_crossover = GA.crossover(parents, offspring_size=(pop_shape[0]-parents.shape[0], num_feature_elements))\n",
    "\n",
    "#     # Adding some variations to the offspring using mutation.\n",
    "#     offspring_mutation = GA.mutation(offspring_crossover, num_mutations=num_mutations)\n",
    "\n",
    "#     # Creating the new population based on the parents and offspring.\n",
    "#     new_population[0:parents.shape[0], :] = parents\n",
    "#     new_population[parents.shape[0]:, :] = offspring_mutation"
   ]
  },
  {
   "cell_type": "code",
   "execution_count": null,
   "metadata": {
    "collapsed": true
   },
   "outputs": [],
   "source": [
    "# fitness = GA.cal_pop_fitness(new_population, data_inputs, data_outputs, train_indices, test_indices)\n",
    "\n",
    "# # Then return the index of that solution corresponding to the best fitness.\n",
    "# best_match_idx = numpy.where(fitness == numpy.max(fitness))[0]\n",
    "# best_match_idx = best_match_idx[0]\n",
    "\n",
    "# best_solution = new_population[best_match_idx, :]\n",
    "# best_solution_indices = numpy.where(best_solution == 1)[0]\n",
    "# best_solution_num_elements = best_solution_indices.shape[0]\n",
    "# best_solution_fitness = fitness[best_match_idx]\n",
    "\n",
    "# print(\"best_match_idx : \", best_match_idx)\n",
    "# print(\"best_solution : \", best_solution)\n",
    "# print(\"Selected indices : \", best_solution_indices)\n",
    "# print(\"Number of selected elements : \", best_solution_num_elements)\n",
    "# print(\"Best solution fitness : \", best_solution_fitness)\n",
    "\n",
    "# matplotlib.pyplot.plot(best_outputs)\n",
    "# matplotlib.pyplot.xlabel(\"Iteration\")\n",
    "# matplotlib.pyplot.ylabel(\"Fitness\")\n",
    "# matplotlib.pyplot.show()"
   ]
  },
  {
   "cell_type": "markdown",
   "metadata": {},
   "source": [
    "## DBSCAN - also needs to be tuned, doesn't have a predictor method here"
   ]
  },
  {
   "cell_type": "code",
   "execution_count": null,
   "metadata": {
    "collapsed": true
   },
   "outputs": [],
   "source": [
    "# from sklearn.cluster import DBSCAN"
   ]
  },
  {
   "cell_type": "code",
   "execution_count": null,
   "metadata": {
    "collapsed": true
   },
   "outputs": [],
   "source": [
    "# db = DBSCAN(eps=0.3, min_samples=10).fit(X_train)\n",
    "# core_samples_mask = np.zeros_like(db.labels_, dtype=bool)\n",
    "# core_samples_mask[db.core_sample_indices_] = True\n",
    "# labels = db.labels_"
   ]
  },
  {
   "cell_type": "code",
   "execution_count": null,
   "metadata": {
    "collapsed": true
   },
   "outputs": [],
   "source": [
    "# db.labels_"
   ]
  },
  {
   "cell_type": "code",
   "execution_count": null,
   "metadata": {
    "collapsed": true
   },
   "outputs": [],
   "source": [
    "# X_train['dbscan'] = db.labels_\n",
    "# X_test['dbscan'] = db.labels_"
   ]
  },
  {
   "cell_type": "code",
   "execution_count": null,
   "metadata": {
    "collapsed": true
   },
   "outputs": [],
   "source": [
    "# X_train.columns"
   ]
  },
  {
   "cell_type": "code",
   "execution_count": null,
   "metadata": {
    "collapsed": true
   },
   "outputs": [],
   "source": [
    "# from sklearn.naive_bayes import GaussianNB\n",
    "# from sklearn.multiclass import OneVsRestClassifier\n",
    "# clf = OneVsRestClassifier(GaussianNB())\n",
    "# clf.fit(X_train, y_train)\n",
    "# y_pred = clf.predict(X_test)"
   ]
  },
  {
   "cell_type": "code",
   "execution_count": null,
   "metadata": {
    "collapsed": true
   },
   "outputs": [],
   "source": [
    "# from sklearn.metrics import f1_score\n",
    "# f1_score(y_test, y_pred, average='weighted')"
   ]
  },
  {
   "cell_type": "code",
   "execution_count": null,
   "metadata": {
    "collapsed": true
   },
   "outputs": [],
   "source": [
    "# from sklearn.metrics import accuracy_score\n",
    "\n",
    "# accuracy_score(y_test,y_pred)"
   ]
  },
  {
   "cell_type": "markdown",
   "metadata": {},
   "source": [
    "# Making blobs and junk because I can't make this classifier more accurate after feature selection: should tune the clustering algorithms more"
   ]
  },
  {
   "cell_type": "code",
   "execution_count": null,
   "metadata": {
    "collapsed": true
   },
   "outputs": [],
   "source": [
    "# from sklearn.datasets import make_blobs\n",
    "# data4 = make_blobs(n_samples=37557, n_features=5, centers=3, cluster_std=2.5, \n",
    "#                    center_box=(0, 10000), shuffle=True, random_state=None)\n",
    "# df4 = pd.DataFrame(data4[0],columns=['x'+str(i) for i in range(1,6)])\n",
    "# df4['status'] = data4[1]\n",
    "\n",
    "# df4.head(20)"
   ]
  },
  {
   "cell_type": "code",
   "execution_count": null,
   "metadata": {
    "collapsed": true,
    "scrolled": true
   },
   "outputs": [],
   "source": [
    "# df.shape"
   ]
  },
  {
   "cell_type": "code",
   "execution_count": null,
   "metadata": {
    "collapsed": true
   },
   "outputs": [],
   "source": [
    "# df4.shape"
   ]
  },
  {
   "cell_type": "code",
   "execution_count": null,
   "metadata": {
    "collapsed": true
   },
   "outputs": [],
   "source": [
    "# df.max(axis=1).max()"
   ]
  },
  {
   "cell_type": "code",
   "execution_count": null,
   "metadata": {
    "collapsed": true
   },
   "outputs": [],
   "source": [
    "# len(df4.columns)"
   ]
  },
  {
   "cell_type": "code",
   "execution_count": null,
   "metadata": {
    "collapsed": true
   },
   "outputs": [],
   "source": [
    "# df['status'].value_counts()"
   ]
  },
  {
   "cell_type": "markdown",
   "metadata": {},
   "source": [
    "# Probably add some feature importance plots and other metrics"
   ]
  },
  {
   "cell_type": "code",
   "execution_count": null,
   "metadata": {
    "collapsed": true
   },
   "outputs": [],
   "source": []
  },
  {
   "cell_type": "markdown",
   "metadata": {},
   "source": [
    "# Code below not being used"
   ]
  },
  {
   "cell_type": "code",
   "execution_count": null,
   "metadata": {
    "collapsed": true
   },
   "outputs": [],
   "source": [
    "# from sklearn.cluster import DBSCAN\n",
    "# from sklearn import metrics\n",
    "# from sklearn.datasets import make_blobs\n",
    "# from sklearn.preprocessing import StandardScaler\n",
    "\n",
    "# # X = StandardScaler().fit_transform(X)\n",
    "\n",
    "# # #############################################################################\n",
    "# # Compute DBSCAN\n",
    "# db = DBSCAN(eps=0.3, min_samples=10).fit(X_train)\n",
    "# core_samples_mask = np.zeros_like(db.labels_, dtype=bool)\n",
    "# core_samples_mask[db.core_sample_indices_] = True\n",
    "# labels = db.labels_\n",
    "\n",
    "# # Number of clusters in labels, ignoring noise if present.\n",
    "# n_clusters_ = len(set(labels)) - (1 if -1 in labels else 0)\n",
    "# n_noise_ = list(labels).count(-1)\n",
    "\n",
    "# print('Estimated number of clusters: %d' % n_clusters_)\n",
    "# print('Estimated number of noise points: %d' % n_noise_)\n",
    "# print(\"Homogeneity: %0.3f\" % metrics.homogeneity_score(y_train, labels))\n",
    "# print(\"Completeness: %0.3f\" % metrics.completeness_score(y_train, labels))\n",
    "# print(\"V-measure: %0.3f\" % metrics.v_measure_score(y_train, labels))\n",
    "# print(\"Adjusted Rand Index: %0.3f\"\n",
    "#       % metrics.adjusted_rand_score(y_train, labels))\n",
    "# print(\"Adjusted Mutual Information: %0.3f\"\n",
    "#       % metrics.adjusted_mutual_info_score(y_train, labels))\n",
    "# print(\"Silhouette Coefficient: %0.3f\"\n",
    "#       % metrics.silhouette_score(X_train, labels))\n",
    "\n",
    "# # #############################################################################"
   ]
  },
  {
   "cell_type": "code",
   "execution_count": null,
   "metadata": {
    "collapsed": true
   },
   "outputs": [],
   "source": [
    "# import matplotlib.pyplot as plt\n",
    "\n",
    "# # Black removed and is used for noise instead.\n",
    "# unique_labels = set(labels)\n",
    "# colors = [plt.cm.Spectral(each)\n",
    "#           for each in np.linspace(0, 1, len(unique_labels))]\n",
    "# for k, col in zip(unique_labels, colors):\n",
    "#     if k == -1:\n",
    "#         # Black used for noise.\n",
    "#         col = [0, 0, 0, 1]\n",
    "\n",
    "#     class_member_mask = (labels == k)\n",
    "\n",
    "#     xy = X_train[class_member_mask & core_samples_mask]\n",
    "#     plt.plot(xy[:, 0], xy[:, 1], 'o', markerfacecolor=tuple(col),\n",
    "#              markeredgecolor='k', markersize=14)\n",
    "\n",
    "#     xy = X[class_member_mask & ~core_samples_mask]\n",
    "#     plt.plot(xy[:, 0], xy[:, 1], 'o', markerfacecolor=tuple(col),\n",
    "#              markeredgecolor='k', markersize=6)\n",
    "\n",
    "# plt.title('Estimated number of clusters: %d' % n_clusters_)\n",
    "# plt.show()"
   ]
  },
  {
   "cell_type": "code",
   "execution_count": null,
   "metadata": {
    "collapsed": true
   },
   "outputs": [],
   "source": [
    "# from collections import Counter\n",
    "# data = X_train.iloc[:, 0:1].values\n",
    "\n",
    "# outlier_df = pd.DataFrame(X_train)\n",
    "\n",
    "# # Printing total number of values for each label\n",
    "# print(Counter(db.labels_))\n",
    "\n",
    "# # Printing DataFrame being considered as Outliers -1\n",
    "# print(outlier_df[db.labels_ == -1])\n",
    "\n",
    "# # Printing and Indicating which type of object outlier_df is\n",
    "# print(type(db))\n"
   ]
  },
  {
   "cell_type": "code",
   "execution_count": null,
   "metadata": {
    "collapsed": true
   },
   "outputs": [],
   "source": []
  }
 ],
 "metadata": {
  "anaconda-cloud": {},
  "kernelspec": {
   "display_name": "Python [conda env:learn-env]",
   "language": "python",
   "name": "conda-env-learn-env-py"
  },
  "language_info": {
   "codemirror_mode": {
    "name": "ipython",
    "version": 3
   },
   "file_extension": ".py",
   "mimetype": "text/x-python",
   "name": "python",
   "nbconvert_exporter": "python",
   "pygments_lexer": "ipython3",
   "version": "3.6.9"
  },
  "toc": {
   "base_numbering": 1,
   "nav_menu": {},
   "number_sections": true,
   "sideBar": true,
   "skip_h1_title": false,
   "title_cell": "Table of Contents",
   "title_sidebar": "Contents",
   "toc_cell": true,
   "toc_position": {},
   "toc_section_display": true,
   "toc_window_display": true
  }
 },
 "nbformat": 4,
 "nbformat_minor": 2
}
