{
 "cells": [
  {
   "cell_type": "code",
   "execution_count": 1,
   "metadata": {
    "collapsed": true
   },
   "outputs": [],
   "source": [
    "import numpy as np \n",
    "import pandas as pd \n",
    "import matplotlib.pyplot as plt \n",
    "import seaborn as sns"
   ]
  },
  {
   "cell_type": "code",
   "execution_count": 2,
   "metadata": {
    "collapsed": true
   },
   "outputs": [],
   "source": [
    "import tensorflow as tf"
   ]
  },
  {
   "cell_type": "code",
   "execution_count": 3,
   "metadata": {
    "collapsed": true
   },
   "outputs": [],
   "source": [
    "tf.keras.backend.clear_session()"
   ]
  },
  {
   "cell_type": "code",
   "execution_count": 4,
   "metadata": {
    "collapsed": true
   },
   "outputs": [],
   "source": [
    "#Configure the model\n",
    "model = tf.keras.models.Sequential([tf.keras.layers.Flatten(), \n",
    "                                    tf.keras.layers.Dense(128, activation=tf.nn.relu), \n",
    "                                    tf.keras.layers.Dense(64, activation=tf.nn.relu), \n",
    "                                    tf.keras.layers.Dense(32, activation=tf.nn.relu), \n",
    "                                    tf.keras.layers.Dense(10, activation=tf.nn.softmax)])"
   ]
  },
  {
   "cell_type": "code",
   "execution_count": null,
   "metadata": {
    "collapsed": true
   },
   "outputs": [],
   "source": []
  },
  {
   "cell_type": "code",
   "execution_count": 5,
   "metadata": {
    "collapsed": false
   },
   "outputs": [],
   "source": [
    "model.compile(loss='sparse_categorical_crossentropy',optimizer='adam',metrics=['accuracy'])"
   ]
  },
  {
   "cell_type": "code",
   "execution_count": 6,
   "metadata": {
    "collapsed": false
   },
   "outputs": [
    {
     "data": {
      "text/html": [
       "<div>\n",
       "<style scoped>\n",
       "    .dataframe tbody tr th:only-of-type {\n",
       "        vertical-align: middle;\n",
       "    }\n",
       "\n",
       "    .dataframe tbody tr th {\n",
       "        vertical-align: top;\n",
       "    }\n",
       "\n",
       "    .dataframe thead th {\n",
       "        text-align: right;\n",
       "    }\n",
       "</style>\n",
       "<table border=\"1\" class=\"dataframe\">\n",
       "  <thead>\n",
       "    <tr style=\"text-align: right;\">\n",
       "      <th></th>\n",
       "      <th>funding_total_usd</th>\n",
       "      <th>status</th>\n",
       "      <th>funding_rounds</th>\n",
       "      <th>seed</th>\n",
       "      <th>venture</th>\n",
       "      <th>equity_crowdfunding</th>\n",
       "      <th>undisclosed</th>\n",
       "      <th>convertible_note</th>\n",
       "      <th>debt_financing</th>\n",
       "      <th>angel</th>\n",
       "      <th>...</th>\n",
       "      <th>Toronto</th>\n",
       "      <th>Washington, D.C.</th>\n",
       "      <th>per_round</th>\n",
       "      <th>funding_types</th>\n",
       "      <th>funding_minus_start</th>\n",
       "      <th>funding_minus_startA</th>\n",
       "      <th>funding_minus_start_seed</th>\n",
       "      <th>funding_plus_start</th>\n",
       "      <th>funding_plus_startA</th>\n",
       "      <th>funding_plus_start_seed</th>\n",
       "    </tr>\n",
       "  </thead>\n",
       "  <tbody>\n",
       "    <tr>\n",
       "      <td>0</td>\n",
       "      <td>1750000</td>\n",
       "      <td>2</td>\n",
       "      <td>1.0</td>\n",
       "      <td>1750000.0</td>\n",
       "      <td>0.0</td>\n",
       "      <td>0.0</td>\n",
       "      <td>0.0</td>\n",
       "      <td>0.0</td>\n",
       "      <td>0.0</td>\n",
       "      <td>0.0</td>\n",
       "      <td>...</td>\n",
       "      <td>0</td>\n",
       "      <td>0</td>\n",
       "      <td>1750000.0</td>\n",
       "      <td>1750000.0</td>\n",
       "      <td>1750000.0</td>\n",
       "      <td>1750000.0</td>\n",
       "      <td>0.0</td>\n",
       "      <td>1750000.0</td>\n",
       "      <td>1750000.0</td>\n",
       "      <td>3500000.0</td>\n",
       "    </tr>\n",
       "    <tr>\n",
       "      <td>1</td>\n",
       "      <td>40000</td>\n",
       "      <td>1</td>\n",
       "      <td>1.0</td>\n",
       "      <td>40000.0</td>\n",
       "      <td>0.0</td>\n",
       "      <td>0.0</td>\n",
       "      <td>0.0</td>\n",
       "      <td>0.0</td>\n",
       "      <td>0.0</td>\n",
       "      <td>0.0</td>\n",
       "      <td>...</td>\n",
       "      <td>0</td>\n",
       "      <td>0</td>\n",
       "      <td>40000.0</td>\n",
       "      <td>40000.0</td>\n",
       "      <td>40000.0</td>\n",
       "      <td>40000.0</td>\n",
       "      <td>0.0</td>\n",
       "      <td>40000.0</td>\n",
       "      <td>40000.0</td>\n",
       "      <td>80000.0</td>\n",
       "    </tr>\n",
       "    <tr>\n",
       "      <td>2</td>\n",
       "      <td>1500000</td>\n",
       "      <td>1</td>\n",
       "      <td>1.0</td>\n",
       "      <td>1500000.0</td>\n",
       "      <td>0.0</td>\n",
       "      <td>0.0</td>\n",
       "      <td>0.0</td>\n",
       "      <td>0.0</td>\n",
       "      <td>0.0</td>\n",
       "      <td>0.0</td>\n",
       "      <td>...</td>\n",
       "      <td>0</td>\n",
       "      <td>0</td>\n",
       "      <td>1500000.0</td>\n",
       "      <td>1500000.0</td>\n",
       "      <td>1500000.0</td>\n",
       "      <td>1500000.0</td>\n",
       "      <td>0.0</td>\n",
       "      <td>1500000.0</td>\n",
       "      <td>1500000.0</td>\n",
       "      <td>3000000.0</td>\n",
       "    </tr>\n",
       "    <tr>\n",
       "      <td>3</td>\n",
       "      <td>60000</td>\n",
       "      <td>1</td>\n",
       "      <td>2.0</td>\n",
       "      <td>0.0</td>\n",
       "      <td>0.0</td>\n",
       "      <td>60000.0</td>\n",
       "      <td>0.0</td>\n",
       "      <td>0.0</td>\n",
       "      <td>0.0</td>\n",
       "      <td>0.0</td>\n",
       "      <td>...</td>\n",
       "      <td>0</td>\n",
       "      <td>0</td>\n",
       "      <td>30000.0</td>\n",
       "      <td>0.0</td>\n",
       "      <td>60000.0</td>\n",
       "      <td>60000.0</td>\n",
       "      <td>60000.0</td>\n",
       "      <td>60000.0</td>\n",
       "      <td>60000.0</td>\n",
       "      <td>60000.0</td>\n",
       "    </tr>\n",
       "    <tr>\n",
       "      <td>4</td>\n",
       "      <td>2000000</td>\n",
       "      <td>1</td>\n",
       "      <td>1.0</td>\n",
       "      <td>0.0</td>\n",
       "      <td>2000000.0</td>\n",
       "      <td>0.0</td>\n",
       "      <td>0.0</td>\n",
       "      <td>0.0</td>\n",
       "      <td>0.0</td>\n",
       "      <td>0.0</td>\n",
       "      <td>...</td>\n",
       "      <td>0</td>\n",
       "      <td>0</td>\n",
       "      <td>2000000.0</td>\n",
       "      <td>2000000.0</td>\n",
       "      <td>1999999.0</td>\n",
       "      <td>0.0</td>\n",
       "      <td>2000000.0</td>\n",
       "      <td>2000001.0</td>\n",
       "      <td>4000000.0</td>\n",
       "      <td>2000000.0</td>\n",
       "    </tr>\n",
       "  </tbody>\n",
       "</table>\n",
       "<p>5 rows × 105 columns</p>\n",
       "</div>"
      ],
      "text/plain": [
       "   funding_total_usd  status  funding_rounds       seed    venture  \\\n",
       "0            1750000       2             1.0  1750000.0        0.0   \n",
       "1              40000       1             1.0    40000.0        0.0   \n",
       "2            1500000       1             1.0  1500000.0        0.0   \n",
       "3              60000       1             2.0        0.0        0.0   \n",
       "4            2000000       1             1.0        0.0  2000000.0   \n",
       "\n",
       "   equity_crowdfunding  undisclosed  convertible_note  debt_financing  angel  \\\n",
       "0                  0.0          0.0               0.0             0.0    0.0   \n",
       "1                  0.0          0.0               0.0             0.0    0.0   \n",
       "2                  0.0          0.0               0.0             0.0    0.0   \n",
       "3              60000.0          0.0               0.0             0.0    0.0   \n",
       "4                  0.0          0.0               0.0             0.0    0.0   \n",
       "\n",
       "   ...  Toronto  Washington, D.C.  per_round  funding_types  \\\n",
       "0  ...        0                 0  1750000.0      1750000.0   \n",
       "1  ...        0                 0    40000.0        40000.0   \n",
       "2  ...        0                 0  1500000.0      1500000.0   \n",
       "3  ...        0                 0    30000.0            0.0   \n",
       "4  ...        0                 0  2000000.0      2000000.0   \n",
       "\n",
       "   funding_minus_start  funding_minus_startA  funding_minus_start_seed  \\\n",
       "0            1750000.0             1750000.0                       0.0   \n",
       "1              40000.0               40000.0                       0.0   \n",
       "2            1500000.0             1500000.0                       0.0   \n",
       "3              60000.0               60000.0                   60000.0   \n",
       "4            1999999.0                   0.0                 2000000.0   \n",
       "\n",
       "   funding_plus_start  funding_plus_startA  funding_plus_start_seed  \n",
       "0           1750000.0            1750000.0                3500000.0  \n",
       "1             40000.0              40000.0                  80000.0  \n",
       "2           1500000.0            1500000.0                3000000.0  \n",
       "3             60000.0              60000.0                  60000.0  \n",
       "4           2000001.0            4000000.0                2000000.0  \n",
       "\n",
       "[5 rows x 105 columns]"
      ]
     },
     "execution_count": 6,
     "metadata": {},
     "output_type": "execute_result"
    }
   ],
   "source": [
    "df = pd.read_csv('cleaned_crunshbase.csv')\n",
    "\n",
    "df.head()"
   ]
  },
  {
   "cell_type": "code",
   "execution_count": 7,
   "metadata": {
    "collapsed": false
   },
   "outputs": [
    {
     "data": {
      "text/plain": [
       "0        2\n",
       "1        1\n",
       "2        1\n",
       "3        1\n",
       "4        1\n",
       "        ..\n",
       "34775    1\n",
       "34776    1\n",
       "34777    1\n",
       "34778    1\n",
       "34779    1\n",
       "Name: status, Length: 34780, dtype: int64"
      ]
     },
     "execution_count": 7,
     "metadata": {},
     "output_type": "execute_result"
    }
   ],
   "source": [
    "df.status"
   ]
  },
  {
   "cell_type": "code",
   "execution_count": 8,
   "metadata": {
    "collapsed": true
   },
   "outputs": [],
   "source": [
    "from sklearn.model_selection import train_test_split\n",
    "X = df.drop('status',axis=1)\n",
    "y = df['status']\n",
    "\n",
    "X_train, X_test, y_train, y_test = train_test_split(\n",
    "X, y, test_size=0.33, random_state=42)"
   ]
  },
  {
   "cell_type": "code",
   "execution_count": 9,
   "metadata": {
    "collapsed": true
   },
   "outputs": [],
   "source": [
    "from sklearn import preprocessing\n",
    "min_max_scaler = preprocessing.MinMaxScaler()\n",
    "X_train_minmax = min_max_scaler.fit_transform(X_train)\n",
    "X_test_minmax = min_max_scaler.transform(X_test)"
   ]
  },
  {
   "cell_type": "code",
   "execution_count": 10,
   "metadata": {
    "collapsed": false
   },
   "outputs": [
    {
     "name": "stdout",
     "output_type": "stream",
     "text": [
      "Train on 23302 samples\n",
      "Epoch 1/10\n",
      "23302/23302 [==============================] - 2s 103us/sample - loss: 0.4333 - accuracy: 0.8657\n",
      "Epoch 2/10\n",
      "23302/23302 [==============================] - 2s 64us/sample - loss: 0.3642 - accuracy: 0.8707\n",
      "Epoch 3/10\n",
      "23302/23302 [==============================] - 2s 65us/sample - loss: 0.3576 - accuracy: 0.8714\n",
      "Epoch 4/10\n",
      "23302/23302 [==============================] - 2s 65us/sample - loss: 0.3521 - accuracy: 0.8727\n",
      "Epoch 5/10\n",
      "23302/23302 [==============================] - 1s 63us/sample - loss: 0.3467 - accuracy: 0.8727\n",
      "Epoch 6/10\n",
      "23302/23302 [==============================] - 2s 67us/sample - loss: 0.3412 - accuracy: 0.8751\n",
      "Epoch 7/10\n",
      "23302/23302 [==============================] - 2s 66us/sample - loss: 0.3349 - accuracy: 0.8777\n",
      "Epoch 8/10\n",
      "23302/23302 [==============================] - 2s 71us/sample - loss: 0.3279 - accuracy: 0.8797\n",
      "Epoch 9/10\n",
      "23302/23302 [==============================] - 2s 72us/sample - loss: 0.3219 - accuracy: 0.8804\n",
      "Epoch 10/10\n",
      "23302/23302 [==============================] - 2s 76us/sample - loss: 0.3140 - accuracy: 0.8842\n"
     ]
    },
    {
     "data": {
      "text/plain": [
       "<tensorflow.python.keras.callbacks.History at 0x1446670b8>"
      ]
     },
     "execution_count": 10,
     "metadata": {},
     "output_type": "execute_result"
    }
   ],
   "source": [
    "model.fit(X_train_minmax, y_train.values, epochs=10)"
   ]
  },
  {
   "cell_type": "code",
   "execution_count": 11,
   "metadata": {
    "collapsed": false
   },
   "outputs": [
    {
     "name": "stdout",
     "output_type": "stream",
     "text": [
      "11478/11478 [==============================] - 0s 25us/sample - loss: 0.3862 - accuracy: 0.8649\n",
      "test loss, test acc: [0.3862472563218647, 0.8648719]\n"
     ]
    }
   ],
   "source": [
    "results = model.evaluate(X_test_minmax, y_test, batch_size=128)\n",
    "print('test loss, test acc:', results)"
   ]
  },
  {
   "cell_type": "code",
   "execution_count": null,
   "metadata": {
    "collapsed": true
   },
   "outputs": [],
   "source": []
  }
 ],
 "metadata": {
  "anaconda-cloud": {},
  "kernelspec": {
   "display_name": "Python [conda env:learn-env]",
   "language": "python",
   "name": "conda-env-learn-env-py"
  },
  "language_info": {
   "codemirror_mode": {
    "name": "ipython",
    "version": 3
   },
   "file_extension": ".py",
   "mimetype": "text/x-python",
   "name": "python",
   "nbconvert_exporter": "python",
   "pygments_lexer": "ipython3",
   "version": "3.6.9"
  }
 },
 "nbformat": 4,
 "nbformat_minor": 2
}
